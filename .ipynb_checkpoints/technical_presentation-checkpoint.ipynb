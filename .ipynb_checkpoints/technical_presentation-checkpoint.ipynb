{
 "cells": [
  {
   "cell_type": "markdown",
   "metadata": {
    "id": "5RposALrGWrw"
   },
   "source": [
    "# BUSINESS UNDERSTANDING"
   ]
  },
  {
   "cell_type": "markdown",
   "metadata": {
    "id": "ZmV0YrF0GWrz"
   },
   "source": [
    "## MAIN OBJECTIVE"
   ]
  },
  {
   "cell_type": "markdown",
   "metadata": {
    "id": "ZijwiZOkGWrz"
   },
   "source": [
    "Predict the primary contributory cause of a car accident, given information about the car, the people in the car, the road and weather conditions."
   ]
  },
  {
   "cell_type": "markdown",
   "metadata": {
    "id": "UeBNrNfOGWrz"
   },
   "source": [
    "### **Reason**"
   ]
  },
  {
   "cell_type": "markdown",
   "metadata": {
    "id": "0eXOYLezGWr0"
   },
   "source": [
    "#### **Improving Road Safety** – Identifying key factors that contribute to accidents can help traffic authorities take preventive measures.\n",
    "\n",
    "#### **Assisting Insurance and Law Enforcement** – Automated accident cause prediction can assist in claims processing and accident investigations.\n",
    "\n",
    "#### **Enhancing Autonomous Vehicles** – Understanding accident causes can help improve AI models for self-driving cars to avoid risky situations.\n",
    "\n",
    "#### **Data-Driven Decision Making** – Analyzing accident data can lead to better infrastructure planning, traffic regulations, and awareness campaigns.\n",
    "\n",
    "#### **Reducing Human Error** – Many accidents are due to driver mistakes; predicting causes can help design better driver-assist systems.\n"
   ]
  },
  {
   "cell_type": "markdown",
   "metadata": {
    "id": "46-LhtM-GWr0"
   },
   "source": [
    "## KEY BUSINESS QUESTIONS"
   ]
  },
  {
   "cell_type": "markdown",
   "metadata": {
    "id": "XR69RQuKGWr1"
   },
   "source": [
    "### What are the most common contributory causes of car accidents?\n",
    "\n",
    "### How do road and weather conditions impact the likelihood of different accident causes?\n",
    "\n",
    "### Do certain car models or vehicle types have a higher risk of specific accident causes?\n",
    "\n",
    "### Is blood alcohol content a major factor in accident occurence?\n",
    "\n",
    "### How do the above factors correlate with accident causes?\n",
    "\n",
    "### What machine learning techniques are most effective for accident cause prediction?"
   ]
  },
  {
   "cell_type": "markdown",
   "metadata": {
    "id": "ZD3rj3S0GWr1"
   },
   "source": [
    "## SUCCESS CRITERIA."
   ]
  },
  {
   "cell_type": "markdown",
   "metadata": {
    "id": "pEKlsqdZGWr2"
   },
   "source": [
    "### Identify which factors (car conditions, driver behavior, road, or weather) contribute most to accidents.\n",
    "\n",
    "### Evaluate different classification models to determine the most effective for predicting accident causes.\n",
    "\n",
    "### Ability to deploy the model for real-time accident cause predictions.\n",
    "\n",
    "### Analyze how accident causes vary by different factors."
   ]
  },
  {
   "cell_type": "markdown",
   "metadata": {
    "id": "pRphzQ2BGWr2"
   },
   "source": [
    "## Technologies To Be Applied"
   ]
  },
  {
   "cell_type": "markdown",
   "metadata": {
    "id": "ikC6xDopGWr2"
   },
   "source": [
    "1. **Python (Jupyter Notebook)** - for data understanding and data cleaning.\n",
    "2. **GitHub** -  to store my work as an accessible repository\n",
    "3. **MS-Powerpoint** - -This will be used to present my work"
   ]
  },
  {
   "cell_type": "markdown",
   "metadata": {
    "id": "hO-iK_JgGWr2"
   },
   "source": [
    "# DATA UNDERSTANDING"
   ]
  },
  {
   "cell_type": "markdown",
   "metadata": {
    "id": "EdGpZgSxGWr3"
   },
   "source": [
    "## DATA SOURCE"
   ]
  },
  {
   "cell_type": "markdown",
   "metadata": {
    "id": "gal5vJXLGWr3"
   },
   "source": [
    "The data was obtained from Chicago Data Portal :https://data.cityofchicago.org/. Data used are:\n",
    "1. Traffic crashes- Crashes.\n",
    "2. Traffic Crashes - Vehicles.\n",
    "3. Traffic Crashes - People."
   ]
  },
  {
   "cell_type": "markdown",
   "metadata": {
    "id": "EqXx_G9mGWr3"
   },
   "source": [
    "## OVERVIEW"
   ]
  },
  {
   "cell_type": "markdown",
   "metadata": {
    "id": "vk5WnnY3GWr3"
   },
   "source": [
    "### CRASH DATA\n",
    "Crash data shows information about each traffic crash on city streets within the City of Chicago limits and under the jurisdiction of Chicago Police Department (CPD). Data are shown as is from the electronic crash reporting system (E-Crash) at CPD, excluding any personally identifiable information. Records are added to the data portal when a crash report is finalized or when amendments are made to an existing report in E-Crash. D\n",
    "\n",
    "As per Illinois statute, only crashes with a property damage value of $1,500 or more or involving bodily injury to any person(s) and that happen on a public roadway and that involve at least one moving vehicle, except bike dooring, are considered reportable crashes. However, CPD records every reported traffic crash event, regardless of the statute of limitations, and hence any formal Chicago crash dataset released by Illinois Department of Transportation may not include all the crashes listed here.\n",
    "\n",
    "The column names are:\n",
    "\n",
    "1. **CRASH_RECORD_ID**\n",
    "This number can be used to link to the same crash in the Vehicles and People datasets. This number also serves as a unique ID in this dataset.\n",
    "\n",
    "2. **FIRST_CRASH_TYPE**\n",
    "Type of first collision in crash.\n",
    "\n",
    "3. **TRAFFICWAY_TYPE**\n",
    "Trafficway type, as determined by reporting officer.\n",
    "\n",
    "4. **LANE_CNT**\n",
    "Total number of through lanes in either direction, excluding turn lanes, as determined by reporting officer (0 = intersection).\n",
    "\n",
    "5. **ALIGNMENT**\n",
    "Street alignment at crash location, as determined by reporting officer.\n",
    "\n",
    "6. **ROADWAY_SURFACE_COND**\n",
    "Road surface condition, as determined by reporting officer.\n",
    "\n",
    "7. **CRASH_TYPE**\n",
    "A general severity classification for the crash. Can be either Injury and/or Tow Due to Crash or No Injury / Drive Away.\n",
    "\n",
    "8. **INTERSECTION_RELATED_I**\n",
    "A field observation by the police officer whether an intersection played a role in the crash. Does not represent whether or not the crash occurred within the intersection.\n",
    "\n",
    "9. **NOT_RIGHT_OF_WAY_I**\n",
    "Whether the crash begun or first contact was made outside of the public right-of-way.\n",
    "\n",
    "10. **HIT_AND_RUN_I**\n",
    "Crash did/did not involve a driver who caused the crash and fled the scene without exchanging information and/or rendering aid.\n",
    "\n",
    "11. **DAMAGE**\n",
    "A field observation of estimated damage.\n",
    "\n",
    "12. **DATE_POLICE_NOTIFIED**\n",
    "Calendar date on which police were notified of the crash.\n",
    "\n",
    "13. **PRIM_CONTRIBUTORY_CAUSE**\n",
    "The factor which was most significant in causing the crash, as determined by officer judgment\n",
    "\n",
    "14. **SEC_CONTRIBUTORY_CAUSE**\n",
    "The factor which was second most significant in causing the crash, as determined by officer judgment.\n",
    "\n",
    "15. **STREET_NO**\n",
    "Street address number of crash location, as determined by reporting officer.\n",
    "\n",
    "16. **STREET_DIRECTION**\n",
    "Street address direction (N,E,S,W) of crash location, as determined by reporting officer.\n",
    "\n",
    "17. **STREET_NAME**\n",
    "Street address name of crash location, as determined by reporting officer.\n",
    "\n",
    "18. **BEAT_OF_OCCURRENCE**\n",
    "Chicago Police Department Beat ID. Boundaries available at https://data.cityofchicago.org/d/aerh-rz74.\n",
    "\n",
    "19. **PHOTOS_TAKEN_I**\n",
    "Whether the Chicago Police Department took photos at the location of the crash.\n",
    "\n",
    "20. **CRASH_DATE_EST_I**\n",
    "Crash date estimated by desk officer or reporting party (only used in cases where crash is reported at police station days after the crash).\n",
    "\n",
    "21. **STATEMENTS_TAKEN_I**\n",
    "Whether statements were taken from unit(s) involved in crash.\n",
    "\n",
    "22. **DOORING_I**\n",
    "Whether crash involved a motor vehicle occupant opening a door into the travel path of a bicyclist, causing a crash.\n",
    "\n",
    "23. **WORK_ZONE_I**\n",
    "Whether the crash occurred in an active work zone.\n",
    "\n",
    "24. **WORK_ZONE_TYPE**\n",
    "The type of work zone, if any.\n",
    "\n",
    "25. **WORKERS_PRESENT_I**\n",
    "Whether construction workers were present in an active work zone at crash location.\n",
    "\n",
    "26. **NUM_UNITS**\n",
    "Number of units involved in the crash. A unit can be a motor vehicle, a pedestrian, a bicyclist, or another non-passenger roadway user. Each unit represents a mode of traffic with an independent trajectory.\n",
    "\n",
    "27. **MOST_SEVERE_INJURY**\n",
    "Most severe injury sustained by any person involved in the crash.\n",
    "\n",
    "28. **INJURIES_TOTAL**\n",
    "Total persons sustaining fatal, incapacitating, non-incapacitating, and possible injuries as determined by the reporting officer.\n",
    "\n",
    "29. **INJURIES_FATAL**\n",
    "Total persons sustaining fatal injuries in the crash.\n",
    "\n",
    "30. **INJURIES_INCAPACITATING**\n",
    "Total persons sustaining incapacitating/serious injuries in the crash as determined by the reporting officer. Any injury other than fatal injury, which prevents the injured person from walking, driving, or normally continuing the activities they were capable of performing before the injury occurred. Includes severe lacerations, broken limbs, skull or chest injuries, and abdominal injuries.\n",
    "\n",
    "31. **CRASH_DATE**\n",
    "Date and time of crash as entered by the reporting officer.\n",
    "\n",
    "32. **INJURIES_NON_INCAPACITATING**\n",
    "Total persons sustaining non-incapacitating injuries in the crash as determined by the reporting officer. Any injury, other than fatal or incapacitating injury, which is evident to observers at the scene of the crash. Includes lump on head, abrasions, bruises, and minor lacerations.\n",
    "\n",
    "33. **INJURIES_REPORTED_NOT_EVIDENT**\n",
    "Total persons sustaining possible injuries in the crash as determined by the reporting officer. Includes momentary unconsciousness, claims of injuries not evident, limping, complaint of pain, nausea, and hysteria.\n",
    "\n",
    "34. **INJURIES_NO_INDICATION**\n",
    "Total persons sustaining no injuries in the crash as determined by the reporting officer.\n",
    "\n",
    "35. **INJURIES_UNKNOWN**\n",
    "Total persons for whom injuries sustained, if any, are unknown.\n",
    "\n",
    "36. **CRASH_HOUR**\n",
    "The hour of the day component of CRASH_DATE.\n",
    "\n",
    "37. **CRASH_DAY_OF_WEEK**\n",
    "The day of the week component of CRASH_DATE. Sunday=1\n",
    "\n",
    "38. **CRASH_MONTH**\n",
    "The month component of CRASH_DATE.\n",
    "\n",
    "39. **LATITUDE**\n",
    "The latitude of the crash location, as determined by reporting officer, as derived from the reported address of crash.\n",
    "\n",
    "40. **LONGITUDE**\n",
    "The longitude of the crash location, as determined by reporting officer, as derived from the reported address of crash.\n",
    "\n",
    "41. **LOCATION**\n",
    "The crash location, as determined by reporting officer, as derived from the reported address of crash, in a column type that allows for mapping and other geographic analysis in the data portal software.\n",
    "\n",
    "42. **POSTED_SPEED_LIMIT**\n",
    "Posted speed limit, as determined by reporting officer.\n",
    "\n",
    "43. **TRAFFIC_CONTROL_DEVICE**\n",
    "Traffic control device present at crash location, as determined by reporting officer.\n",
    "\n",
    "44. **DEVICE_CONDITION**\n",
    "Condition of traffic control device, as determined by reporting officer.\n",
    "\n",
    "45. **WEATHER_CONDITION**\n",
    "Weather condition at time of crash, as determined by reporting officer.\n",
    "\n",
    "46. **LIGHTING_CONDITION**\n",
    "Light condition at time of crash, as determined by reporting officer.\n",
    "\n",
    "47. **ROAD_DEFECT**\n",
    "Road defects, as determined by reporting officer.\n",
    "\n",
    "48. **REPORT_TYPE**\n",
    "Administrative report type (at scene, at desk, amended).\n",
    "\n",
    "### PEOPLE DATA\n",
    "This data contains information about people involved in a crash and if any injuries were sustained. This dataset should be used in combination with the traffic Crash and Vehicle dataset. Each record corresponds to an occupant in a vehicle listed in the Crash dataset. Some people involved in a crash may not have been an occupant in a motor vehicle, but may have been a pedestrian, bicyclist, or using another non-motor vehicle mode of transportation.\n",
    "\n",
    "The column names are:\n",
    "\n",
    "1. **PERSON_ID**\n",
    "A unique identifier for each person record. IDs starting with P indicate passengers. IDs starting with O indicate a person who was not a passenger in the vehicle (e.g., driver, pedestrian, cyclist, etc.).\n",
    "\n",
    "2. **PERSON_TYPE**\n",
    "Type of roadway user involved in crash\n",
    "\n",
    "3. **CRASH_RECORD_ID**\n",
    "This number can be used to link to the same crash in the Crashes and Vehicles datasets. This number also serves as a unique ID in the Crashes dataset.\n",
    "\n",
    "4. **VEHICLE_ID**\n",
    "The corresponding CRASH_UNIT_ID from the Vehicles dataset.\n",
    "\n",
    "5. **CRASH_DATE**\n",
    "Date and time of crash as entered by the reporting officer\n",
    "\n",
    "6. **SEAT_NO**\n",
    "Code for seating position of motor vehicle occupant: 1= driver, 2= center front, 3 = front passenger, 4 = second row left, 5 = second row center, 6 = second row right, 7 = enclosed passengers, 8 = exposed passengers, 9= unknown position, 10 = third row left, 11 = third row center, 12 = third row right\n",
    "\n",
    "7. **CITY**\n",
    "City of residence of person involved in crash\n",
    "\n",
    "8. **STATE**\n",
    "State of residence of person involved in crash\n",
    "\n",
    "9. **ZIPCODE**\n",
    "ZIP Code of residence of person involved in crash\n",
    "\n",
    "10. **SEX**\n",
    "Gender of person involved in crash, as determined by reporting officer\n",
    "\n",
    "11. **AGE**\n",
    "Age of person involved in crash\n",
    "\n",
    "12. **DRIVERS_LICENSE_STATE**\n",
    "State issuing driver's license of person involved in crash\n",
    "\n",
    "13. **DRIVERS_LICENSE_CLASS**\n",
    "Class of driver's license of person involved in crash\n",
    "\n",
    "14. **SAFETY_EQUIPMENT**\n",
    "Safety equipment used by vehicle occupant in crash, if any\n",
    "\n",
    "15. **AIRBAG_DEPLOYED**\n",
    "Whether vehicle occupant airbag deployed as result of crash\n",
    "\n",
    "16. **EJECTION**\n",
    "Whether vehicle occupant was ejected or extricated from the vehicle as a result of crash\n",
    "\n",
    "17. **INJURY_CLASSIFICATION**\n",
    "Severity of injury person sustained in the crash\n",
    "\n",
    "18. **HOSPITAL**\n",
    "Hospital to which person injured in the crash was taken\n",
    "\n",
    "19. **EMS_AGENCY**\n",
    "EMS agency who transported person injured in crash to the hospital\n",
    "\n",
    "20. **EMS_RUN_NO**\n",
    "EMS agency run number\n",
    "\n",
    "21. **DRIVER_ACTION**\n",
    "Driver action that contributed to the crash, as determined by reporting officer\n",
    "\n",
    "22. **DRIVER_VISION**\n",
    "What, if any, objects obscured the driver’s vision at time of crash\n",
    "\n",
    "23. **PHYSICAL_CONDITION**\n",
    "Driver’s apparent physical condition at time of crash, as observed by the reporting officer\n",
    "\n",
    "24. **PEDPEDAL_ACTION**\n",
    "Action of pedestrian or cyclist at the time of crash\n",
    "\n",
    "25. **PEDPEDAL_VISIBILITY**\n",
    "Visibility of pedestrian of cyclist safety equipment in use at time of crash\n",
    "\n",
    "26. **PEDPEDAL_LOCATION**\n",
    "Location of pedestrian or cyclist at the time of crash\n",
    "\n",
    "27. **BAC_RESULT**\n",
    "Status of blood alcohol concentration testing for driver or other person involved in crash\n",
    "\n",
    "28. **BAC_RESULT_VALUE**\n",
    "Driver’s blood alcohol concentration test result (fatal crashes may include pedestrian or cyclist results)\n",
    "\n",
    "29. **CELL_PHONE_USE**\n",
    "Whether person was/was not using cellphone at the time of the crash, as determined by the reporting officer\n",
    "\n",
    "\n",
    "\n",
    "### VEHICLES DATA\n",
    "This dataset contains information about vehicles (or units as they are identified in crash reports) involved in a traffic crash. This dataset should be used in conjunction with the tCrash and People dataset. “Vehicle” information includes motor vehicle and non-motor vehicle modes of transportation, such as bicycles and pedestrians. Each mode of transportation involved in a crash is a “unit” and get one entry here. Each vehicle, each pedestrian, each motorcyclist, and each bicyclist is considered an independent unit that can have a trajectory separate from the other units.\n",
    "\n",
    "The columns are:\n",
    "\n",
    "1. **CRASH_UNIT_ID**\n",
    "A unique identifier for each vehicle record.\n",
    "\n",
    "2. **CRASH_RECORD_ID**\n",
    "This number can be used to link to the same crash in the Crashes and People datasets. This number also serves as a unique ID in the Crashes dataset.\n",
    "\n",
    "3. **CRASH_DATE**\n",
    "Date and time of crash as entered by the reporting officer\n",
    "\n",
    "4. **UNIT_NO**\n",
    "A unique ID for each unit within a specific crash report.\n",
    "\n",
    "5. **UNIT_TYPE**\n",
    "The type of unit.\n",
    "\n",
    "6. **NUM_PASSENGERS**\n",
    "Number of passengers in the vehicle. The driver is not included. More information on passengers is in the People dataset.\n",
    "\n",
    "7. **VEHICLE_ID**\n",
    "Unique vehicle identifier.\n",
    "\n",
    "8. **CMRC_VEH_I**\n",
    "Chinese Machine Reading Comprehension.\n",
    "\n",
    "9. **MAKE**\n",
    "The make (brand) of the vehicle, if relevant.\n",
    "\n",
    "10. **MODEL**\n",
    "The model of the vehicle, if relevant.\n",
    "\n",
    "11. **LIC_PLATE_STATE**\n",
    "The state issuing the license plate of the vehicle, if relevant.\n",
    "\n",
    "12. **VEHICLE_YEAR**\n",
    "The model year of the vehicle, if relevant.\n",
    "\n",
    "13. **VEHICLE_DEFECT**\n",
    "Defects prior to the accident.\n",
    "\n",
    "14. **VEHICLE_TYPE**\n",
    "The type of vehicle, if relevant.\n",
    "\n",
    "15. **VEHICLE_USE**\n",
    "The normal use of the vehicle, if relevant.\n",
    "\n",
    "16. **TRAVEL_DIRECTION**\n",
    "The direction in which the unit was traveling prior to the crash, as determined by the reporting officer.\n",
    "\n",
    "17. **MANEUVER**\n",
    "The action the unit was taking prior to the crash, as determined by the reporting officer.\n",
    "\n",
    "18. **TOWED_I**\n",
    "Indicator of whether the vehicle was towed.\n",
    "\n",
    "19. **FIRE_I**\n",
    "Was there a fire due to the accident.\n",
    "\n",
    "20. **OCCUPANT_CNT**\n",
    "The number of people in the unit, as determined by the reporting officer.\n",
    "\n",
    "21. **EXCEED_SPEED_LIMIT_I**\n",
    "Indicator of whether the unit was speeding, as determined by the reporting officer.\n",
    "\n",
    "22. **TOWED_BY**\n",
    "Entity that towed the unit, if relevant.\n",
    "\n",
    "23. **TOWED_TO**\n",
    "Location to which the unit was towed, if relevant.\n",
    "\n",
    "24. **AREA_00_I**\n",
    "whether the accident occurred in a specific area or zone (designated as \"Area 00\")\n",
    "\n",
    "25. **AREA_01_I**\n",
    "whether the accident occurred in a specific area or zone (designated as \"Area 01\")\n",
    "\n",
    "26. **AREA_02_I**\n",
    "whether the accident occurred in a specific area or zone (designated as \"Area 02\")\n",
    "\n",
    "27. **AREA_03_I**\n",
    "whether the accident occurred in a specific area or zone (designated as \"Area 03\")\n",
    "\n",
    "28. **AREA_04_I**\n",
    "whether the accident occurred in a specific area or zone (designated as \"Area 04\")\n",
    "\n",
    "29. **AREA_05_I**\n",
    "whether the accident occurred in a specific area or zone (designated as \"Area 05\")\n",
    "\n",
    "30. **AREA_06_I**\n",
    "whether the accident occurred in a specific area or zone (designated as \"Area 06\")\n",
    "\n",
    "31. **AREA_07_I**\n",
    "whether the accident occurred in a specific area or zone (designated as \"Area 07\")\n",
    "\n",
    "32. **AREA_08_I**\n",
    "whether the accident occurred in a specific area or zone (designated as \"Area 08\")\n",
    "\n",
    "33. **AREA_09_I**\n",
    "whether the accident occurred in a specific area or zone (designated as \"Area 09\")\n",
    "\n",
    "34. **AREA_10_I**\n",
    "whether the accident occurred in a specific area or zone (designated as \"Area 10\")\n",
    "\n",
    "35. **AREA_11_I**\n",
    "whether the accident occurred in a specific area or zone (designated as \"Area 11\")\n",
    "\n",
    "36. **AREA_12_I**\n",
    "whether the accident occurred in a specific area or zone (designated as \"Area 12\")\n",
    "\n",
    "37. **AREA_99_I**\n",
    "whether the accident occurred in a specific area or zone (designated as \"Area 99\")\n",
    "\n",
    "38. **FIRST_CONTACT_POINT**\n",
    "The location on the vehicle that first made contact during the crash.\n",
    "\n",
    "39. **CMV_ID**\n",
    "Commercial Motor Vehicle Identifier, which is used to track commercial vehicles involved in accidents.\n",
    "\n",
    "40. **USDOT_NO**\n",
    "Refers to the United States Department of Transportation (USDOT) Number, which is a unique identifier assigned to commercial vehicles and trucking companies by the Federal Motor Carrier Safety Administration (FMCSA).\n",
    "\n",
    "41. **CCMC_NO**\n",
    "Refers to a Commercial Carrier or Motor Carrier Number, which may be used to track licensed commercial vehicles in a specific state or jurisdiction.\n",
    "\n",
    "42. **ILCC_NO**\n",
    "Stands for Illinois Commerce Commission (ILCC) Number.\n",
    "\n",
    "43. **COMMERCIAL_SRC**\n",
    "Stands for Commercial Source and could indicate the source of commercial vehicle information in the crash report.\n",
    "\n",
    "44. **GVWR**\n",
    "Represents the maximum allowable weight of a vehicle, including its own weight plus passengers, cargo, and fuel.\n",
    "\n",
    "45. **CARRIER_NAME**\n",
    "Refers to the name of the commercial carrier or trucking company associated with a vehicle involved in the accident.\n",
    "\n",
    "46. **CARRIER_STATE**\n",
    "Refers to the state where the commercial carrier (trucking company) is registered.\n",
    "\n",
    "47. **CARRIER_CITY**\n",
    "Refers to the city where the commercial carrier (trucking company) is registered.\n",
    "\n",
    "48. **HAZMAT_PLACARDS_I**\n",
    "Hazardous Materials placards.\n",
    "\n",
    "49. **HAZMAT_NAME**\n",
    "Hazardous Materials name.\n",
    "\n",
    "50. **UN_NO**\n",
    "Refers to the United Nations Number (UN Number) assigned to hazardous materials involved in an accident.\n",
    "\n",
    "51. **HAZMAT_PRESENT_I**\n",
    "Hazardous Materials present.\n",
    "\n",
    "52. **HAZMAT_REPORT_I**\n",
    "Signifies whether a hazardous materials (HAZMAT) report was filed for the accident.\n",
    "\n",
    "53. **HAZMAT_REPORT_NO**\n",
    "Refers to the unique report number assigned to hazardous material (HAZMAT) incidents.\n",
    "\n",
    "54. **MCS_REPORT_I**\n",
    "Motor Carrier Safety (MCS) report.\n",
    "\n",
    "55. **MCS_REPORT_NO**\n",
    "Refers to the Motor Carrier Safety (MCS) report number assigned to commercial vehicle accidents.\n",
    "\n",
    "56. **HAZMAT_VIO_CAUSE_CRASH_I**\n",
    "Whether a Hazardous Materials (HAZMAT) violation contributed to causing the crash.\n",
    "\n",
    "57. **MCS_VIO_CAUSE_CRASH_I**\n",
    "Whether a Motor Carrier Safety (MCS) violation contributed to causing the crash.\n",
    "\n",
    "58. **IDOT_PERMIT_NO**\n",
    "Refers to the Illinois Department of Transportation (IDOT) permit number issued for oversized, overweight, or special-use vehicles involved in a crash.\n",
    "\n",
    "59. **WIDE_LOAD_I**\n",
    "Specifies whether a vehicle involved in the crash was classified as a wide load.\n",
    "\n",
    "60. **TRAILER1_WIDTH**\n",
    "Refers to the width (in feet or inches) of the first trailer attached to a truck or commercial vehicle involved in a crash.\n",
    "\n",
    "61. **TRAILER2_WIDTH**\n",
    "Refers to the width (in feet or inches) of the second trailer attached to a truck or commercial vehicle involved in a crash.\n",
    "\n",
    "62. **TRAILER1_LENGTH**\n",
    "Refers to the length (in feet or inches) of the first trailer attached to a truck or commercial vehicle involved in a crash.\n",
    "\n",
    "63. **TRAILER2_LENGTH**\n",
    "Refers to the length (in feet or inches) of the second trailer attached to a truck or commercial vehicle involved in a crash.\n",
    "\n",
    "64. **TOTAL_VEHICLE_LENGTH**\n",
    "Represents the total length of a vehicle (or vehicle combination, including trailers) involved in a crash, measured in feet or inches.\n",
    "\n",
    "65. **AXLE_CNT**\n",
    "Represents the number of axles on a vehicle involved in a crash.\n",
    "\n",
    "66. **VEHICLE_CONFIG**\n",
    "Refers to the configuration or type of vehicle involved in a crash, particularly for commercial vehicles and trucks.\n",
    "\n",
    "67. **CARGO_BODY_TYPE**\n",
    "Describes the type of cargo body on a commercial vehicle involved in a crash.\n",
    "\n",
    "68. **LOAD_TYPE**\n",
    "Refers to the type of load a commercial vehicle was carrying at the time of the crash.\n",
    "\n",
    "69. **HAZMAT_OUT_OF_SERVICE_I**\n",
    "Specifies whether a vehicle carrying hazardous materials (HAZMAT) was placed out of service due to safety violations at the time of the crash.\n",
    "\n",
    "70. **MCS_OUT_OF_SERVICE_I**\n",
    "Specifies whether a Motor Carrier Safety (MCS) violation caused a vehicle to be placed out of service at the time of the crash.\n",
    "\n",
    "71. **HAZMAT_CLASS**\n",
    "Refers to the hazard classification of dangerous goods being transported at the time of a crash.\n"
   ]
  },
  {
   "cell_type": "markdown",
   "metadata": {
    "id": "CMff8-VGGWr5"
   },
   "source": [
    "## DATA EXPLORATION"
   ]
  },
  {
   "cell_type": "markdown",
   "metadata": {
    "id": "5HDzTIZPGWr5"
   },
   "source": [
    "Looking into the data to understand the structure before cleaning and analysis."
   ]
  },
  {
   "cell_type": "markdown",
   "metadata": {
    "id": "V8Bn1bk1GWr5"
   },
   "source": [
    "### IMPORTING REQUIRED LIBRARIES."
   ]
  },
  {
   "cell_type": "markdown",
   "metadata": {
    "id": "lK4tmNm7GWr6"
   },
   "source": [
    "Python has many libraries which are used in undertking different tasks mostly statistical and mathematical operations. In this step I will be importing libraries required for this project."
   ]
  },
  {
   "cell_type": "code",
   "execution_count": null,
   "metadata": {
    "id": "59dNZ071GWr6"
   },
   "outputs": [],
   "source": [
    "#Import the different required libraries for this project.\n",
    "import numpy as np\n",
    "import pandas as pd\n",
    "import seaborn as sns\n",
    "import matplotlib.pyplot as plt\n",
    "import plotly.express as px\n",
    "import plotly.io as pio\n",
    "import plotly.graph_objects as go\n",
    "import csv\n",
    "from sklearn.model_selection import train_test_split, GridSearchCV, RandomizedSearchCV, StratifiedKFold\n",
    "from sklearn.compose import ColumnTransformer\n",
    "from sklearn.pipeline import Pipeline\n",
    "from sklearn.preprocessing import StandardScaler, LabelEncoder\n",
    "from sklearn.linear_model import LogisticRegression\n",
    "from sklearn.tree import DecisionTreeClassifier\n",
    "from sklearn.ensemble import RandomForestClassifier\n",
    "from sklearn.svm import SVC\n",
    "from sklearn.neighbors import KNeighborsClassifier\n",
    "from sklearn.metrics import classification_report, confusion_matrix, roc_curve, auc, accuracy_score, precision_score, recall_score, f1_score, roc_auc_score\n",
    "from xgboost import XGBClassifier, callback\n",
    "from lightgbm import LGBMClassifier"
   ]
  },
  {
   "cell_type": "markdown",
   "metadata": {
    "id": "jTXsYnfsGWr7"
   },
   "source": [
    "### LOADING THE DATASETS"
   ]
  },
  {
   "cell_type": "markdown",
   "metadata": {
    "id": "ebyPrjmUGWr8"
   },
   "source": [
    "Load the datasets to the notebook and convert them to a dataframe. This step is crucial for performing different operations required on the data."
   ]
  },
  {
   "cell_type": "code",
   "execution_count": null,
   "metadata": {
    "colab": {
     "base_uri": "https://localhost:8080/"
    },
    "id": "GT058wRRGWr8",
    "outputId": "d4c17f2c-bf8b-470b-c556-43025e187674"
   },
   "outputs": [],
   "source": [
    "# Loading  the data sets.\n",
    "\n",
    "# Open the Crashes CSV file and load it into a DataFrame\n",
    "with open(\"Traffic_Crashes_-_Crashes_20250217.csv\", mode=\"r\", encoding=\"utf-8\") as file:\n",
    "    accidents_df = pd.read_csv(file)\n",
    "\n",
    "# Open the Vehicles CSV file and load it into a DataFrame\n",
    "with open(\"Traffic_Crashes_-_Vehicles_20250217.csv\", mode=\"r\", encoding=\"utf-8\") as file:\n",
    "    vehicles_df = pd.read_csv(file)\n",
    "\n",
    "# Open the People CSV file and load it into a DataFrame\n",
    "with open(\"Traffic_Crashes_-_People_20250217.csv\", mode=\"r\", encoding=\"utf-8\") as file:\n",
    "    people_df = pd.read_csv(file)\n",
    "\n"
   ]
  },
  {
   "cell_type": "markdown",
   "metadata": {
    "id": "lyNt5pZnGWr-"
   },
   "source": [
    "#### **View the first ten rows of the three datasets.**\n",
    "\n",
    "To get a general view of the data."
   ]
  },
  {
   "cell_type": "code",
   "execution_count": null,
   "metadata": {
    "colab": {
     "base_uri": "https://localhost:8080/",
     "height": 765
    },
    "id": "PY1bPWkdGWr_",
    "outputId": "d4ccd146-e9c2-4502-8015-f0e8154a77de"
   },
   "outputs": [],
   "source": [
    "# Ensure all columns are displayed.\n",
    "pd.set_option(\"display.max_columns\", None)\n",
    "\n",
    "# Return the first ten rows of accidents dataset.\n",
    "accidents_df.head(10)"
   ]
  },
  {
   "cell_type": "code",
   "execution_count": null,
   "metadata": {
    "colab": {
     "base_uri": "https://localhost:8080/",
     "height": 782
    },
    "id": "1GoW0tohGWr_",
    "outputId": "112f556d-e84f-490a-d019-7361909dcfd4"
   },
   "outputs": [],
   "source": [
    "# Return first ten rows of vehicles dataset.\n",
    "vehicles_df.head(10)"
   ]
  },
  {
   "cell_type": "code",
   "execution_count": null,
   "metadata": {
    "colab": {
     "base_uri": "https://localhost:8080/",
     "height": 748
    },
    "id": "sqF9wFoPGWsA",
    "outputId": "fd5bf830-e2b9-4f47-aa93-792afdd0138f"
   },
   "outputs": [],
   "source": [
    "# Return the first ten rows of peple dataset\n",
    "people_df.head(10)"
   ]
  },
  {
   "cell_type": "markdown",
   "metadata": {
    "id": "ez9ZVvTuGWsA"
   },
   "source": [
    "##### **Check number of rows and columns**"
   ]
  },
  {
   "cell_type": "markdown",
   "metadata": {
    "id": "ZTIxt7lLGWsA"
   },
   "source": [
    "To get a view of the number of entries and features in the dataset and if the data is sufficient for analysis and modeling."
   ]
  },
  {
   "cell_type": "code",
   "execution_count": null,
   "metadata": {
    "colab": {
     "base_uri": "https://localhost:8080/"
    },
    "id": "cltok_gmGWsA",
    "outputId": "c9f3939f-7520-4f14-80d7-8bb971b08461"
   },
   "outputs": [],
   "source": [
    "# Check number of rows and columns in the dataset.\n",
    "print(f\"Accidents Dataframe: {accidents_df.shape}\")\n",
    "print(f\"Vehicles Dataframe: {vehicles_df.shape}\")\n",
    "print(f\"People Dataframe: {people_df.shape}\")"
   ]
  },
  {
   "cell_type": "markdown",
   "metadata": {
    "id": "2mAJHlL4GWsB"
   },
   "source": [
    "#### **Check the columns in the dataset**"
   ]
  },
  {
   "cell_type": "code",
   "execution_count": null,
   "metadata": {
    "colab": {
     "base_uri": "https://localhost:8080/"
    },
    "id": "yOHmCtGYGWsB",
    "outputId": "da5cb019-f985-4e40-ab92-6fcd0740a8c8"
   },
   "outputs": [],
   "source": [
    "# Print the columns of the accidents dataframe.\n",
    "print(accidents_df.columns)\n",
    "\n",
    "# Print the columns of the vehicles dataframe.\n",
    "print(vehicles_df.columns)\n",
    "\n",
    "# Print the columns of the people dataframe.\n",
    "print(people_df.columns)"
   ]
  },
  {
   "cell_type": "markdown",
   "metadata": {
    "id": "wmhuoFWWGWsB"
   },
   "source": [
    "#### **Check the details of the data in each column**"
   ]
  },
  {
   "cell_type": "code",
   "execution_count": null,
   "metadata": {
    "colab": {
     "base_uri": "https://localhost:8080/"
    },
    "id": "2x2kEGopGWsB",
    "outputId": "e817667f-8797-41f3-9819-370a1eeac401"
   },
   "outputs": [],
   "source": [
    "#Check the details of the data in each column of the accidents dataframe.\n",
    "accidents_df.info()"
   ]
  },
  {
   "cell_type": "code",
   "execution_count": null,
   "metadata": {
    "colab": {
     "base_uri": "https://localhost:8080/"
    },
    "id": "_uwzVgs-GWsC",
    "outputId": "ebe977ab-d5b8-461a-cda5-5c0ac0fcf9a2"
   },
   "outputs": [],
   "source": [
    "#Check the details of the data in each column of the vehicles dataframe.\n",
    "vehicles_df.info()"
   ]
  },
  {
   "cell_type": "code",
   "execution_count": null,
   "metadata": {
    "colab": {
     "base_uri": "https://localhost:8080/"
    },
    "id": "ioDICRgDGWsC",
    "outputId": "fc599cc6-6324-4437-fb55-7a24ce7f6e0a"
   },
   "outputs": [],
   "source": [
    "#Check the details of the data in each column of the people dataframe.\n",
    "people_df.info()"
   ]
  },
  {
   "cell_type": "markdown",
   "metadata": {
    "id": "BgajgOsJGWsC"
   },
   "source": [
    "#### **Check statistical measures of the columns datasets**"
   ]
  },
  {
   "cell_type": "markdown",
   "metadata": {
    "id": "93cjJPBiGWsC"
   },
   "source": [
    "Returns the count, mean, standard deviation, minimum value, the quartiles and the maximum value."
   ]
  },
  {
   "cell_type": "markdown",
   "metadata": {
    "id": "Im5jSZHYGWsQ"
   },
   "source": [
    "##### **Numerical columns**"
   ]
  },
  {
   "cell_type": "code",
   "execution_count": null,
   "metadata": {
    "colab": {
     "base_uri": "https://localhost:8080/",
     "height": 583
    },
    "id": "R0NjC9qyGWsQ",
    "outputId": "de4f0a91-5e33-447e-a209-1d0692b99b3f"
   },
   "outputs": [],
   "source": [
    "# Check the statistical measures of the numerical columns in the accidents dataset.\n",
    "accidents_df.describe().T"
   ]
  },
  {
   "cell_type": "code",
   "execution_count": null,
   "metadata": {
    "colab": {
     "base_uri": "https://localhost:8080/",
     "height": 395
    },
    "id": "Fpi57hXVGWsQ",
    "outputId": "ed2828dc-3578-4d39-b06e-ebae28a7796d"
   },
   "outputs": [],
   "source": [
    "# Check the statistical measures of the numerical columns in the vehicles dataset.\n",
    "vehicles_df.describe().T"
   ]
  },
  {
   "cell_type": "code",
   "execution_count": null,
   "metadata": {
    "colab": {
     "base_uri": "https://localhost:8080/",
     "height": 175
    },
    "id": "aEE9aBQ0GWsR",
    "outputId": "a3419a54-ba9a-4364-9630-b48cc38708ad"
   },
   "outputs": [],
   "source": [
    "# Check the statistical measures of the numerical columns in the people dataset.\n",
    "people_df.describe().T"
   ]
  },
  {
   "cell_type": "markdown",
   "metadata": {
    "id": "etiLR3wYGWsR"
   },
   "source": [
    "##### **Categorical Columns**"
   ]
  },
  {
   "cell_type": "code",
   "execution_count": null,
   "metadata": {
    "colab": {
     "base_uri": "https://localhost:8080/",
     "height": 1000
    },
    "id": "fmI9d5YiGWsR",
    "outputId": "4a743889-0ab1-4341-a78c-8445e38045bb"
   },
   "outputs": [],
   "source": [
    "# Check the statistical measures of the categorical columns in the accidents dataset.\n",
    "accidents_df.describe(include=\"O\").T"
   ]
  },
  {
   "cell_type": "code",
   "execution_count": null,
   "metadata": {
    "colab": {
     "base_uri": "https://localhost:8080/",
     "height": 1000
    },
    "id": "8yisXWBkGWsR",
    "outputId": "2209c9cd-ce4e-4104-d6d2-b5f2712cbfc3"
   },
   "outputs": [],
   "source": [
    "# Check the statistical measures of the categorical columns in the vehicles dataset.\n",
    "vehicles_df.describe(include=\"O\").T"
   ]
  },
  {
   "cell_type": "code",
   "execution_count": null,
   "metadata": {
    "colab": {
     "base_uri": "https://localhost:8080/",
     "height": 834
    },
    "id": "O-K2tj5PGWsS",
    "outputId": "f99ffb0f-4d19-4dab-e120-d3b1e91f87fd"
   },
   "outputs": [],
   "source": [
    "# Check the statistical measures of the categorical columns in the people dataset.\n",
    "people_df.describe(include=\"O\").T"
   ]
  },
  {
   "cell_type": "markdown",
   "metadata": {
    "id": "Shprn3HsGWsS"
   },
   "source": [
    "Gives a general view of what is going on in each column and the nature of the data in the columns. It is a crucial step in making the choice of which columns are appropriate for analysis and how to handle the data cleaning process."
   ]
  },
  {
   "cell_type": "markdown",
   "metadata": {
    "id": "VNCLsNRPGWsS"
   },
   "source": [
    "## SUMMARY OF THE DATASETS\n",
    "\n",
    "### The datasets have the following number of features and entries.\n",
    "1. Accidents Dataframe: (Entries: 919074, Features: 48)\n",
    "2. Vehicles Dataframe: (Entries: 1874570, Features: 71)\n",
    "3. People Dataframe: (Entries: 2017954, Features: 29)\n",
    "\n",
    "### The datasets have sufficient entries and features for modeling and analysis.\n",
    "### The datasets have a similar column (CRASH_RECORD_ID) that can be used for merging.\n",
    "### The datasets will require quite a huge amount of cleaning for proper analysis and modeling."
   ]
  },
  {
   "cell_type": "markdown",
   "metadata": {
    "id": "cnCrOin-GWsT"
   },
   "source": [
    "# DATA PREPARATION\n",
    "Data preparation is a crucial step in any data analysis or machine learning project. It involves cleaning, transforming, and organizing raw data into a usable format for analysis or model building. Here are the key steps involved in data preparation:\n",
    "1. Data Integration. (Merging)\n",
    "2. Data Cleaning. (Removing unnecessary and personal identifying columns, Handling Missing Data, Removing Duplicates, Outlier Detection, Correcting Errors)\n",
    "3. Data Transformation.(Feature Engineering, Normalization/Standardization, Encoding Categorical Variables, Handling Imbalanced Data)\n",
    "4. Data Splitting. (Train and test split for modeling)"
   ]
  },
  {
   "cell_type": "markdown",
   "metadata": {
    "id": "oVoukVXSGWsT"
   },
   "source": [
    "## DATA INTEGRATION"
   ]
  },
  {
   "cell_type": "markdown",
   "metadata": {
    "id": "UltDyimFGWsU"
   },
   "source": [
    "### MERGING"
   ]
  },
  {
   "cell_type": "markdown",
   "metadata": {
    "id": "3Mv9elEKGWsU"
   },
   "source": [
    "Perform a merge operation like inner or outer joins to combine data based on common columns."
   ]
  },
  {
   "cell_type": "code",
   "execution_count": null,
   "metadata": {
    "colab": {
     "base_uri": "https://localhost:8080/",
     "height": 1000
    },
    "id": "raAYO1FvGWsU",
    "outputId": "eebd9ede-c9ed-4602-c9e6-49d2ac945f6e"
   },
   "outputs": [],
   "source": [
    "# Merging the 3 datasets, check the number of rows and columns and returning the first 10 rows of the merged dataframe .\n",
    "merged_df_1 = accidents_df.merge(vehicles_df, on=\"CRASH_RECORD_ID\", how=\"inner\")\n",
    "merged_df = merged_df_1.merge(people_df, on=\"CRASH_RECORD_ID\", how=\"inner\")\n",
    "print(merged_df.columns)\n",
    "print( )\n",
    "print(merged_df.shape)\n",
    "print( )\n",
    "merged_df.head(10)"
   ]
  },
  {
   "cell_type": "markdown",
   "metadata": {
    "id": "NlUWEZIhGWsV"
   },
   "source": [
    "## DATA CLEANING"
   ]
  },
  {
   "cell_type": "markdown",
   "metadata": {
    "id": "Tuxw6dinGWsW"
   },
   "source": [
    "This step involves identifying and correcting errors or inconsistencies in my dataset to ensure the data is accurate, complete, and reliable."
   ]
  },
  {
   "cell_type": "markdown",
   "metadata": {
    "id": "iHNp8EkuGWsW"
   },
   "source": [
    "### HANDLING DUPLICATES"
   ]
  },
  {
   "cell_type": "markdown",
   "metadata": {
    "id": "sw1ayz_jGWsW"
   },
   "source": [
    "Duplicate values can negatively impact data analysis, machine learning models and business decisions. They can lead to:\n",
    "1. Distortion of statistical analysis and lead to incorrect conclusions.\n",
    "2. If duplicates exist in both training and testing sets, the model may memorize rather than learn patterns, leading to overfitting\n",
    "3. Duplicates increase dataset size unnecessarily, slowing down processing.\n",
    "4. Duplicate records waste storage space and increase computational costs.\n",
    "5. Duplicate data can inflate values in reports, leading to misleading graphs and charts.\n"
   ]
  },
  {
   "cell_type": "code",
   "execution_count": null,
   "metadata": {
    "colab": {
     "base_uri": "https://localhost:8080/"
    },
    "id": "CW1oHrVOGWsX",
    "outputId": "2ffea79c-ceb7-4f10-e870-460b5975ca6c"
   },
   "outputs": [],
   "source": [
    "# Checking for duplicates.\n",
    "merged_df.duplicated().sum()"
   ]
  },
  {
   "cell_type": "markdown",
   "metadata": {
    "id": "q6U46AcVGWsX"
   },
   "source": [
    "There are 0 duplicated entries."
   ]
  },
  {
   "cell_type": "markdown",
   "metadata": {
    "id": "zth_vhJEGWsX"
   },
   "source": [
    "### Dropping Unnecessary Columns."
   ]
  },
  {
   "cell_type": "markdown",
   "metadata": {
    "id": "vBNYlyTHGWsY"
   },
   "source": [
    "Remove the columns which contain personal identifying information. Get rid of columns that would not help in analysis and modeling to reduce the number of features in the dataframe, that is, columns that are not related to the cause of the accident rather descriibe the activities after the accident."
   ]
  },
  {
   "cell_type": "code",
   "execution_count": null,
   "metadata": {
    "colab": {
     "base_uri": "https://localhost:8080/",
     "height": 1000
    },
    "id": "deOx7r5OGWsY",
    "outputId": "28ba4fc3-ec96-4efa-fdc3-063cca57481f"
   },
   "outputs": [],
   "source": [
    "# Dropping Columns.\n",
    "merged_df.drop(\n",
    "    ['CRASH_RECORD_ID', 'CRASH_DATE_EST_I', 'CRASH_DATE_x', 'REPORT_TYPE', 'LANE_CNT'\n",
    "     'CRASH_TYPE', 'INTERSECTION_RELATED_I', 'NOT_RIGHT_OF_WAY_I', 'HIT_AND_RUN_I', 'BEAT_OF_OCCURRENCE',\n",
    "     'DAMAGE', 'DATE_POLICE_NOTIFIED', 'STREET_NAME', 'WORK_ZONE_I', 'WORK_ZONE_TYPE', 'WORKERS_PRESENT_I'\n",
    "     'BEAT_OF_OCCURRENCE', 'PHOTO_TAKEN_I', 'STATEMENTS_TAKEN_I', 'MOST_SEVERE_INJURY',\n",
    "     'INJURIES_TOTAL', 'INJURIES_FATAL', 'INJURIES_INCAPACITATING', 'INJURIES_NON_INCAPACITATING',\n",
    "     'INJURIES_REPORTED_NOT_EVIDENT', 'INJURIES_NO_INDICATION', 'INJURIES_UNKNOWN',\n",
    "     'CRASH_HOUR', 'CRASH_UNIT_ID', 'CRASH_DATE_y', 'LOCATION','UNIT_NO', 'VEHICLE_ID_x',\n",
    "     'CMRC_VEH_I', 'LIC_PLATE_STATE', 'TOWED_I', 'FIRE_I', 'TOWED_TO', 'TOWED_BY', 'AREA_00_I',\n",
    "     'AREA_01_I', 'AREA_02_I', 'AREA_03_I', 'AREA_04_I', 'AREA_05_I', 'AREA_06_I',\n",
    "     'AREA_07_I', 'AREA_08_I', 'AREA_09_I', 'AREA_10_I', 'AREA_11_I', 'AREA_12_I',\n",
    "     'AREA_99_I',  'FIRST_CONTACT_POINT',  'CMV_ID', 'USDOT_NO', 'CCMC_NO', 'ILCC_NO', 'COMMERCIAL_SRC',\n",
    "     'GVWR', 'CARRIER_NAME', 'CARRIER_STATE', 'CARRIER_CITY', 'HAZMAT_REPORT_I'\n",
    "     'HAZMAT_NAME','HAZMAT_PRESENT_I', 'UN_NO', 'HAZMAT_REPORT_NO', 'MCS_REPORT_I',\n",
    "     'MCS_REPORT_NO', 'IDOT_PERMIT_NO', 'TRAILER1_WIDTH', 'TRAILER2_WIDTH',\n",
    "     'TRAILER1_LENGTH', 'TRAILER2_LENGTH', 'PERSON_TYPE'\n",
    "     'PERSON_ID', 'VEHICLE_ID_y', 'CRASH_DATE', 'SEAT_NO', 'CITY', 'STATE',\n",
    "     'ZIPCODE', 'EJECTION', 'INJURY_CLASSIFICATION',\n",
    "     'HOSPITAL', 'EMS_AGENCY', 'EMS_RUN_NO', 'BAC_RESULT'],\n",
    "    axis=1, #Ensures the columns only are being dropped\n",
    "    inplace=True,\n",
    "    errors='ignore'\n",
    ")\n",
    "print(merged_df.columns)\n",
    "print( )\n",
    "print(merged_df.shape)\n",
    "print( )\n",
    "merged_df.head(10)"
   ]
  },
  {
   "cell_type": "markdown",
   "metadata": {
    "id": "QWs5G76JGWsZ"
   },
   "source": [
    "### Handling Missing Values"
   ]
  },
  {
   "cell_type": "markdown",
   "metadata": {
    "id": "o-1CE-iAGWsZ"
   },
   "source": [
    "After dropping the columns, 66 columns remain. These are features that contribute to the accident occurence and can be modeled and analysed."
   ]
  },
  {
   "cell_type": "markdown",
   "metadata": {
    "id": "9QlyyMUYGWsZ"
   },
   "source": [
    "#### **Numeric Columns**\n",
    "1. **LANE_CNT, OCCUPANT_CNT** - Fill with median (since lane count and occupants typically follow a skewed distribution).\n",
    "2. **LATITUDE, LONGITUDE** - Use nearest valid values (e.g., forward or backward fill: ffill() or bfill()).\n",
    "3. **NUM_PASSENGERS** - Fill with 0 because missing values mean there were no passengers.\n",
    "4. **VEHICLE_YEAR**\t- Fill with median year to avoid bias from extreme values.\n",
    "5. **TOTAL_VEHICLE_LENGTH, AXLE_CNT** - Fill with median if these features are important; otherwise, use 0 for unknown.\n",
    "6. **AGE**\t- Fill with median.\n",
    "7. **BAC_RESULT VALUE** - Fill with 0.00 as missing implies no test was conducted."
   ]
  },
  {
   "cell_type": "markdown",
   "metadata": {
    "id": "qmdj_kyVGWsZ"
   },
   "source": [
    "These values are denoted by 'NaN' which stands for \"Not a Number\".  It is a special value used in computing to represent missing, undefined or unrepresentable data in numerical or data processing operations. These values are handled by:\n",
    "##### **Replacing NaN Values**\n",
    " 1. For numeric columns: the mean for normally distributed data, the median if it is not normally distributed and '0' if the previous 2 might lead to loss of data integrity.\n",
    " 2. For categorical columns: the mode or 'Unknown' if mode might lead to loss of data integrity.\n",
    "##### **Dropping the NaN values**\n",
    "Get rid of the entries containing the NaN value if they are bound to affect analysis or modeling."
   ]
  },
  {
   "cell_type": "code",
   "execution_count": null,
   "metadata": {
    "colab": {
     "base_uri": "https://localhost:8080/",
     "height": 1000
    },
    "id": "hbVnyKOpGWsa",
    "outputId": "742b4251-3242-4081-db13-4d7b701d8d3d"
   },
   "outputs": [],
   "source": [
    "# Checking the columns with NaN values and how many we are dealing with.\n",
    "merged_df.isna().sum()[merged_df.isna().sum() > 0]"
   ]
  },
  {
   "cell_type": "code",
   "execution_count": null,
   "metadata": {
    "colab": {
     "base_uri": "https://localhost:8080/"
    },
    "id": "nXKcK5UEGWsa",
    "outputId": "a42ddd1f-738b-4ae2-892a-46ce3ee1d4ec"
   },
   "outputs": [],
   "source": [
    "# Filling missing values in the numeric columns.\n",
    "merged_df[\"LANE_CNT\"].fillna(merged_df[\"LANE_CNT\"].median(), inplace=True)\n",
    "merged_df[\"OCCUPANT_CNT\"].fillna(merged_df[\"OCCUPANT_CNT\"].median(), inplace=True)\n",
    "merged_df[\"LATITUDE\"].fillna(method=\"ffill\", inplace=True)\n",
    "merged_df[\"LONGITUDE\"].fillna(method=\"ffill\", inplace=True)\n",
    "merged_df[\"NUM_PASSENGERS\"].fillna(0, inplace=True)\n",
    "merged_df[\"VEHICLE_YEAR\"].fillna(merged_df[\"VEHICLE_YEAR\"].median(), inplace=True)\n",
    "merged_df[\"TOTAL_VEHICLE_LENGTH\"].fillna(merged_df[\"TOTAL_VEHICLE_LENGTH\"].median(), inplace=True)\n",
    "merged_df[\"AXLE_CNT\"].fillna(merged_df[\"AXLE_CNT\"].median(), inplace=True)\n",
    "merged_df[\"AGE\"].fillna(merged_df[\"AGE\"].median(), inplace=True)\n",
    "merged_df[\"BAC_RESULT VALUE\"].fillna(0.00, inplace=True)"
   ]
  },
  {
   "cell_type": "markdown",
   "metadata": {
    "id": "ezo8guD4GWsa"
   },
   "source": [
    "#### **Categorical Columns**\n",
    "\n",
    "1. **VEHICLE_DEFECT, VEHICLE_TYPE, VEHICLE_USE, TRAVEL_DIRECTION, MANEUVER, STREET_DIRECTION, UNIT_TYPE, MAKE, MODEL, SEX, SAFETY_EQUIPMENT, AIRBAG_DEPLOYED, DRIVER_ACTION, DRIVER_VISION, PHYSICAL_CONDITION, DRIVERS_LICENSE_STATE, DRIVERS_LICENSE_CLASS** - Fill with \"UNKNOWN\" to keep category consistency.\n",
    "2. **EXCEED_SPEED_LIMIT_I, HAZMAT_PLACARDS_I, HAZMAT_REPORT_I, HAZMAT_VIO_CAUSE_CRASH_I, MCS_VIO_CAUSE_CRASH_I, WIDE_LOAD_I, HAZMAT_OUT_OF_SERVICE_I, MCS_OUT_OF_SERVICE_I, CELL_PHONE_USE** - Fill with \"NO\" assuming missing means it was not applicable.\n",
    "3. **PEDPEDAL_ACTION, PEDPEDAL_VISIBILITY, PEDPEDAL_LOCATION** - Fill with \"NO_PEDESTRIAN\" if missing means no pedestrian involved."
   ]
  },
  {
   "cell_type": "code",
   "execution_count": null,
   "metadata": {
    "colab": {
     "base_uri": "https://localhost:8080/"
    },
    "id": "iBs5y8ZkGWsa",
    "outputId": "e3dafa27-4774-41c3-a309-81e429693024"
   },
   "outputs": [],
   "source": [
    "# Filling missing values in the categorical columns.\n",
    "categorical_fill_unknown = [\"VEHICLE_DEFECT\", \"VEHICLE_TYPE\", \"VEHICLE_USE\", \"TRAVEL_DIRECTION\",\n",
    "                            \"MANEUVER\", \"DRIVERS_LICENSE_STATE\", \"DRIVERS_LICENSE_CLASS\",\n",
    "                            \"SAFETY_EQUIPMENT\", \"AIRBAG_DEPLOYED\", \"DRIVER_ACTION\", \"DRIVER_VISION\",\n",
    "                            \"PHYSICAL_CONDITION\", \"SEX\", \"STREET_DIRECTION\", \"UNIT_TYPE\", \"MAKE\", \"MODEL\",\n",
    "                            \"HAZMAT_NAME\", \"VEHICLE_CONFIG\", \"CARGO_BODY_TYPE\", \"LOAD_TYPE\", \"HAZMAT_CLASS\"]\n",
    "for col in categorical_fill_unknown:\n",
    "    merged_df[col].fillna(\"UNKNOWN\", inplace=True)\n",
    "\n",
    "categprical_fill_no = [\"EXCEED_SPEED_LIMIT_I\", \"HAZMAT_PLACARDS_I\", \"HAZMAT_REPORT_I\", \"HAZMAT_VIO_CAUSE_CRASH_I\",\n",
    "                  \"MCS_VIO_CAUSE_CRASH_I\", \"WIDE_LOAD_I\", \"HAZMAT_OUT_OF_SERVICE_I\", \"MCS_OUT_OF_SERVICE_I\",\n",
    "                  \"CELL_PHONE_USE\", \"PHOTOS_TAKEN_I\", \"DOORING_I\", \"WORKERS_PRESENT_I\"]\n",
    "for col in categprical_fill_no:\n",
    "    merged_df[col].fillna(\"NO\", inplace=True)\n",
    "\n",
    "pedestrian_fill = [\"PEDPEDAL_ACTION\", \"PEDPEDAL_VISIBILITY\", \"PEDPEDAL_LOCATION\"]\n",
    "for col in pedestrian_fill:\n",
    "    merged_df[col].fillna(\"NO_PEDESTRIAN\", inplace=True)\n"
   ]
  },
  {
   "cell_type": "code",
   "execution_count": null,
   "metadata": {
    "colab": {
     "base_uri": "https://localhost:8080/"
    },
    "id": "RKH6dC_8GWsb",
    "outputId": "d69a6d1e-575e-4231-f6f3-e999807cc551"
   },
   "outputs": [],
   "source": [
    "# Recheck for any more missing values\n",
    "merged_df.isna().sum().sum()"
   ]
  },
  {
   "cell_type": "markdown",
   "metadata": {
    "id": "JuzZvWiBGWsb"
   },
   "source": [
    "After imputing the null values, the total null values have been reduced to 0."
   ]
  },
  {
   "cell_type": "markdown",
   "metadata": {
    "id": "nAq1kp6lGWsb"
   },
   "source": [
    "### Outlier Detection\n",
    "\n",
    "Outlier detection is crucial in data analysis and machine learning because outliers can significantly impact model performance and data interpretation.\n",
    "\n",
    "#### **Importance of outlier detection.**\n",
    "\n",
    "1. **Improves Model Accuracy**\n",
    "Outliers can distort statistical measures (mean, standard deviation) and affect model training thus affecting machine learning models, especially linear regression and clustering as they are sensitive to outliers.\n",
    "\n",
    "2. **Prevents Model Overfitting**\n",
    "Models might learn patterns specific to outliers rather than general trends therefore reducing the ability of the model to generalize well on unseen data.\n",
    "\n",
    "3. **Enhances Data Integrity**\n",
    "Outliers may indicate errors in data collection or entry identifying and handling them ensures data quality.\n",
    "\n",
    "4. **Improves Data Distribution and Normality**\n",
    "Many statistical tests and ML algorithms assume normality thus removing extreme values helps meet these assumptions.\n",
    "\n",
    "5. **Identifies Rare but Important Events**\n",
    "In fraud detection, cybersecurity, or medical diagnostics, outliers can indicate critical incidents therefore instead of removing them, they might be the focus of the study.\n",
    "\n",
    "6. **Affects Feature Scaling & Normalization**\n",
    "Outliers can impact Min-Max scaling and Standardization thus proper handling ensures fair feature scaling."
   ]
  },
  {
   "cell_type": "markdown",
   "metadata": {
    "id": "ky1KEI70GWsb"
   },
   "source": [
    "The best way to get outliers is by plotting a boxplot of the numerical columna as done below."
   ]
  },
  {
   "cell_type": "code",
   "execution_count": null,
   "metadata": {
    "colab": {
     "base_uri": "https://localhost:8080/",
     "height": 1000
    },
    "id": "Abbs43BCGWsc",
    "outputId": "c3c297bd-854a-4982-f195-1aff5c37d6c1"
   },
   "outputs": [],
   "source": [
    "# Select numerical columns\n",
    "numerical_cols = merged_df.select_dtypes(include=['int64', 'float64']).columns\n",
    "\n",
    "# Set figure size\n",
    "plt.figure(figsize=(25, 20))\n",
    "\n",
    "# Create box plots for all numerical columns\n",
    "for i, col in enumerate(numerical_cols, 1):\n",
    "    plt.subplot((len(numerical_cols) // 3) + 1, 3, i)\n",
    "    sns.boxplot(y=merged_df[col])\n",
    "    plt.title(col)\n",
    "\n",
    "plt.show()"
   ]
  },
  {
   "cell_type": "markdown",
   "metadata": {
    "id": "sXZi3p90GWsc"
   },
   "source": [
    "From the above boxplots, there are extreme values in the following columns:\n",
    "1. LONGITUDE and LATITUDE - seeing as the data is from chicago, a longitude and latitude of 0 is not expect as it is not within the USA.\n",
    "2. TOTAL_VEHICLE_LENGTH- A vehicle length of above 200 feet is outrageuos as the maximum allowable length including trailers is 200 feet.\n",
    "3. AXLE_CNT- The maximum possible axle count is 20 so any vlue above 20 is obvoiusly an error.\n",
    "4. VEHICLE_YEAR- A Vehicle year that is not between 1950 and 2025 is an overbound entry and thus should be removed.\n",
    "5. AGE- An age below 0 is impossible hence an error within the data.\n",
    "6. STEET_NO - Chicago street numbers lie between 0 and 22000 so any value beyond this is not viable.\n"
   ]
  },
  {
   "cell_type": "markdown",
   "metadata": {
    "id": "7U45Mz59GWsc"
   },
   "source": [
    "#### **Dealing with outliers in the Longitude and Latitude columns**"
   ]
  },
  {
   "cell_type": "markdown",
   "metadata": {
    "id": "Ri3CVVqeGWsc"
   },
   "source": [
    "Drop the values that are 0 in the LONGITUDE and LATITUDE columns"
   ]
  },
  {
   "cell_type": "code",
   "execution_count": null,
   "metadata": {
    "id": "C1zOBltAGWsd"
   },
   "outputs": [],
   "source": [
    "#Dropping rows whose LONGITUDE and LATITUDE is 0\n",
    "merged_df = merged_df[(merged_df['LATITUDE'] != 0) & (merged_df['LONGITUDE'] != 0)]"
   ]
  },
  {
   "cell_type": "markdown",
   "metadata": {
    "id": "HxTBVTbxGWsd"
   },
   "source": [
    "Checking the boxplot to see if there are outliers in the longitude and latitude columns."
   ]
  },
  {
   "cell_type": "code",
   "execution_count": null,
   "metadata": {
    "colab": {
     "base_uri": "https://localhost:8080/",
     "height": 697
    },
    "id": "ZEIfy2itGWsd",
    "outputId": "1433f6ee-c24b-4a54-b0af-bcc6ddf61ae3"
   },
   "outputs": [],
   "source": [
    "# Set figure size\n",
    "plt.figure(figsize=(12, 8))\n",
    "\n",
    "# Create boxplot\n",
    "sns.boxplot(y=merged_df['LATITUDE'])\n",
    "\n",
    "# Add title\n",
    "plt.title(\"Boxplot of Latitude Values\")"
   ]
  },
  {
   "cell_type": "code",
   "execution_count": null,
   "metadata": {
    "colab": {
     "base_uri": "https://localhost:8080/",
     "height": 697
    },
    "id": "QHgXqVCzGWse",
    "outputId": "cd819f3b-c6cb-436d-ba12-14d348ec8c43"
   },
   "outputs": [],
   "source": [
    "# Set figure size\n",
    "plt.figure(figsize=(12, 8))\n",
    "\n",
    "# Create boxplot\n",
    "sns.boxplot(y=merged_df['LONGITUDE'])\n",
    "\n",
    "# Add title\n",
    "plt.title(\"Boxplot of Longitude Values in Chicago Crash Data\")"
   ]
  },
  {
   "cell_type": "markdown",
   "metadata": {
    "id": "vo01mAb8GWsf"
   },
   "source": [
    "The longitudes and latitudes are within a reasonable range which is a proper reflection of the data."
   ]
  },
  {
   "cell_type": "markdown",
   "metadata": {
    "id": "zA6uPs00GWsg"
   },
   "source": [
    "#### **Dealing with outliers in the TOTAL_VEHICLE_LENGTH column.**"
   ]
  },
  {
   "cell_type": "markdown",
   "metadata": {
    "id": "gfon9YscGWsg"
   },
   "source": [
    "Ensure that the vehicle length is between 4 feet and 200 feet so that only realistic values remain."
   ]
  },
  {
   "cell_type": "code",
   "execution_count": null,
   "metadata": {
    "id": "ClHMYMJLGWsg"
   },
   "outputs": [],
   "source": [
    "#Drop the rows with unrealistic vehicle lengths\n",
    "merged_df = merged_df[(merged_df['TOTAL_VEHICLE_LENGTH'] >= 4) & (merged_df['TOTAL_VEHICLE_LENGTH'] <=200)]"
   ]
  },
  {
   "cell_type": "markdown",
   "metadata": {
    "id": "yVb0wt7aGWsh"
   },
   "source": [
    "Checking the boxplot to see if the outliers have been solved."
   ]
  },
  {
   "cell_type": "code",
   "execution_count": null,
   "metadata": {
    "colab": {
     "base_uri": "https://localhost:8080/",
     "height": 697
    },
    "id": "zOYQu1RdGWsh",
    "outputId": "3a7e635c-7f62-464a-ca6a-4c8c7dde0288"
   },
   "outputs": [],
   "source": [
    "# Set figure size\n",
    "plt.figure(figsize=(12, 8))\n",
    "\n",
    "# Create boxplot\n",
    "sns.boxplot(y=merged_df['TOTAL_VEHICLE_LENGTH'])\n",
    "\n",
    "# Add title\n",
    "plt.title(\"Boxplot of vehicle length Values in Chicago Crash Data\")"
   ]
  },
  {
   "cell_type": "markdown",
   "metadata": {
    "id": "Ju13cWivGWsh"
   },
   "source": [
    "The values are within a reasonable range in relation to  the dataset"
   ]
  },
  {
   "cell_type": "markdown",
   "metadata": {
    "id": "VBAQnwA5GWsh"
   },
   "source": [
    "#### **Dealing with outliers in the AXLE_CNT column**"
   ]
  },
  {
   "cell_type": "markdown",
   "metadata": {
    "id": "9bAGEFiDGWsh"
   },
   "source": [
    "The expected range of axles is between 2 and 20. all values that do not lie between this range are erroneous and have to be dropped."
   ]
  },
  {
   "cell_type": "code",
   "execution_count": null,
   "metadata": {
    "id": "f_tOXjq5GWsh"
   },
   "outputs": [],
   "source": [
    "#Filter out axle counts that are not between 2 and 20\n",
    "merged_df = merged_df[(merged_df['AXLE_CNT'] <= 24) & (merged_df[\"AXLE_CNT\"] >= 2)]"
   ]
  },
  {
   "cell_type": "markdown",
   "metadata": {
    "id": "xnGXfbxnGWsi"
   },
   "source": [
    "Replot the boxplot to check if the remaining entries are within range."
   ]
  },
  {
   "cell_type": "code",
   "execution_count": null,
   "metadata": {
    "colab": {
     "base_uri": "https://localhost:8080/",
     "height": 697
    },
    "id": "eMl-qakaGWsi",
    "outputId": "041680a9-27a4-4f5c-cfd1-f0ef493b8bd8"
   },
   "outputs": [],
   "source": [
    "# Set figure size\n",
    "plt.figure(figsize=(12, 8))\n",
    "\n",
    "# Create boxplot\n",
    "sns.boxplot(y=merged_df['AXLE_CNT'])\n",
    "\n",
    "# Add title\n",
    "plt.title(\"Boxplot of axle count Values in Chicago Crash Data\")"
   ]
  },
  {
   "cell_type": "markdown",
   "metadata": {
    "id": "1LLH3kMkGWsi"
   },
   "source": [
    "#### **Dealing with outliers in the VEHICLE_YEAR column.**"
   ]
  },
  {
   "cell_type": "markdown",
   "metadata": {
    "id": "q_22TSRbGWsi"
   },
   "source": [
    "The expected range of vehicle manufacture years on chicago roads is between 1950 and 2025. Values beyond this range are beyond realistic expectation."
   ]
  },
  {
   "cell_type": "code",
   "execution_count": null,
   "metadata": {
    "id": "G45JpSpFGWsj"
   },
   "outputs": [],
   "source": [
    "# Filter out vehicle years that are not between 1950 and 2025\n",
    "merged_df = merged_df[(merged_df['VEHICLE_YEAR'] <= 2025) & (merged_df[\"VEHICLE_YEAR\"] >= 1950)]"
   ]
  },
  {
   "cell_type": "markdown",
   "metadata": {
    "id": "gSQh1p5LGWsj"
   },
   "source": [
    "Plot the boxplot of the filtered years to confirm they are within the range."
   ]
  },
  {
   "cell_type": "code",
   "execution_count": null,
   "metadata": {
    "colab": {
     "base_uri": "https://localhost:8080/",
     "height": 700
    },
    "id": "ZDf_mCvoGWsj",
    "outputId": "b848b5a8-4710-40d4-d366-857b7ca00679"
   },
   "outputs": [],
   "source": [
    "# Set figure size\n",
    "plt.figure(figsize=(12, 8))\n",
    "\n",
    "# Create boxplot\n",
    "sns.boxplot(y=merged_df['VEHICLE_YEAR'])\n",
    "\n",
    "# Add title\n",
    "plt.title(\"Boxplot of Vehicle year Values in Chicago Crash Data\")"
   ]
  },
  {
   "cell_type": "markdown",
   "metadata": {
    "id": "Qw_ctQymGWsj"
   },
   "source": [
    "The values are now within the acceptable range as shown by the above boxplot"
   ]
  },
  {
   "cell_type": "markdown",
   "metadata": {
    "id": "mxL2yyDFGWsj"
   },
   "source": [
    "#### **Dealing with outliers in the AGE column.**"
   ]
  },
  {
   "cell_type": "markdown",
   "metadata": {
    "id": "UgdRTvJWGWsk"
   },
   "source": [
    "The above boxplot shows ages below 0. This is unrealistic and impossible. A realistic driving age might be above 12 years old thus the need to calibrate the data to fit this realistic range"
   ]
  },
  {
   "cell_type": "code",
   "execution_count": null,
   "metadata": {
    "id": "Xd48TWTNGWsk"
   },
   "outputs": [],
   "source": [
    "#Ensure the ages are all positive\n",
    "merged_df[\"AGE\"] = merged_df['AGE'].abs()\n",
    "\n",
    "# Filter out the entries with unrealistic ages\n",
    "merged_df = merged_df[(merged_df['AGE'] <= 110) & (merged_df[\"AGE\"] >= 12)]"
   ]
  },
  {
   "cell_type": "markdown",
   "metadata": {
    "id": "JJ5VMQjTGWsk"
   },
   "source": [
    "Plot a boxplot to confirm  ages are within the expected Range."
   ]
  },
  {
   "cell_type": "code",
   "execution_count": null,
   "metadata": {
    "colab": {
     "base_uri": "https://localhost:8080/",
     "height": 697
    },
    "id": "UMSqKKeBGWsk",
    "outputId": "b383892d-9f01-43aa-a20e-98bc9df36d6a"
   },
   "outputs": [],
   "source": [
    "# Set figure size\n",
    "plt.figure(figsize=(12, 8))\n",
    "\n",
    "# Create boxplot\n",
    "sns.boxplot(y=merged_df['AGE'])\n",
    "\n",
    "# Add title\n",
    "plt.title(\"Boxplot of age Values in Chicago Crash Data\")"
   ]
  },
  {
   "cell_type": "markdown",
   "metadata": {
    "id": "D4iZ99_JGWsl"
   },
   "source": [
    "The values are now within an acceptable range"
   ]
  },
  {
   "cell_type": "markdown",
   "metadata": {
    "id": "tC9ZIlzfGWsl"
   },
   "source": [
    "#### **Dealing with outliers in the STEET_NO column.**"
   ]
  },
  {
   "cell_type": "markdown",
   "metadata": {
    "id": "tQ_1XhHkGWsl"
   },
   "source": [
    "Chicago street numbers lie between 0 and 22000. Any value above or below this range is an error which needs to be filtered out."
   ]
  },
  {
   "cell_type": "code",
   "execution_count": null,
   "metadata": {
    "id": "EPESg4vOGWsl"
   },
   "outputs": [],
   "source": [
    "# Filter out the entries with unrealistic street numbers\n",
    "merged_df = merged_df[(merged_df['STREET_NO'] <= 22000) & (merged_df[\"STREET_NO\"] >= 0)]"
   ]
  },
  {
   "cell_type": "markdown",
   "metadata": {
    "id": "nHi3y9-QGWsl"
   },
   "source": [
    "Polt the boxplot of the Cleaned column."
   ]
  },
  {
   "cell_type": "code",
   "execution_count": null,
   "metadata": {
    "colab": {
     "base_uri": "https://localhost:8080/",
     "height": 697
    },
    "id": "_pS_KQqgGWsl",
    "outputId": "f871c9c9-15ba-458f-9d94-9a2f0cef2a12"
   },
   "outputs": [],
   "source": [
    "# Set figure size\n",
    "plt.figure(figsize=(12, 8))\n",
    "\n",
    "# Create boxplot\n",
    "sns.boxplot(y=merged_df['STREET_NO'])\n",
    "\n",
    "# Add title\n",
    "plt.title(\"Boxplot of street number Values in Chicago Crash Data\")"
   ]
  },
  {
   "cell_type": "markdown",
   "metadata": {
    "id": "VXM8hXjSGWsm"
   },
   "source": [
    "### Saving the clean data"
   ]
  },
  {
   "cell_type": "code",
   "execution_count": null,
   "metadata": {
    "id": "T74a790KGWsm"
   },
   "outputs": [],
   "source": [
    "#Saving to a csv file.\n",
    "merged_df.to_csv(\"Clean_Chicago_crash_data.csv\", index=False, encoding=\"utf-8\")"
   ]
  },
  {
   "cell_type": "markdown",
   "metadata": {
    "id": "t_WRIgjrGWsm"
   },
   "source": [
    "# DATA TRANSFORMATION."
   ]
  },
  {
   "cell_type": "markdown",
   "metadata": {
    "id": "uJVQ2cDaGWsm"
   },
   "source": [
    "## Feature Engineering\n",
    "\n",
    "Feature Engineering is the process of transforming raw data into meaningful features that improve the performance of machine learning models. It helps models learn patterns more effectively by creating, modifying, or selecting relevant features.\n"
   ]
  },
  {
   "cell_type": "markdown",
   "metadata": {
    "id": "8-iAmxnrGWsm"
   },
   "source": [
    "### **Creating A New Feature**\n",
    "\n",
    "Combine existing columns ie MAKE + MODEL → MAKE_MODEL."
   ]
  },
  {
   "cell_type": "code",
   "execution_count": null,
   "metadata": {
    "id": "l8_cjJd_GWsn"
   },
   "outputs": [],
   "source": [
    "#Combine make and model\n",
    "merged_df['MAKE_MODEL'] = merged_df['MAKE'] + \" \" + merged_df['MODEL']\n",
    "# Drop the individual make and model columns.\n",
    "merged_df.drop(columns=['MAKE', 'MODEL'], inplace=True)"
   ]
  },
  {
   "cell_type": "markdown",
   "metadata": {
    "id": "a8XFqC6xGWsn"
   },
   "source": [
    "### **Dropping rows whose primary contributory cause was not determined**\n"
   ]
  },
  {
   "cell_type": "code",
   "execution_count": null,
   "metadata": {
    "colab": {
     "base_uri": "https://localhost:8080/"
    },
    "id": "bICYnKj9GWsn",
    "outputId": "838464d0-0b7c-4153-f7a4-26310ea6abb4"
   },
   "outputs": [],
   "source": [
    "# Drop rows where PRIM_CONTRIBUTORY_CAUSE is \"Unable to determine\"\n",
    "merged_df = merged_df[merged_df['PRIM_CONTRIBUTORY_CAUSE'] != \"UNABLE TO DETERMINE\"]\n",
    "\n",
    "# Verify the change\n",
    "print(merged_df['PRIM_CONTRIBUTORY_CAUSE'].value_counts())\n"
   ]
  },
  {
   "cell_type": "markdown",
   "metadata": {
    "id": "mLmLDqrlGWsn"
   },
   "source": [
    "### **Dropping rows where MAKE_MODEL is unknown**"
   ]
  },
  {
   "cell_type": "code",
   "execution_count": null,
   "metadata": {
    "id": "OkaXM0S2GWsn"
   },
   "outputs": [],
   "source": [
    "# Drop rows where 'MAKE_MODEL' contains 'UNKNOWN'\n",
    "merged_df = merged_df[~merged_df['MAKE_MODEL'].str.contains('UNKNOWN', case=False, na=False)]\n",
    "\n",
    "# Reset the index after dropping rows\n",
    "merged_df.reset_index(drop=True, inplace=True)"
   ]
  },
  {
   "cell_type": "markdown",
   "metadata": {
    "id": "yoGIR5nyGWso"
   },
   "source": [
    "### **Combine entries TOYOTA CAMRY and TOYOTA MOTOR COMPANY, LTD. CAMRY into a unified value of TOYOTA CAMRY**"
   ]
  },
  {
   "cell_type": "code",
   "execution_count": null,
   "metadata": {
    "id": "8p64KiS2GWso"
   },
   "outputs": [],
   "source": [
    "# Define patterns to standardize to 'TOYOTA CAMRY'\n",
    "merged_df['MAKE_MODEL'] = merged_df['MAKE_MODEL'].str.replace(\n",
    "    r'TOYOTA.*CAMRY',\n",
    "    'TOYOTA CAMRY',\n",
    "    case=False,\n",
    "    regex=True\n",
    ")\n",
    "\n",
    "# Optional: Reset index after changes\n",
    "merged_df.reset_index(drop=True, inplace=True)\n",
    "\n"
   ]
  },
  {
   "cell_type": "markdown",
   "metadata": {
    "id": "EQzSC4IEGWsp"
   },
   "source": []
  },
  {
   "cell_type": "code",
   "execution_count": null,
   "metadata": {
    "colab": {
     "base_uri": "https://localhost:8080/",
     "height": 817
    },
    "id": "Jy5ZwVtfGWsp",
    "outputId": "e40651a2-bf0b-4a35-b00b-d48a29198223"
   },
   "outputs": [],
   "source": [
    "# Make a copy to be used for EDA\n",
    "\n",
    "project_df = merged_df.copy()\n",
    "\n",
    "#rewturn the new first 10 rows of the new df\n",
    "project_df.head(10)"
   ]
  },
  {
   "cell_type": "markdown",
   "metadata": {
    "id": "iJLI7tirGWsq"
   },
   "source": [
    "### **Normalization/Standardization**\n",
    "\n",
    "Both Normalization and Standardization are feature scaling techniques that adjust the range or distribution of numerical data, helping machine learning models perform better. Since this is done for proper modeling the data is divided  to target and predictor variables (y and X)."
   ]
  },
  {
   "cell_type": "code",
   "execution_count": null,
   "metadata": {
    "id": "cwLlS8ttGWsq"
   },
   "outputs": [],
   "source": [
    "# Define the target (y) and predictors (X).\n",
    "y = merged_df['PRIM_CONTRIBUTORY_CAUSE']\n",
    "X = merged_df.drop(columns='PRIM_CONTRIBUTORY_CAUSE')"
   ]
  },
  {
   "cell_type": "markdown",
   "metadata": {
    "id": "xp2a1U_EGWsq"
   },
   "source": [
    "#### Standardizing the numerical columns"
   ]
  },
  {
   "cell_type": "code",
   "execution_count": null,
   "metadata": {
    "id": "hRnUZ5kOGWsq"
   },
   "outputs": [],
   "source": [
    "# Initialize the StandardScaler\n",
    "scaler = StandardScaler()\n",
    "\n",
    "# Fit and transform only numerical columns\n",
    "X[numerical_cols] = scaler.fit_transform(X[numerical_cols])"
   ]
  },
  {
   "cell_type": "markdown",
   "metadata": {
    "id": "B2qRohnWGWsq"
   },
   "source": [
    "The numeric columns have been standardized and are ready for modeling."
   ]
  },
  {
   "cell_type": "markdown",
   "metadata": {
    "id": "_LRbmRmiGWsr"
   },
   "source": [
    "### **Encoding Categorical Variables**"
   ]
  },
  {
   "cell_type": "markdown",
   "metadata": {
    "id": "k6Cefo5wGWsr"
   },
   "source": [
    "Encoding is the process of converting categorical data (e.g., labels, text) into numerical format so that machine learning models can understand and process it. the target is encoded by label encoding while the predictors are encoded by One Hot Encoding. However, in our case where One Hot Encoding would require significant memory resources that are not available to us, we use frequency encoding."
   ]
  },
  {
   "cell_type": "markdown",
   "metadata": {
    "id": "FRgHDRDDGWsr"
   },
   "source": [
    "#### Apply Label Encoding to target variable"
   ]
  },
  {
   "cell_type": "code",
   "execution_count": null,
   "metadata": {
    "id": "GBUeC2PNGWsr"
   },
   "outputs": [],
   "source": [
    "#Initialize the encoder\n",
    "le = LabelEncoder()\n",
    "\n",
    "#Fit and transform the target variable\n",
    "y = le.fit_transform(y)"
   ]
  },
  {
   "cell_type": "markdown",
   "metadata": {
    "id": "dxT0hMFuGWsr"
   },
   "source": [
    "#### Apply Frequency Encoding to categorical columns in the predictor variables"
   ]
  },
  {
   "cell_type": "code",
   "execution_count": null,
   "metadata": {
    "id": "wr3z1q0kGWss"
   },
   "outputs": [],
   "source": [
    "# Select only categorical columns\n",
    "categorical_cols = X.select_dtypes(include=['object']).columns\n",
    "\n",
    "# Frequency Encoding for categorical columns\n",
    "for col in categorical_cols:\n",
    "    freq = X[col].value_counts(normalize=True)  # Get frequency of each category\n",
    "    X[col] = X[col].map(freq)  # Map frequencies to the original column\n"
   ]
  },
  {
   "cell_type": "markdown",
   "metadata": {
    "id": "PgEcrr4QGWss"
   },
   "source": [
    "### **Handling Imbalanced Data**"
   ]
  },
  {
   "cell_type": "markdown",
   "metadata": {
    "id": "6c3L1ibMGWss"
   },
   "source": [
    "Imbalanced data occurs when one or more classes in a classification problem have significantly fewer instances than others.  This might lead to misleading accuracy in the model.\n",
    "\n",
    "##### Importance of Handling Class Imbalance\n",
    "\n",
    "1. Bias in Model Predictions.\n",
    "Imbalanced data leads models to favor majority classes, ignoring minority classes.\n",
    "\n",
    "2. Misleading Accuracy Metrics.\n",
    "High overall accuracy can be misleading if the model simply predicts the majority class.\n",
    "\n",
    "3. Improved Model Performance.\n",
    "Proper handling improves the model's ability to generalize across all classes.\n",
    "\n",
    "\n"
   ]
  },
  {
   "cell_type": "markdown",
   "metadata": {
    "id": "_MBaNJEYGWss"
   },
   "source": [
    "#### Checking for class imbalance"
   ]
  },
  {
   "cell_type": "code",
   "execution_count": null,
   "metadata": {
    "colab": {
     "base_uri": "https://localhost:8080/"
    },
    "id": "8_WTcvxuGWst",
    "outputId": "53a37bda-b5d3-41aa-f79e-4de40b6f2972"
   },
   "outputs": [],
   "source": [
    "# Convert array to Pandas Series\n",
    "y = pd.Series(y, name='PRIM_CONTRIBUTORY_CAUSE')\n",
    "\n",
    "# Check class distribution\n",
    "class_counts = y.value_counts()\n",
    "print(class_counts)\n",
    "\n",
    "# Calculate class ratios\n",
    "class_ratios = (class_counts / len(y)) * 100\n",
    "\n",
    "# Display class ratios\n",
    "print(class_ratios)"
   ]
  },
  {
   "cell_type": "code",
   "execution_count": null,
   "metadata": {
    "colab": {
     "base_uri": "https://localhost:8080/",
     "height": 568
    },
    "id": "I9xCPCjKGWst",
    "outputId": "d91a21cd-8f86-42e7-e529-d1353d2fa68e"
   },
   "outputs": [],
   "source": [
    "# Plot class distribution as a bar chart\n",
    "plt.figure(figsize=(15, 6))\n",
    "class_counts.plot(kind='bar')\n",
    "plt.title('Class Distribution of Target Variable (PRIM_CONTRIBUTORY_CAUSE)')\n",
    "plt.xlabel('Class')\n",
    "plt.ylabel('Frequency')\n",
    "plt.xticks(rotation=90)\n",
    "plt.grid(axis='y', linestyle='--', alpha=0.7)\n",
    "plt.show()"
   ]
  },
  {
   "cell_type": "markdown",
   "metadata": {
    "id": "UV9-KBKCGWst"
   },
   "source": [
    "No class in the target variable covers more than 50% of the data, therefore the data is fairly balanced."
   ]
  },
  {
   "cell_type": "markdown",
   "metadata": {
    "id": "-Z8YLHAVGWsu"
   },
   "source": [
    "## DATA SPLITTING\n",
    "\n",
    "Data splitting is the process of dividing a dataset into separate parts for training and evaluating a machine learning model. It helps to assess model performance on unseen data, ensuring generalization and reducing overfitting."
   ]
  },
  {
   "cell_type": "code",
   "execution_count": null,
   "metadata": {
    "id": "bNkMii2RGWsv"
   },
   "outputs": [],
   "source": [
    "# Perform a 70% training and 30% testing split\n",
    "X_train, X_test, y_train, y_test = train_test_split(X, y, test_size=0.3, random_state=42, stratify= y)"
   ]
  },
  {
   "cell_type": "markdown",
   "metadata": {
    "id": "tgYYz9-sGWsw"
   },
   "source": [
    "# EXPLORATORY DATA ANALYSIS\n",
    "\n",
    "EDA is the process of analyzing and visualizing the dataset to understand its structure, patterns, and relationships."
   ]
  },
  {
   "cell_type": "markdown",
   "metadata": {
    "id": "PCDulODoGWsw"
   },
   "source": [
    "## What are the most common contributory causes of car accidents?\n",
    "\n",
    "### Univariate analysis"
   ]
  },
  {
   "cell_type": "markdown",
   "metadata": {
    "id": "_g585_5eGWsx"
   },
   "source": [
    "#### **Most common primary cause of accidents**\n",
    "\n"
   ]
  },
  {
   "cell_type": "code",
   "execution_count": null,
   "metadata": {
    "colab": {
     "base_uri": "https://localhost:8080/",
     "height": 834
    },
    "id": "2tARzM6oGWsx",
    "outputId": "4c03b3b2-a330-44c3-a28c-2248fea512e8"
   },
   "outputs": [],
   "source": [
    "\n",
    "\n",
    "# Calculate the number of occurrences per category\n",
    "primary_cause_count = project_df['PRIM_CONTRIBUTORY_CAUSE'].value_counts().reset_index()\n",
    "primary_cause_count.columns = ['Primary Cause', 'Number of Occurrences']\n",
    "\n",
    "# Create the bar plot using Plotly\n",
    "fig = px.bar(\n",
    "    primary_cause_count,\n",
    "    x='Number of Occurrences',\n",
    "    y='Primary Cause',\n",
    "    orientation='h',  # Horizontal bars\n",
    "    title='Primary Contributory Causes of Accidents',\n",
    "    color='Number of Occurrences',\n",
    "    color_continuous_scale='Viridis',\n",
    "    height=800,\n",
    ")\n",
    "\n",
    "# Update layout\n",
    "fig.update_layout(\n",
    "    xaxis_title='Number of Occurrences',\n",
    "    yaxis_title='Primary Cause',\n",
    "    showlegend=False\n",
    ")\n",
    "\n",
    "# Save the image\n",
    "plt.savefig('Primary_Cause_of_Accidents.png')\n",
    "\n",
    "# Show the plot\n",
    "fig.show()"
   ]
  },
  {
   "cell_type": "markdown",
   "metadata": {
    "id": "Twy6wXvmGWsy"
   },
   "source": [
    "The top ten are as shown below"
   ]
  },
  {
   "cell_type": "code",
   "execution_count": null,
   "metadata": {
    "colab": {
     "base_uri": "https://localhost:8080/",
     "height": 834
    },
    "id": "ngWov0T4GWsz",
    "outputId": "8cdf3788-bb49-4e5e-dd69-c29669fcbf9b"
   },
   "outputs": [],
   "source": [
    "# Calculate the number of occurrences per category and get the top 10\n",
    "top_10_causes = project_df['PRIM_CONTRIBUTORY_CAUSE'].value_counts().nlargest(10).reset_index()\n",
    "top_10_causes.columns = ['Primary Cause', 'Number of Occurrences']\n",
    "\n",
    "# Create the bar plot using Plotly\n",
    "fig = px.bar(\n",
    "    top_10_causes,\n",
    "    x='Number of Occurrences',\n",
    "    y='Primary Cause',\n",
    "    orientation='h',  # Horizontal bars\n",
    "    title='Top 10 Primary Contributory Causes of Accidents',\n",
    "    color='Number of Occurrences',\n",
    "    color_continuous_scale='Viridis',\n",
    "    height=800,\n",
    ")\n",
    "\n",
    "# Update layout\n",
    "fig.update_layout(\n",
    "    xaxis_title='Number of Occurrences',\n",
    "    yaxis_title='Primary Cause',\n",
    "    showlegend=False\n",
    ")\n",
    "\n",
    "# Save the image\n",
    "plt.savefig('Top_10_Primary_Cause_of_Accidents.png')\n",
    "\n",
    "# Show the plot\n",
    "fig.show()"
   ]
  },
  {
   "cell_type": "markdown",
   "metadata": {
    "id": "4eJcVxASGWs0"
   },
   "source": [
    "##### **Insight** - Most accidents in Chicago are caused by failing to yield right of way followed by folowing too closely."
   ]
  },
  {
   "cell_type": "markdown",
   "metadata": {
    "id": "7zXCUqt8GWs0"
   },
   "source": [
    "#### **Most common secondary cause of accidents**"
   ]
  },
  {
   "cell_type": "code",
   "execution_count": null,
   "metadata": {
    "colab": {
     "base_uri": "https://localhost:8080/",
     "height": 1000
    },
    "id": "-3-ZbLmtGWs0",
    "outputId": "c79e7a04-0d3f-4cd3-bc1f-f9da0466ff4b"
   },
   "outputs": [],
   "source": [
    "\n",
    "# Calculate the number of occurrences per category\n",
    "secondary_cause_counts = project_df['SEC_CONTRIBUTORY_CAUSE'].value_counts().reset_index()\n",
    "secondary_cause_counts.columns = ['Secondary Cause', 'Number of Occurrences']\n",
    "\n",
    "# Plot for all secondary contributory causes\n",
    "fig_total = px.bar(\n",
    "    secondary_cause_counts,\n",
    "    x='Number of Occurrences',\n",
    "    y='Secondary Cause',\n",
    "    orientation='h',\n",
    "    title='Distribution of Secondary Contributory Causes of Accidents',\n",
    "    color='Number of Occurrences',\n",
    "    color_continuous_scale='Viridis',\n",
    "    height=1200,\n",
    ")\n",
    "\n",
    "fig_total.update_layout(\n",
    "    xaxis_title='Number of Occurrences',\n",
    "    yaxis_title='Secondary Cause',\n",
    "    showlegend=False\n",
    ")\n",
    "\n",
    "# Show the plot\n",
    "fig_total.show()\n"
   ]
  },
  {
   "cell_type": "markdown",
   "metadata": {
    "id": "jJICu3sFGWs1"
   },
   "source": [
    "The top ten are as shown below"
   ]
  },
  {
   "cell_type": "code",
   "execution_count": null,
   "metadata": {
    "colab": {
     "base_uri": "https://localhost:8080/",
     "height": 634
    },
    "id": "mIw2cpL2GWs1",
    "outputId": "28f0a448-fdff-4cbe-d1a8-19871b0f56a2"
   },
   "outputs": [],
   "source": [
    "# Calculate the number of occurrences per category and get the top 10\n",
    "top_10_secondary_causes = project_df['SEC_CONTRIBUTORY_CAUSE'].value_counts().nlargest(10).reset_index()\n",
    "top_10_secondary_causes.columns = ['Secondary Cause', 'Number of Occurrences']\n",
    "\n",
    "# Create the bar plot using Plotly\n",
    "fig = px.bar(\n",
    "    top_10_secondary_causes,\n",
    "    x='Number of Occurrences',\n",
    "    y='Secondary Cause',\n",
    "    orientation='h',  # Horizontal bars\n",
    "    title='Top 10 Secondary Contributory Causes of Accidents',\n",
    "    color='Number of Occurrences',\n",
    "    color_continuous_scale='Plasma',\n",
    "    height=600,\n",
    ")\n",
    "\n",
    "# Update layout\n",
    "fig.update_layout(\n",
    "    xaxis_title='Number of Occurrences',\n",
    "    yaxis_title='Secondary Cause',\n",
    "    showlegend=False\n",
    ")\n",
    "\n",
    "# Save the image\n",
    "plt.savefig('Top_10_Secondary_Cause_of_Accidents.png')\n",
    "\n",
    "# Show the plot\n",
    "fig.show()\n"
   ]
  },
  {
   "cell_type": "markdown",
   "metadata": {
    "id": "XrQ2GJAMGWs2"
   },
   "source": [
    "##### **Insight** - Most accidents do not have a secondary cause or the secondary cause is usually not determined."
   ]
  },
  {
   "cell_type": "markdown",
   "metadata": {
    "id": "mCBz0Yt1GWs2"
   },
   "source": [
    "### Bivariate Analysis\n",
    "\n",
    "#### **Primary and secondary causes**"
   ]
  },
  {
   "cell_type": "code",
   "execution_count": null,
   "metadata": {
    "colab": {
     "base_uri": "https://localhost:8080/",
     "height": 834
    },
    "id": "_UiYs3WWGWs2",
    "outputId": "71e6dc84-11fe-4219-cb51-a57d1b4d68ce"
   },
   "outputs": [],
   "source": [
    "# Get the top 10 Primary and Secondary Contributory Causes\n",
    "top_10_primary = project_df['PRIM_CONTRIBUTORY_CAUSE'].value_counts().nlargest(10).index\n",
    "top_10_secondary = project_df['SEC_CONTRIBUTORY_CAUSE'].value_counts().nlargest(10).index\n",
    "\n",
    "# Filter the DataFrame to include only rows with top 10 primary and secondary causes\n",
    "top_10_df = project_df[\n",
    "    (project_df['PRIM_CONTRIBUTORY_CAUSE'].isin(top_10_primary)) &\n",
    "    (project_df['SEC_CONTRIBUTORY_CAUSE'].isin(top_10_secondary))\n",
    "]\n",
    "\n",
    "# Count the combinations of Primary and Secondary Causes\n",
    "primary_secondary_counts = top_10_df.groupby(['PRIM_CONTRIBUTORY_CAUSE', 'SEC_CONTRIBUTORY_CAUSE']).size().reset_index(name='Count')\n",
    "\n",
    "# Create a bar plot\n",
    "fig = px.bar(\n",
    "    primary_secondary_counts,\n",
    "    x='PRIM_CONTRIBUTORY_CAUSE',\n",
    "    y='Count',\n",
    "    color='SEC_CONTRIBUTORY_CAUSE',\n",
    "    barmode='group',\n",
    "    title='Top 10 Primary vs Top 10 Secondary Contributory Causes of Accidents',\n",
    "    labels={\n",
    "        'PRIM_CONTRIBUTORY_CAUSE': 'Primary Cause',\n",
    "        'Count': 'Number of Occurrences',\n",
    "        'SEC_CONTRIBUTORY_CAUSE': 'Secondary Cause'\n",
    "    },\n",
    "    height=800\n",
    ")\n",
    "\n",
    "# Update layout for better visibility\n",
    "fig.update_layout(\n",
    "    xaxis_title='Primary Cause',\n",
    "    yaxis_title='Number of Occurrences',\n",
    "    legend_title='Secondary Cause',\n",
    "    xaxis={'categoryorder':'total descending'}\n",
    ")\n",
    "\n",
    "# Save the image\n",
    "plt.savefig('Top_10_Primary_and_Secondary_Cause_of_Accidents.png')\n",
    "\n",
    "# Show the plot\n",
    "fig.show()\n",
    "\n"
   ]
  },
  {
   "cell_type": "markdown",
   "metadata": {
    "id": "n_Odl2M2GWs3"
   },
   "source": [
    "##### **Insight** - In the top 10 primary causes, we can see that there was mostly no secondary cause or it wasn't determined."
   ]
  },
  {
   "cell_type": "markdown",
   "metadata": {
    "id": "CJiWahheGWs3"
   },
   "source": [
    "## How do road and weather conditions impact the likelihood of different accident causes?\n",
    "\n",
    "### Univariate Analysis"
   ]
  },
  {
   "cell_type": "markdown",
   "metadata": {
    "id": "y36oAeiaGWs3"
   },
   "source": [
    "#### **Plot for Road Conditions**"
   ]
  },
  {
   "cell_type": "code",
   "execution_count": null,
   "metadata": {
    "colab": {
     "base_uri": "https://localhost:8080/",
     "height": 617
    },
    "id": "qpgdkELQGWs3",
    "outputId": "00b7f644-5200-4481-e2b1-519355a3376f"
   },
   "outputs": [],
   "source": [
    "\n",
    "import plotly.express as px\n",
    "\n",
    "# Count the occurrences of each Roadway Surface Condition\n",
    "road_surface_counts = project_df['ROADWAY_SURFACE_COND'].value_counts().reset_index()\n",
    "road_surface_counts.columns = ['Roadway Surface Condition', 'Count']\n",
    "\n",
    "# Sort by Count to ensure the largest is first\n",
    "road_surface_counts = road_surface_counts.sort_values(by='Count', ascending=False)\n",
    "\n",
    "# Create the bar plot using the reversed Greys color palette\n",
    "fig = px.bar(\n",
    "    road_surface_counts,\n",
    "    x='Roadway Surface Condition',\n",
    "    y='Count',\n",
    "    color='Roadway Surface Condition',\n",
    "    color_discrete_sequence=px.colors.sequential.Greys[::-1],  # Reverse the Greys palette\n",
    "    title='Roadway Surface Condition Distribution',\n",
    "    labels={\n",
    "        'Roadway Surface Condition': 'Road Surface Condition',\n",
    "        'Count': 'Number of Occurrences'\n",
    "    },\n",
    "    height=600\n",
    ")\n",
    "\n",
    "# Update layout for better readability\n",
    "fig.update_layout(\n",
    "    xaxis_title='Road Surface Condition',\n",
    "    yaxis_title='Number of Occurrences',\n",
    "    xaxis={'categoryorder':'total descending'},\n",
    "    showlegend=False  # Hide legend since color is repetitive\n",
    ")\n",
    "\n",
    "\n",
    "fig.show()\n"
   ]
  },
  {
   "cell_type": "markdown",
   "metadata": {
    "id": "s4UxXBc4GWs4"
   },
   "source": [
    "#### **Insight** - Most accidents occur on dry surfaces indicating more careless driving on dry surfaces."
   ]
  },
  {
   "cell_type": "markdown",
   "metadata": {
    "id": "jJsEv6XWGWs4"
   },
   "source": [
    "#### **Plot for Weather Conditions**"
   ]
  },
  {
   "cell_type": "code",
   "execution_count": null,
   "metadata": {
    "colab": {
     "base_uri": "https://localhost:8080/",
     "height": 634
    },
    "id": "M1fIodojGWs4",
    "outputId": "267f872f-d170-476b-d2dc-ffbc83710092"
   },
   "outputs": [],
   "source": [
    "# Count occurrences of each weather condition\n",
    "weather_conditions_counts = project_df['WEATHER_CONDITION'].value_counts().reset_index()\n",
    "weather_conditions_counts.columns = ['Weather Condition', 'Number of Occurrences']\n",
    "\n",
    "# Create a bar plot for Weather Conditions\n",
    "fig_weather = px.bar(\n",
    "    weather_conditions_counts,\n",
    "    x='Weather Condition',\n",
    "    y='Number of Occurrences',\n",
    "    title='Distribution of Weather Conditions',\n",
    "    color='Number of Occurrences',\n",
    "    color_continuous_scale='Edge',\n",
    "    height=600\n",
    ")\n",
    "\n",
    "fig_weather.update_layout(\n",
    "    xaxis_title='Weather Condition',\n",
    "    yaxis_title='Number of Occurrences',\n",
    "    showlegend=False,\n",
    "    xaxis={'categoryorder':'total descending'}\n",
    ")\n",
    "\n",
    "# Save the image\n",
    "plt.savefig('Weather_Condition.png')\n",
    "\n",
    "fig_weather.show()\n"
   ]
  },
  {
   "cell_type": "markdown",
   "metadata": {
    "id": "7G9ZyWWXGWs5"
   },
   "source": [
    "#### **Insight** - Most accidents occur on  clear weather indicating more careless driving in clear conditions."
   ]
  },
  {
   "cell_type": "markdown",
   "metadata": {
    "id": "yWEak_onGWs5"
   },
   "source": [
    "### Bivariate Analysis\n",
    "#### **Plot a bar chart of the top 10 primary contributory causes against road surface and weather conditions.**"
   ]
  },
  {
   "cell_type": "code",
   "execution_count": null,
   "metadata": {
    "colab": {
     "base_uri": "https://localhost:8080/",
     "height": 1000
    },
    "id": "4kHjN4oQGWs5",
    "outputId": "a1f7df25-9f4a-4c0d-def3-667622247c67"
   },
   "outputs": [],
   "source": [
    "# Get the top 10 primary contributory causes\n",
    "top_10_causes = project_df['PRIM_CONTRIBUTORY_CAUSE'].value_counts().nlargest(10).index\n",
    "\n",
    "# Filter the data for the top 10 causes\n",
    "filtered_df = project_df[project_df['PRIM_CONTRIBUTORY_CAUSE'].isin(top_10_causes)]\n",
    "\n",
    "# Group by cause and road surface condition\n",
    "road_surface_df = filtered_df.groupby(['PRIM_CONTRIBUTORY_CAUSE', 'ROADWAY_SURFACE_COND']).size().reset_index(name='Count')\n",
    "\n",
    "# Group by cause and weather condition\n",
    "weather_df = filtered_df.groupby(['PRIM_CONTRIBUTORY_CAUSE', 'WEATHER_CONDITION']).size().reset_index(name='Count')\n",
    "\n",
    "# Plot for Road Surface Condition\n",
    "fig1 = px.bar(\n",
    "    road_surface_df,\n",
    "    x='PRIM_CONTRIBUTORY_CAUSE',\n",
    "    y='Count',\n",
    "    color='ROADWAY_SURFACE_COND',\n",
    "    title='Top 10 Causes by Road Surface Condition',\n",
    "    color_discrete_sequence=px.colors.sequential.Greys[::-1],  # Darkest for the largest value\n",
    "    height=800\n",
    ")\n",
    "\n",
    "fig1.update_layout(barmode='group', xaxis_title='Primary Cause', yaxis_title='Number of Occurrences')\n",
    "fig1.show()\n",
    "\n",
    "# Plot for Weather Condition\n",
    "fig2 = px.bar(\n",
    "    weather_df,\n",
    "    x='PRIM_CONTRIBUTORY_CAUSE',\n",
    "    y='Count',\n",
    "    color='WEATHER_CONDITION',\n",
    "    title='Top 10 Causes by Weather Condition',\n",
    "    color_discrete_sequence=px.colors.sequential.Oranges[::-1],\n",
    "    height=800  # Darkest for the largest value\n",
    ")\n",
    "\n",
    "fig2.update_layout(barmode='group', xaxis_title='Primary Cause', yaxis_title='Number of Occurrences')\n",
    "\n",
    "# Save the image\n",
    "plt.savefig('Top_10_Causes_Against_Road_surface_and_Weather_Condition.png')\n",
    "\n",
    "\n",
    "fig2.show()"
   ]
  },
  {
   "cell_type": "markdown",
   "metadata": {
    "id": "bKZrIxB-GWs6"
   },
   "source": [
    "#### **Insight** - we can see the most common causes of accidents also come about on dry roads and clears weather."
   ]
  },
  {
   "cell_type": "markdown",
   "metadata": {
    "id": "AC9ctuZCGWs6"
   },
   "source": [
    "## Do certain car models or vehicle types have a higher risk of specific accident causes?\n",
    "\n",
    "### Univariate Analysis"
   ]
  },
  {
   "cell_type": "markdown",
   "metadata": {
    "id": "ofkn_CjzGWs7"
   },
   "source": [
    "#### **Plot top 10 Vehicle make and model prone to accidents**"
   ]
  },
  {
   "cell_type": "code",
   "execution_count": null,
   "metadata": {
    "colab": {
     "base_uri": "https://localhost:8080/",
     "height": 559
    },
    "id": "8t0VKoIJGWs7",
    "outputId": "53570257-400c-42db-fe82-5f8dff9b82b5"
   },
   "outputs": [],
   "source": [
    "# Count occurrences of each vehicle type\n",
    "vehicle_count_df = project_df['MAKE_MODEL'].value_counts().reset_index(name='Count').rename(columns={'index': 'MAKE_MODEL'})\n",
    "\n",
    "# Get the top 10 most accident-prone vehicle types\n",
    "top_vehicles_df = vehicle_count_df.head(10)\n",
    "\n",
    "# Plot using Plotly\n",
    "fig = px.bar(\n",
    "    top_vehicles_df,\n",
    "    x='MAKE_MODEL',\n",
    "    y='Count',\n",
    "    title='Top 10 Vehicle Makes and Models Prone to Accidents',\n",
    "    labels={'MAKE_MODEL': 'Vehicle Make and Model', 'Count': 'Number of Accidents'},\n",
    "    color='Count',\n",
    "    color_continuous_scale=px.colors.sequential.Cividis[::-1]  # Darker shades for higher counts\n",
    ")\n",
    "fig.update_layout(xaxis={'categoryorder': 'total descending'}, xaxis_tickangle=-45)\n",
    "\n",
    "plt.savefig('Top_10_Vehicle_models.png')\n",
    "\n",
    "fig.show()"
   ]
  },
  {
   "cell_type": "markdown",
   "metadata": {
    "id": "Zl026Oi_GWs7"
   },
   "source": [
    "#### **Insight** the top 10 vehicles most prone to accidents are\n",
    "1. TOYOTA CAMRY with 87,396 accidents reported\n",
    "2. HONDA CIVIC with 52,375 accidents reported\n",
    "3. HONDA ACCORD with 47,035 accidents reported\n",
    "4. CHEVROLET IMPALA with 37,739 accidents reported\n",
    "5. NISSAN ROGUE with 36,619 accidents reported\n",
    "6. FORD EXPLORER with 36,474 accidents reported\n",
    "7. CHEVROLET EQUINOX with 34,638 accidents reported\n",
    "8. HYUNDAI ELANTRA with 31,584 accidents reported\n",
    "9. TOYOTA COROLLA with 30,719 accidents reported\n",
    "10. NISSAN ALTIMA with 30,009 accidents reported"
   ]
  },
  {
   "cell_type": "markdown",
   "metadata": {
    "id": "y8CtnZdJGWs8"
   },
   "source": [
    "## Is blood alcohol content a major factor in accident occurence?\n",
    "### Univariate Analysis"
   ]
  },
  {
   "cell_type": "markdown",
   "metadata": {
    "id": "BrzcfOIjGWs8"
   },
   "source": [
    "#### **Plot BAC against accident frequency**"
   ]
  },
  {
   "cell_type": "code",
   "execution_count": null,
   "metadata": {
    "colab": {
     "base_uri": "https://localhost:8080/",
     "height": 559
    },
    "id": "rE4DFxwrGWs8",
    "outputId": "8d1afab3-be35-4937-deb9-9db8ed8294f7"
   },
   "outputs": [],
   "source": [
    "# Grouping accidents by BAC levels\n",
    "bac_df = project_df.groupby('BAC_RESULT VALUE').size().reset_index(name='Count')\n",
    "\n",
    "# Sorting by BAC level for a better line plot\n",
    "bac_df = bac_df.sort_values(by='BAC_RESULT VALUE')\n",
    "\n",
    "# Creating the line plot\n",
    "fig = px.line(\n",
    "    bac_df,\n",
    "    x='BAC_RESULT VALUE',\n",
    "    y='Count',\n",
    "    title='Accident Occurrence by Blood Alcohol Content',\n",
    "    labels={'BAC_RESULT VALUE': 'Blood Alcohol Content', 'Count': 'Number of Accidents'},\n",
    "    color_discrete_sequence=['#FF6347']  # Using a red shade to highlight risk\n",
    ")\n",
    "\n",
    "plt.savefig('Blood_Alcohol_Content_at_time_of_accident.png')\n",
    "\n",
    "fig.show()\n"
   ]
  },
  {
   "cell_type": "markdown",
   "metadata": {
    "id": "dmBUFi_5GWs8"
   },
   "source": [
    "#### **Insight** - Blood Alcohol Content at time of most accidents was below the general allowable limit so it is not a huge contributory factor"
   ]
  },
  {
   "cell_type": "markdown",
   "metadata": {
    "id": "ME2HWlHRGWs9"
   },
   "source": [
    "#### Plot BAC against PRIM_CONTIBUTORY_CAUSE."
   ]
  },
  {
   "cell_type": "code",
   "execution_count": null,
   "metadata": {
    "colab": {
     "base_uri": "https://localhost:8080/",
     "height": 834
    },
    "id": "gYtv4PO-GWs9",
    "outputId": "796b1179-cc09-4813-c96c-897a94cd0ca4"
   },
   "outputs": [
    {
     "data": {
      "text/html": [
       "<html>\n",
       "<head><meta charset=\"utf-8\" /></head>\n",
       "<body>\n",
       "    <div>            <script src=\"https://cdnjs.cloudflare.com/ajax/libs/mathjax/2.7.5/MathJax.js?config=TeX-AMS-MML_SVG\"></script><script type=\"text/javascript\">if (window.MathJax && window.MathJax.Hub && window.MathJax.Hub.Config) {window.MathJax.Hub.Config({SVG: {font: \"STIX-Web\"}});}</script>                <script type=\"text/javascript\">window.PlotlyConfig = {MathJaxConfig: 'local'};</script>\n",
       "        <script charset=\"utf-8\" src=\"https://cdn.plot.ly/plotly-2.35.2.min.js\"></script>                <div id=\"5a711b84-9c51-4dbf-872f-2933a78f764b\" class=\"plotly-graph-div\" style=\"height:800px; width:1200px;\"></div>            <script type=\"text/javascript\">                                    window.PLOTLYENV=window.PLOTLYENV || {};                                    if (document.getElementById(\"5a711b84-9c51-4dbf-872f-2933a78f764b\")) {                    Plotly.newPlot(                        \"5a711b84-9c51-4dbf-872f-2933a78f764b\",                        [{\"hovertemplate\":\"Primary Cause=DISREGARDING TRAFFIC SIGNALS\\u003cbr\\u003eBlood Alcohol Content=%{x}\\u003cbr\\u003eNumber of Accidents=%{y}\\u003cextra\\u003e\\u003c\\u002fextra\\u003e\",\"legendgroup\":\"DISREGARDING TRAFFIC SIGNALS\",\"line\":{\"color\":\"#636efa\",\"dash\":\"solid\"},\"marker\":{\"symbol\":\"circle\"},\"mode\":\"lines\",\"name\":\"DISREGARDING TRAFFIC SIGNALS\",\"orientation\":\"v\",\"showlegend\":true,\"x\":[0.0,0.02,0.17],\"xaxis\":\"x\",\"y\":[2827,2,2],\"yaxis\":\"y\",\"type\":\"scatter\"},{\"hovertemplate\":\"Primary Cause=NOT APPLICABLE\\u003cbr\\u003eBlood Alcohol Content=%{x}\\u003cbr\\u003eNumber of Accidents=%{y}\\u003cextra\\u003e\\u003c\\u002fextra\\u003e\",\"legendgroup\":\"NOT APPLICABLE\",\"line\":{\"color\":\"#EF553B\",\"dash\":\"solid\"},\"marker\":{\"symbol\":\"circle\"},\"mode\":\"lines\",\"name\":\"NOT APPLICABLE\",\"orientation\":\"v\",\"showlegend\":true,\"x\":[0.0,0.17],\"xaxis\":\"x\",\"y\":[4385,3],\"yaxis\":\"y\",\"type\":\"scatter\"},{\"hovertemplate\":\"Primary Cause=IMPROPER OVERTAKING\\u002fPASSING\\u003cbr\\u003eBlood Alcohol Content=%{x}\\u003cbr\\u003eNumber of Accidents=%{y}\\u003cextra\\u003e\\u003c\\u002fextra\\u003e\",\"legendgroup\":\"IMPROPER OVERTAKING\\u002fPASSING\",\"line\":{\"color\":\"#00cc96\",\"dash\":\"solid\"},\"marker\":{\"symbol\":\"circle\"},\"mode\":\"lines\",\"name\":\"IMPROPER OVERTAKING\\u002fPASSING\",\"orientation\":\"v\",\"showlegend\":true,\"x\":[0.0],\"xaxis\":\"x\",\"y\":[4841],\"yaxis\":\"y\",\"type\":\"scatter\"},{\"hovertemplate\":\"Primary Cause=IMPROPER LANE USAGE\\u003cbr\\u003eBlood Alcohol Content=%{x}\\u003cbr\\u003eNumber of Accidents=%{y}\\u003cextra\\u003e\\u003c\\u002fextra\\u003e\",\"legendgroup\":\"IMPROPER LANE USAGE\",\"line\":{\"color\":\"#ab63fa\",\"dash\":\"solid\"},\"marker\":{\"symbol\":\"circle\"},\"mode\":\"lines\",\"name\":\"IMPROPER LANE USAGE\",\"orientation\":\"v\",\"showlegend\":true,\"x\":[0.0,0.37],\"xaxis\":\"x\",\"y\":[3672,3],\"yaxis\":\"y\",\"type\":\"scatter\"},{\"hovertemplate\":\"Primary Cause=IMPROPER BACKING\\u003cbr\\u003eBlood Alcohol Content=%{x}\\u003cbr\\u003eNumber of Accidents=%{y}\\u003cextra\\u003e\\u003c\\u002fextra\\u003e\",\"legendgroup\":\"IMPROPER BACKING\",\"line\":{\"color\":\"#FFA15A\",\"dash\":\"solid\"},\"marker\":{\"symbol\":\"circle\"},\"mode\":\"lines\",\"name\":\"IMPROPER BACKING\",\"orientation\":\"v\",\"showlegend\":true,\"x\":[0.0],\"xaxis\":\"x\",\"y\":[3050],\"yaxis\":\"y\",\"type\":\"scatter\"},{\"hovertemplate\":\"Primary Cause=IMPROPER TURNING\\u002fNO SIGNAL\\u003cbr\\u003eBlood Alcohol Content=%{x}\\u003cbr\\u003eNumber of Accidents=%{y}\\u003cextra\\u003e\\u003c\\u002fextra\\u003e\",\"legendgroup\":\"IMPROPER TURNING\\u002fNO SIGNAL\",\"line\":{\"color\":\"#19d3f3\",\"dash\":\"solid\"},\"marker\":{\"symbol\":\"circle\"},\"mode\":\"lines\",\"name\":\"IMPROPER TURNING\\u002fNO SIGNAL\",\"orientation\":\"v\",\"showlegend\":true,\"x\":[0.0],\"xaxis\":\"x\",\"y\":[3541],\"yaxis\":\"y\",\"type\":\"scatter\"},{\"hovertemplate\":\"Primary Cause=FAILING TO YIELD RIGHT-OF-WAY\\u003cbr\\u003eBlood Alcohol Content=%{x}\\u003cbr\\u003eNumber of Accidents=%{y}\\u003cextra\\u003e\\u003c\\u002fextra\\u003e\",\"legendgroup\":\"FAILING TO YIELD RIGHT-OF-WAY\",\"line\":{\"color\":\"#FF6692\",\"dash\":\"solid\"},\"marker\":{\"symbol\":\"circle\"},\"mode\":\"lines\",\"name\":\"FAILING TO YIELD RIGHT-OF-WAY\",\"orientation\":\"v\",\"showlegend\":true,\"x\":[0.0,0.17],\"xaxis\":\"x\",\"y\":[11654,2],\"yaxis\":\"y\",\"type\":\"scatter\"},{\"hovertemplate\":\"Primary Cause=FAILING TO REDUCE SPEED TO AVOID CRASH\\u003cbr\\u003eBlood Alcohol Content=%{x}\\u003cbr\\u003eNumber of Accidents=%{y}\\u003cextra\\u003e\\u003c\\u002fextra\\u003e\",\"legendgroup\":\"FAILING TO REDUCE SPEED TO AVOID CRASH\",\"line\":{\"color\":\"#B6E880\",\"dash\":\"solid\"},\"marker\":{\"symbol\":\"circle\"},\"mode\":\"lines\",\"name\":\"FAILING TO REDUCE SPEED TO AVOID CRASH\",\"orientation\":\"v\",\"showlegend\":true,\"x\":[0.0,0.12,0.21,0.22],\"xaxis\":\"x\",\"y\":[5029,2,4,2],\"yaxis\":\"y\",\"type\":\"scatter\"},{\"hovertemplate\":\"Primary Cause=DRIVING SKILLS\\u002fKNOWLEDGE\\u002fEXPERIENCE\\u003cbr\\u003eBlood Alcohol Content=%{x}\\u003cbr\\u003eNumber of Accidents=%{y}\\u003cextra\\u003e\\u003c\\u002fextra\\u003e\",\"legendgroup\":\"DRIVING SKILLS\\u002fKNOWLEDGE\\u002fEXPERIENCE\",\"line\":{\"color\":\"#FF97FF\",\"dash\":\"solid\"},\"marker\":{\"symbol\":\"circle\"},\"mode\":\"lines\",\"name\":\"DRIVING SKILLS\\u002fKNOWLEDGE\\u002fEXPERIENCE\",\"orientation\":\"v\",\"showlegend\":true,\"x\":[0.0],\"xaxis\":\"x\",\"y\":[3038],\"yaxis\":\"y\",\"type\":\"scatter\"},{\"hovertemplate\":\"Primary Cause=FOLLOWING TOO CLOSELY\\u003cbr\\u003eBlood Alcohol Content=%{x}\\u003cbr\\u003eNumber of Accidents=%{y}\\u003cextra\\u003e\\u003c\\u002fextra\\u003e\",\"legendgroup\":\"FOLLOWING TOO CLOSELY\",\"line\":{\"color\":\"#FECB52\",\"dash\":\"solid\"},\"marker\":{\"symbol\":\"circle\"},\"mode\":\"lines\",\"name\":\"FOLLOWING TOO CLOSELY\",\"orientation\":\"v\",\"showlegend\":true,\"x\":[0.0],\"xaxis\":\"x\",\"y\":[10215],\"yaxis\":\"y\",\"type\":\"scatter\"}],                        {\"template\":{\"data\":{\"histogram2dcontour\":[{\"type\":\"histogram2dcontour\",\"colorbar\":{\"outlinewidth\":0,\"ticks\":\"\"},\"colorscale\":[[0.0,\"#0d0887\"],[0.1111111111111111,\"#46039f\"],[0.2222222222222222,\"#7201a8\"],[0.3333333333333333,\"#9c179e\"],[0.4444444444444444,\"#bd3786\"],[0.5555555555555556,\"#d8576b\"],[0.6666666666666666,\"#ed7953\"],[0.7777777777777778,\"#fb9f3a\"],[0.8888888888888888,\"#fdca26\"],[1.0,\"#f0f921\"]]}],\"choropleth\":[{\"type\":\"choropleth\",\"colorbar\":{\"outlinewidth\":0,\"ticks\":\"\"}}],\"histogram2d\":[{\"type\":\"histogram2d\",\"colorbar\":{\"outlinewidth\":0,\"ticks\":\"\"},\"colorscale\":[[0.0,\"#0d0887\"],[0.1111111111111111,\"#46039f\"],[0.2222222222222222,\"#7201a8\"],[0.3333333333333333,\"#9c179e\"],[0.4444444444444444,\"#bd3786\"],[0.5555555555555556,\"#d8576b\"],[0.6666666666666666,\"#ed7953\"],[0.7777777777777778,\"#fb9f3a\"],[0.8888888888888888,\"#fdca26\"],[1.0,\"#f0f921\"]]}],\"heatmap\":[{\"type\":\"heatmap\",\"colorbar\":{\"outlinewidth\":0,\"ticks\":\"\"},\"colorscale\":[[0.0,\"#0d0887\"],[0.1111111111111111,\"#46039f\"],[0.2222222222222222,\"#7201a8\"],[0.3333333333333333,\"#9c179e\"],[0.4444444444444444,\"#bd3786\"],[0.5555555555555556,\"#d8576b\"],[0.6666666666666666,\"#ed7953\"],[0.7777777777777778,\"#fb9f3a\"],[0.8888888888888888,\"#fdca26\"],[1.0,\"#f0f921\"]]}],\"heatmapgl\":[{\"type\":\"heatmapgl\",\"colorbar\":{\"outlinewidth\":0,\"ticks\":\"\"},\"colorscale\":[[0.0,\"#0d0887\"],[0.1111111111111111,\"#46039f\"],[0.2222222222222222,\"#7201a8\"],[0.3333333333333333,\"#9c179e\"],[0.4444444444444444,\"#bd3786\"],[0.5555555555555556,\"#d8576b\"],[0.6666666666666666,\"#ed7953\"],[0.7777777777777778,\"#fb9f3a\"],[0.8888888888888888,\"#fdca26\"],[1.0,\"#f0f921\"]]}],\"contourcarpet\":[{\"type\":\"contourcarpet\",\"colorbar\":{\"outlinewidth\":0,\"ticks\":\"\"}}],\"contour\":[{\"type\":\"contour\",\"colorbar\":{\"outlinewidth\":0,\"ticks\":\"\"},\"colorscale\":[[0.0,\"#0d0887\"],[0.1111111111111111,\"#46039f\"],[0.2222222222222222,\"#7201a8\"],[0.3333333333333333,\"#9c179e\"],[0.4444444444444444,\"#bd3786\"],[0.5555555555555556,\"#d8576b\"],[0.6666666666666666,\"#ed7953\"],[0.7777777777777778,\"#fb9f3a\"],[0.8888888888888888,\"#fdca26\"],[1.0,\"#f0f921\"]]}],\"surface\":[{\"type\":\"surface\",\"colorbar\":{\"outlinewidth\":0,\"ticks\":\"\"},\"colorscale\":[[0.0,\"#0d0887\"],[0.1111111111111111,\"#46039f\"],[0.2222222222222222,\"#7201a8\"],[0.3333333333333333,\"#9c179e\"],[0.4444444444444444,\"#bd3786\"],[0.5555555555555556,\"#d8576b\"],[0.6666666666666666,\"#ed7953\"],[0.7777777777777778,\"#fb9f3a\"],[0.8888888888888888,\"#fdca26\"],[1.0,\"#f0f921\"]]}],\"mesh3d\":[{\"type\":\"mesh3d\",\"colorbar\":{\"outlinewidth\":0,\"ticks\":\"\"}}],\"scatter\":[{\"fillpattern\":{\"fillmode\":\"overlay\",\"size\":10,\"solidity\":0.2},\"type\":\"scatter\"}],\"parcoords\":[{\"type\":\"parcoords\",\"line\":{\"colorbar\":{\"outlinewidth\":0,\"ticks\":\"\"}}}],\"scatterpolargl\":[{\"type\":\"scatterpolargl\",\"marker\":{\"colorbar\":{\"outlinewidth\":0,\"ticks\":\"\"}}}],\"bar\":[{\"error_x\":{\"color\":\"#2a3f5f\"},\"error_y\":{\"color\":\"#2a3f5f\"},\"marker\":{\"line\":{\"color\":\"#E5ECF6\",\"width\":0.5},\"pattern\":{\"fillmode\":\"overlay\",\"size\":10,\"solidity\":0.2}},\"type\":\"bar\"}],\"scattergeo\":[{\"type\":\"scattergeo\",\"marker\":{\"colorbar\":{\"outlinewidth\":0,\"ticks\":\"\"}}}],\"scatterpolar\":[{\"type\":\"scatterpolar\",\"marker\":{\"colorbar\":{\"outlinewidth\":0,\"ticks\":\"\"}}}],\"histogram\":[{\"marker\":{\"pattern\":{\"fillmode\":\"overlay\",\"size\":10,\"solidity\":0.2}},\"type\":\"histogram\"}],\"scattergl\":[{\"type\":\"scattergl\",\"marker\":{\"colorbar\":{\"outlinewidth\":0,\"ticks\":\"\"}}}],\"scatter3d\":[{\"type\":\"scatter3d\",\"line\":{\"colorbar\":{\"outlinewidth\":0,\"ticks\":\"\"}},\"marker\":{\"colorbar\":{\"outlinewidth\":0,\"ticks\":\"\"}}}],\"scattermapbox\":[{\"type\":\"scattermapbox\",\"marker\":{\"colorbar\":{\"outlinewidth\":0,\"ticks\":\"\"}}}],\"scatterternary\":[{\"type\":\"scatterternary\",\"marker\":{\"colorbar\":{\"outlinewidth\":0,\"ticks\":\"\"}}}],\"scattercarpet\":[{\"type\":\"scattercarpet\",\"marker\":{\"colorbar\":{\"outlinewidth\":0,\"ticks\":\"\"}}}],\"carpet\":[{\"aaxis\":{\"endlinecolor\":\"#2a3f5f\",\"gridcolor\":\"white\",\"linecolor\":\"white\",\"minorgridcolor\":\"white\",\"startlinecolor\":\"#2a3f5f\"},\"baxis\":{\"endlinecolor\":\"#2a3f5f\",\"gridcolor\":\"white\",\"linecolor\":\"white\",\"minorgridcolor\":\"white\",\"startlinecolor\":\"#2a3f5f\"},\"type\":\"carpet\"}],\"table\":[{\"cells\":{\"fill\":{\"color\":\"#EBF0F8\"},\"line\":{\"color\":\"white\"}},\"header\":{\"fill\":{\"color\":\"#C8D4E3\"},\"line\":{\"color\":\"white\"}},\"type\":\"table\"}],\"barpolar\":[{\"marker\":{\"line\":{\"color\":\"#E5ECF6\",\"width\":0.5},\"pattern\":{\"fillmode\":\"overlay\",\"size\":10,\"solidity\":0.2}},\"type\":\"barpolar\"}],\"pie\":[{\"automargin\":true,\"type\":\"pie\"}]},\"layout\":{\"autotypenumbers\":\"strict\",\"colorway\":[\"#636efa\",\"#EF553B\",\"#00cc96\",\"#ab63fa\",\"#FFA15A\",\"#19d3f3\",\"#FF6692\",\"#B6E880\",\"#FF97FF\",\"#FECB52\"],\"font\":{\"color\":\"#2a3f5f\"},\"hovermode\":\"closest\",\"hoverlabel\":{\"align\":\"left\"},\"paper_bgcolor\":\"white\",\"plot_bgcolor\":\"#E5ECF6\",\"polar\":{\"bgcolor\":\"#E5ECF6\",\"angularaxis\":{\"gridcolor\":\"white\",\"linecolor\":\"white\",\"ticks\":\"\"},\"radialaxis\":{\"gridcolor\":\"white\",\"linecolor\":\"white\",\"ticks\":\"\"}},\"ternary\":{\"bgcolor\":\"#E5ECF6\",\"aaxis\":{\"gridcolor\":\"white\",\"linecolor\":\"white\",\"ticks\":\"\"},\"baxis\":{\"gridcolor\":\"white\",\"linecolor\":\"white\",\"ticks\":\"\"},\"caxis\":{\"gridcolor\":\"white\",\"linecolor\":\"white\",\"ticks\":\"\"}},\"coloraxis\":{\"colorbar\":{\"outlinewidth\":0,\"ticks\":\"\"}},\"colorscale\":{\"sequential\":[[0.0,\"#0d0887\"],[0.1111111111111111,\"#46039f\"],[0.2222222222222222,\"#7201a8\"],[0.3333333333333333,\"#9c179e\"],[0.4444444444444444,\"#bd3786\"],[0.5555555555555556,\"#d8576b\"],[0.6666666666666666,\"#ed7953\"],[0.7777777777777778,\"#fb9f3a\"],[0.8888888888888888,\"#fdca26\"],[1.0,\"#f0f921\"]],\"sequentialminus\":[[0.0,\"#0d0887\"],[0.1111111111111111,\"#46039f\"],[0.2222222222222222,\"#7201a8\"],[0.3333333333333333,\"#9c179e\"],[0.4444444444444444,\"#bd3786\"],[0.5555555555555556,\"#d8576b\"],[0.6666666666666666,\"#ed7953\"],[0.7777777777777778,\"#fb9f3a\"],[0.8888888888888888,\"#fdca26\"],[1.0,\"#f0f921\"]],\"diverging\":[[0,\"#8e0152\"],[0.1,\"#c51b7d\"],[0.2,\"#de77ae\"],[0.3,\"#f1b6da\"],[0.4,\"#fde0ef\"],[0.5,\"#f7f7f7\"],[0.6,\"#e6f5d0\"],[0.7,\"#b8e186\"],[0.8,\"#7fbc41\"],[0.9,\"#4d9221\"],[1,\"#276419\"]]},\"xaxis\":{\"gridcolor\":\"white\",\"linecolor\":\"white\",\"ticks\":\"\",\"title\":{\"standoff\":15},\"zerolinecolor\":\"white\",\"automargin\":true,\"zerolinewidth\":2},\"yaxis\":{\"gridcolor\":\"white\",\"linecolor\":\"white\",\"ticks\":\"\",\"title\":{\"standoff\":15},\"zerolinecolor\":\"white\",\"automargin\":true,\"zerolinewidth\":2},\"scene\":{\"xaxis\":{\"backgroundcolor\":\"#E5ECF6\",\"gridcolor\":\"white\",\"linecolor\":\"white\",\"showbackground\":true,\"ticks\":\"\",\"zerolinecolor\":\"white\",\"gridwidth\":2},\"yaxis\":{\"backgroundcolor\":\"#E5ECF6\",\"gridcolor\":\"white\",\"linecolor\":\"white\",\"showbackground\":true,\"ticks\":\"\",\"zerolinecolor\":\"white\",\"gridwidth\":2},\"zaxis\":{\"backgroundcolor\":\"#E5ECF6\",\"gridcolor\":\"white\",\"linecolor\":\"white\",\"showbackground\":true,\"ticks\":\"\",\"zerolinecolor\":\"white\",\"gridwidth\":2}},\"shapedefaults\":{\"line\":{\"color\":\"#2a3f5f\"}},\"annotationdefaults\":{\"arrowcolor\":\"#2a3f5f\",\"arrowhead\":0,\"arrowwidth\":1},\"geo\":{\"bgcolor\":\"white\",\"landcolor\":\"#E5ECF6\",\"subunitcolor\":\"white\",\"showland\":true,\"showlakes\":true,\"lakecolor\":\"white\"},\"title\":{\"x\":0.05},\"mapbox\":{\"style\":\"light\"}}},\"xaxis\":{\"anchor\":\"y\",\"domain\":[0.0,1.0],\"title\":{\"text\":\"Blood Alcohol Content\"}},\"yaxis\":{\"anchor\":\"x\",\"domain\":[0.0,1.0],\"title\":{\"text\":\"Number of Accidents\"}},\"legend\":{\"title\":{\"text\":\"Primary Cause\"},\"tracegroupgap\":0},\"title\":{\"text\":\"Accident Occurrence by BAC and Top 10 Primary Contributory Causes\"},\"height\":800,\"width\":1200},                        {\"responsive\": true}                    ).then(function(){\n",
       "                            \n",
       "var gd = document.getElementById('5a711b84-9c51-4dbf-872f-2933a78f764b');\n",
       "var x = new MutationObserver(function (mutations, observer) {{\n",
       "        var display = window.getComputedStyle(gd).display;\n",
       "        if (!display || display === 'none') {{\n",
       "            console.log([gd, 'removed!']);\n",
       "            Plotly.purge(gd);\n",
       "            observer.disconnect();\n",
       "        }}\n",
       "}});\n",
       "\n",
       "// Listen for the removal of the full notebook cells\n",
       "var notebookContainer = gd.closest('#notebook-container');\n",
       "if (notebookContainer) {{\n",
       "    x.observe(notebookContainer, {childList: true});\n",
       "}}\n",
       "\n",
       "// Listen for the clearing of the current output cell\n",
       "var outputEl = gd.closest('.output');\n",
       "if (outputEl) {{\n",
       "    x.observe(outputEl, {childList: true});\n",
       "}}\n",
       "\n",
       "                        })                };                            </script>        </div>\n",
       "</body>\n",
       "</html>"
      ]
     },
     "metadata": {},
     "output_type": "display_data"
    },
    {
     "data": {
      "text/plain": [
       "<Figure size 640x480 with 0 Axes>"
      ]
     },
     "metadata": {},
     "output_type": "display_data"
    }
   ],
   "source": [
    "# Get the top 10 primary causes by occurrence\n",
    "top_10_causes = project_df['PRIM_CONTRIBUTORY_CAUSE'].value_counts().head(10).index\n",
    "\n",
    "# Filter the DataFrame to include only the top 10 causes\n",
    "top_bac_cause_df = project_df[project_df['PRIM_CONTRIBUTORY_CAUSE'].isin(top_10_causes)]\n",
    "\n",
    "# Group by BAC level and Primary Contributory Cause\n",
    "bac_cause_df = top_bac_cause_df.groupby(['BAC_RESULT VALUE', 'PRIM_CONTRIBUTORY_CAUSE']).size().reset_index(name='Count')\n",
    "\n",
    "# Sort by BAC level for better line progression\n",
    "bac_cause_df = bac_cause_df.sort_values(by='BAC_RESULT VALUE')\n",
    "\n",
    "# Create the line plot\n",
    "fig = px.line(\n",
    "    bac_cause_df,\n",
    "    x='BAC_RESULT VALUE',\n",
    "    y='Count',\n",
    "    color='PRIM_CONTRIBUTORY_CAUSE',\n",
    "    title='Accident Occurrence by BAC and Top 10 Primary Contributory Causes',\n",
    "    height=800,\n",
    "    width=1200,\n",
    "    labels={\n",
    "        'BAC_RESULT VALUE': 'Blood Alcohol Content',\n",
    "        'Count': 'Number of Accidents',\n",
    "        'PRIM_CONTRIBUTORY_CAUSE': 'Primary Cause'\n",
    "    }\n",
    ")\n",
    "\n",
    "# Save the plot as an image\n",
    "plt.savefig('Blood_Alcohol_Content_vs_Top10_PRIM_CONTRIBUTORY_CAUSE.png')\n",
    "\n",
    "# Display the plot\n",
    "fig.show()\n",
    "\n"
   ]
  },
  {
   "cell_type": "markdown",
   "metadata": {
    "id": "5K-l56UlGWs9"
   },
   "source": [
    "#### **Insight** - BAC generallly has a negative correlation to the top 10 primary accident causes therefore likely has very little effect on accident occurence."
   ]
  },
  {
   "cell_type": "markdown",
   "metadata": {
    "id": "hyfimDPyGWs-"
   },
   "source": [
    "# MODELING"
   ]
  },
  {
   "cell_type": "markdown",
   "metadata": {
    "id": "g3PEdmDCGWs-"
   },
   "source": [
    "Modeling is a crucial phase in any data science project, where the goal is to develop a mathematical or computational representation of the underlying patterns within the data. This phase involves selecting the appropriate algorithms, training the models, and evaluating their performance to ensure they generalize well to unseen data.\n",
    "\n",
    "### **Why is Modeling Important?**\n",
    "1. Prediction and Inference: Models help in predicting future outcomes and inferring relationships within the data.\n",
    "2. Decision-Making: Accurate models support data-driven decisions.\n",
    "32. Optimization: Models can be used to optimize processes or outcomes."
   ]
  },
  {
   "cell_type": "markdown",
   "metadata": {
    "id": "dH8uUrJ6GWs-"
   },
   "source": [
    "## Modeling primary accident cause using a decision tree classifier."
   ]
  },
  {
   "cell_type": "markdown",
   "metadata": {
    "id": "J5oSme-yMS8M"
   },
   "source": [
    "### Begin with a base decision tree classifier model using Gini impurity."
   ]
  },
  {
   "cell_type": "code",
   "execution_count": null,
   "metadata": {
    "colab": {
     "base_uri": "https://localhost:8080/",
     "height": 118
    },
    "id": "Da60wuvIGWs_",
    "outputId": "73ab0fb2-c218-4bf1-f0fb-7785e6cb78a3"
   },
   "outputs": [
    {
     "data": {
      "text/html": [
       "<style>#sk-container-id-1 {\n",
       "  /* Definition of color scheme common for light and dark mode */\n",
       "  --sklearn-color-text: #000;\n",
       "  --sklearn-color-text-muted: #666;\n",
       "  --sklearn-color-line: gray;\n",
       "  /* Definition of color scheme for unfitted estimators */\n",
       "  --sklearn-color-unfitted-level-0: #fff5e6;\n",
       "  --sklearn-color-unfitted-level-1: #f6e4d2;\n",
       "  --sklearn-color-unfitted-level-2: #ffe0b3;\n",
       "  --sklearn-color-unfitted-level-3: chocolate;\n",
       "  /* Definition of color scheme for fitted estimators */\n",
       "  --sklearn-color-fitted-level-0: #f0f8ff;\n",
       "  --sklearn-color-fitted-level-1: #d4ebff;\n",
       "  --sklearn-color-fitted-level-2: #b3dbfd;\n",
       "  --sklearn-color-fitted-level-3: cornflowerblue;\n",
       "\n",
       "  /* Specific color for light theme */\n",
       "  --sklearn-color-text-on-default-background: var(--sg-text-color, var(--theme-code-foreground, var(--jp-content-font-color1, black)));\n",
       "  --sklearn-color-background: var(--sg-background-color, var(--theme-background, var(--jp-layout-color0, white)));\n",
       "  --sklearn-color-border-box: var(--sg-text-color, var(--theme-code-foreground, var(--jp-content-font-color1, black)));\n",
       "  --sklearn-color-icon: #696969;\n",
       "\n",
       "  @media (prefers-color-scheme: dark) {\n",
       "    /* Redefinition of color scheme for dark theme */\n",
       "    --sklearn-color-text-on-default-background: var(--sg-text-color, var(--theme-code-foreground, var(--jp-content-font-color1, white)));\n",
       "    --sklearn-color-background: var(--sg-background-color, var(--theme-background, var(--jp-layout-color0, #111)));\n",
       "    --sklearn-color-border-box: var(--sg-text-color, var(--theme-code-foreground, var(--jp-content-font-color1, white)));\n",
       "    --sklearn-color-icon: #878787;\n",
       "  }\n",
       "}\n",
       "\n",
       "#sk-container-id-1 {\n",
       "  color: var(--sklearn-color-text);\n",
       "}\n",
       "\n",
       "#sk-container-id-1 pre {\n",
       "  padding: 0;\n",
       "}\n",
       "\n",
       "#sk-container-id-1 input.sk-hidden--visually {\n",
       "  border: 0;\n",
       "  clip: rect(1px 1px 1px 1px);\n",
       "  clip: rect(1px, 1px, 1px, 1px);\n",
       "  height: 1px;\n",
       "  margin: -1px;\n",
       "  overflow: hidden;\n",
       "  padding: 0;\n",
       "  position: absolute;\n",
       "  width: 1px;\n",
       "}\n",
       "\n",
       "#sk-container-id-1 div.sk-dashed-wrapped {\n",
       "  border: 1px dashed var(--sklearn-color-line);\n",
       "  margin: 0 0.4em 0.5em 0.4em;\n",
       "  box-sizing: border-box;\n",
       "  padding-bottom: 0.4em;\n",
       "  background-color: var(--sklearn-color-background);\n",
       "}\n",
       "\n",
       "#sk-container-id-1 div.sk-container {\n",
       "  /* jupyter's `normalize.less` sets `[hidden] { display: none; }`\n",
       "     but bootstrap.min.css set `[hidden] { display: none !important; }`\n",
       "     so we also need the `!important` here to be able to override the\n",
       "     default hidden behavior on the sphinx rendered scikit-learn.org.\n",
       "     See: https://github.com/scikit-learn/scikit-learn/issues/21755 */\n",
       "  display: inline-block !important;\n",
       "  position: relative;\n",
       "}\n",
       "\n",
       "#sk-container-id-1 div.sk-text-repr-fallback {\n",
       "  display: none;\n",
       "}\n",
       "\n",
       "div.sk-parallel-item,\n",
       "div.sk-serial,\n",
       "div.sk-item {\n",
       "  /* draw centered vertical line to link estimators */\n",
       "  background-image: linear-gradient(var(--sklearn-color-text-on-default-background), var(--sklearn-color-text-on-default-background));\n",
       "  background-size: 2px 100%;\n",
       "  background-repeat: no-repeat;\n",
       "  background-position: center center;\n",
       "}\n",
       "\n",
       "/* Parallel-specific style estimator block */\n",
       "\n",
       "#sk-container-id-1 div.sk-parallel-item::after {\n",
       "  content: \"\";\n",
       "  width: 100%;\n",
       "  border-bottom: 2px solid var(--sklearn-color-text-on-default-background);\n",
       "  flex-grow: 1;\n",
       "}\n",
       "\n",
       "#sk-container-id-1 div.sk-parallel {\n",
       "  display: flex;\n",
       "  align-items: stretch;\n",
       "  justify-content: center;\n",
       "  background-color: var(--sklearn-color-background);\n",
       "  position: relative;\n",
       "}\n",
       "\n",
       "#sk-container-id-1 div.sk-parallel-item {\n",
       "  display: flex;\n",
       "  flex-direction: column;\n",
       "}\n",
       "\n",
       "#sk-container-id-1 div.sk-parallel-item:first-child::after {\n",
       "  align-self: flex-end;\n",
       "  width: 50%;\n",
       "}\n",
       "\n",
       "#sk-container-id-1 div.sk-parallel-item:last-child::after {\n",
       "  align-self: flex-start;\n",
       "  width: 50%;\n",
       "}\n",
       "\n",
       "#sk-container-id-1 div.sk-parallel-item:only-child::after {\n",
       "  width: 0;\n",
       "}\n",
       "\n",
       "/* Serial-specific style estimator block */\n",
       "\n",
       "#sk-container-id-1 div.sk-serial {\n",
       "  display: flex;\n",
       "  flex-direction: column;\n",
       "  align-items: center;\n",
       "  background-color: var(--sklearn-color-background);\n",
       "  padding-right: 1em;\n",
       "  padding-left: 1em;\n",
       "}\n",
       "\n",
       "\n",
       "/* Toggleable style: style used for estimator/Pipeline/ColumnTransformer box that is\n",
       "clickable and can be expanded/collapsed.\n",
       "- Pipeline and ColumnTransformer use this feature and define the default style\n",
       "- Estimators will overwrite some part of the style using the `sk-estimator` class\n",
       "*/\n",
       "\n",
       "/* Pipeline and ColumnTransformer style (default) */\n",
       "\n",
       "#sk-container-id-1 div.sk-toggleable {\n",
       "  /* Default theme specific background. It is overwritten whether we have a\n",
       "  specific estimator or a Pipeline/ColumnTransformer */\n",
       "  background-color: var(--sklearn-color-background);\n",
       "}\n",
       "\n",
       "/* Toggleable label */\n",
       "#sk-container-id-1 label.sk-toggleable__label {\n",
       "  cursor: pointer;\n",
       "  display: flex;\n",
       "  width: 100%;\n",
       "  margin-bottom: 0;\n",
       "  padding: 0.5em;\n",
       "  box-sizing: border-box;\n",
       "  text-align: center;\n",
       "  align-items: start;\n",
       "  justify-content: space-between;\n",
       "  gap: 0.5em;\n",
       "}\n",
       "\n",
       "#sk-container-id-1 label.sk-toggleable__label .caption {\n",
       "  font-size: 0.6rem;\n",
       "  font-weight: lighter;\n",
       "  color: var(--sklearn-color-text-muted);\n",
       "}\n",
       "\n",
       "#sk-container-id-1 label.sk-toggleable__label-arrow:before {\n",
       "  /* Arrow on the left of the label */\n",
       "  content: \"▸\";\n",
       "  float: left;\n",
       "  margin-right: 0.25em;\n",
       "  color: var(--sklearn-color-icon);\n",
       "}\n",
       "\n",
       "#sk-container-id-1 label.sk-toggleable__label-arrow:hover:before {\n",
       "  color: var(--sklearn-color-text);\n",
       "}\n",
       "\n",
       "/* Toggleable content - dropdown */\n",
       "\n",
       "#sk-container-id-1 div.sk-toggleable__content {\n",
       "  max-height: 0;\n",
       "  max-width: 0;\n",
       "  overflow: hidden;\n",
       "  text-align: left;\n",
       "  /* unfitted */\n",
       "  background-color: var(--sklearn-color-unfitted-level-0);\n",
       "}\n",
       "\n",
       "#sk-container-id-1 div.sk-toggleable__content.fitted {\n",
       "  /* fitted */\n",
       "  background-color: var(--sklearn-color-fitted-level-0);\n",
       "}\n",
       "\n",
       "#sk-container-id-1 div.sk-toggleable__content pre {\n",
       "  margin: 0.2em;\n",
       "  border-radius: 0.25em;\n",
       "  color: var(--sklearn-color-text);\n",
       "  /* unfitted */\n",
       "  background-color: var(--sklearn-color-unfitted-level-0);\n",
       "}\n",
       "\n",
       "#sk-container-id-1 div.sk-toggleable__content.fitted pre {\n",
       "  /* unfitted */\n",
       "  background-color: var(--sklearn-color-fitted-level-0);\n",
       "}\n",
       "\n",
       "#sk-container-id-1 input.sk-toggleable__control:checked~div.sk-toggleable__content {\n",
       "  /* Expand drop-down */\n",
       "  max-height: 200px;\n",
       "  max-width: 100%;\n",
       "  overflow: auto;\n",
       "}\n",
       "\n",
       "#sk-container-id-1 input.sk-toggleable__control:checked~label.sk-toggleable__label-arrow:before {\n",
       "  content: \"▾\";\n",
       "}\n",
       "\n",
       "/* Pipeline/ColumnTransformer-specific style */\n",
       "\n",
       "#sk-container-id-1 div.sk-label input.sk-toggleable__control:checked~label.sk-toggleable__label {\n",
       "  color: var(--sklearn-color-text);\n",
       "  background-color: var(--sklearn-color-unfitted-level-2);\n",
       "}\n",
       "\n",
       "#sk-container-id-1 div.sk-label.fitted input.sk-toggleable__control:checked~label.sk-toggleable__label {\n",
       "  background-color: var(--sklearn-color-fitted-level-2);\n",
       "}\n",
       "\n",
       "/* Estimator-specific style */\n",
       "\n",
       "/* Colorize estimator box */\n",
       "#sk-container-id-1 div.sk-estimator input.sk-toggleable__control:checked~label.sk-toggleable__label {\n",
       "  /* unfitted */\n",
       "  background-color: var(--sklearn-color-unfitted-level-2);\n",
       "}\n",
       "\n",
       "#sk-container-id-1 div.sk-estimator.fitted input.sk-toggleable__control:checked~label.sk-toggleable__label {\n",
       "  /* fitted */\n",
       "  background-color: var(--sklearn-color-fitted-level-2);\n",
       "}\n",
       "\n",
       "#sk-container-id-1 div.sk-label label.sk-toggleable__label,\n",
       "#sk-container-id-1 div.sk-label label {\n",
       "  /* The background is the default theme color */\n",
       "  color: var(--sklearn-color-text-on-default-background);\n",
       "}\n",
       "\n",
       "/* On hover, darken the color of the background */\n",
       "#sk-container-id-1 div.sk-label:hover label.sk-toggleable__label {\n",
       "  color: var(--sklearn-color-text);\n",
       "  background-color: var(--sklearn-color-unfitted-level-2);\n",
       "}\n",
       "\n",
       "/* Label box, darken color on hover, fitted */\n",
       "#sk-container-id-1 div.sk-label.fitted:hover label.sk-toggleable__label.fitted {\n",
       "  color: var(--sklearn-color-text);\n",
       "  background-color: var(--sklearn-color-fitted-level-2);\n",
       "}\n",
       "\n",
       "/* Estimator label */\n",
       "\n",
       "#sk-container-id-1 div.sk-label label {\n",
       "  font-family: monospace;\n",
       "  font-weight: bold;\n",
       "  display: inline-block;\n",
       "  line-height: 1.2em;\n",
       "}\n",
       "\n",
       "#sk-container-id-1 div.sk-label-container {\n",
       "  text-align: center;\n",
       "}\n",
       "\n",
       "/* Estimator-specific */\n",
       "#sk-container-id-1 div.sk-estimator {\n",
       "  font-family: monospace;\n",
       "  border: 1px dotted var(--sklearn-color-border-box);\n",
       "  border-radius: 0.25em;\n",
       "  box-sizing: border-box;\n",
       "  margin-bottom: 0.5em;\n",
       "  /* unfitted */\n",
       "  background-color: var(--sklearn-color-unfitted-level-0);\n",
       "}\n",
       "\n",
       "#sk-container-id-1 div.sk-estimator.fitted {\n",
       "  /* fitted */\n",
       "  background-color: var(--sklearn-color-fitted-level-0);\n",
       "}\n",
       "\n",
       "/* on hover */\n",
       "#sk-container-id-1 div.sk-estimator:hover {\n",
       "  /* unfitted */\n",
       "  background-color: var(--sklearn-color-unfitted-level-2);\n",
       "}\n",
       "\n",
       "#sk-container-id-1 div.sk-estimator.fitted:hover {\n",
       "  /* fitted */\n",
       "  background-color: var(--sklearn-color-fitted-level-2);\n",
       "}\n",
       "\n",
       "/* Specification for estimator info (e.g. \"i\" and \"?\") */\n",
       "\n",
       "/* Common style for \"i\" and \"?\" */\n",
       "\n",
       ".sk-estimator-doc-link,\n",
       "a:link.sk-estimator-doc-link,\n",
       "a:visited.sk-estimator-doc-link {\n",
       "  float: right;\n",
       "  font-size: smaller;\n",
       "  line-height: 1em;\n",
       "  font-family: monospace;\n",
       "  background-color: var(--sklearn-color-background);\n",
       "  border-radius: 1em;\n",
       "  height: 1em;\n",
       "  width: 1em;\n",
       "  text-decoration: none !important;\n",
       "  margin-left: 0.5em;\n",
       "  text-align: center;\n",
       "  /* unfitted */\n",
       "  border: var(--sklearn-color-unfitted-level-1) 1pt solid;\n",
       "  color: var(--sklearn-color-unfitted-level-1);\n",
       "}\n",
       "\n",
       ".sk-estimator-doc-link.fitted,\n",
       "a:link.sk-estimator-doc-link.fitted,\n",
       "a:visited.sk-estimator-doc-link.fitted {\n",
       "  /* fitted */\n",
       "  border: var(--sklearn-color-fitted-level-1) 1pt solid;\n",
       "  color: var(--sklearn-color-fitted-level-1);\n",
       "}\n",
       "\n",
       "/* On hover */\n",
       "div.sk-estimator:hover .sk-estimator-doc-link:hover,\n",
       ".sk-estimator-doc-link:hover,\n",
       "div.sk-label-container:hover .sk-estimator-doc-link:hover,\n",
       ".sk-estimator-doc-link:hover {\n",
       "  /* unfitted */\n",
       "  background-color: var(--sklearn-color-unfitted-level-3);\n",
       "  color: var(--sklearn-color-background);\n",
       "  text-decoration: none;\n",
       "}\n",
       "\n",
       "div.sk-estimator.fitted:hover .sk-estimator-doc-link.fitted:hover,\n",
       ".sk-estimator-doc-link.fitted:hover,\n",
       "div.sk-label-container:hover .sk-estimator-doc-link.fitted:hover,\n",
       ".sk-estimator-doc-link.fitted:hover {\n",
       "  /* fitted */\n",
       "  background-color: var(--sklearn-color-fitted-level-3);\n",
       "  color: var(--sklearn-color-background);\n",
       "  text-decoration: none;\n",
       "}\n",
       "\n",
       "/* Span, style for the box shown on hovering the info icon */\n",
       ".sk-estimator-doc-link span {\n",
       "  display: none;\n",
       "  z-index: 9999;\n",
       "  position: relative;\n",
       "  font-weight: normal;\n",
       "  right: .2ex;\n",
       "  padding: .5ex;\n",
       "  margin: .5ex;\n",
       "  width: min-content;\n",
       "  min-width: 20ex;\n",
       "  max-width: 50ex;\n",
       "  color: var(--sklearn-color-text);\n",
       "  box-shadow: 2pt 2pt 4pt #999;\n",
       "  /* unfitted */\n",
       "  background: var(--sklearn-color-unfitted-level-0);\n",
       "  border: .5pt solid var(--sklearn-color-unfitted-level-3);\n",
       "}\n",
       "\n",
       ".sk-estimator-doc-link.fitted span {\n",
       "  /* fitted */\n",
       "  background: var(--sklearn-color-fitted-level-0);\n",
       "  border: var(--sklearn-color-fitted-level-3);\n",
       "}\n",
       "\n",
       ".sk-estimator-doc-link:hover span {\n",
       "  display: block;\n",
       "}\n",
       "\n",
       "/* \"?\"-specific style due to the `<a>` HTML tag */\n",
       "\n",
       "#sk-container-id-1 a.estimator_doc_link {\n",
       "  float: right;\n",
       "  font-size: 1rem;\n",
       "  line-height: 1em;\n",
       "  font-family: monospace;\n",
       "  background-color: var(--sklearn-color-background);\n",
       "  border-radius: 1rem;\n",
       "  height: 1rem;\n",
       "  width: 1rem;\n",
       "  text-decoration: none;\n",
       "  /* unfitted */\n",
       "  color: var(--sklearn-color-unfitted-level-1);\n",
       "  border: var(--sklearn-color-unfitted-level-1) 1pt solid;\n",
       "}\n",
       "\n",
       "#sk-container-id-1 a.estimator_doc_link.fitted {\n",
       "  /* fitted */\n",
       "  border: var(--sklearn-color-fitted-level-1) 1pt solid;\n",
       "  color: var(--sklearn-color-fitted-level-1);\n",
       "}\n",
       "\n",
       "/* On hover */\n",
       "#sk-container-id-1 a.estimator_doc_link:hover {\n",
       "  /* unfitted */\n",
       "  background-color: var(--sklearn-color-unfitted-level-3);\n",
       "  color: var(--sklearn-color-background);\n",
       "  text-decoration: none;\n",
       "}\n",
       "\n",
       "#sk-container-id-1 a.estimator_doc_link.fitted:hover {\n",
       "  /* fitted */\n",
       "  background-color: var(--sklearn-color-fitted-level-3);\n",
       "}\n",
       "</style><div id=\"sk-container-id-1\" class=\"sk-top-container\"><div class=\"sk-text-repr-fallback\"><pre>Pipeline(steps=[(&#x27;classifier&#x27;, DecisionTreeClassifier(random_state=42))])</pre><b>In a Jupyter environment, please rerun this cell to show the HTML representation or trust the notebook. <br />On GitHub, the HTML representation is unable to render, please try loading this page with nbviewer.org.</b></div><div class=\"sk-container\" hidden><div class=\"sk-item sk-dashed-wrapped\"><div class=\"sk-label-container\"><div class=\"sk-label fitted sk-toggleable\"><input class=\"sk-toggleable__control sk-hidden--visually\" id=\"sk-estimator-id-1\" type=\"checkbox\" ><label for=\"sk-estimator-id-1\" class=\"sk-toggleable__label fitted sk-toggleable__label-arrow\"><div><div>Pipeline</div></div><div><a class=\"sk-estimator-doc-link fitted\" rel=\"noreferrer\" target=\"_blank\" href=\"https://scikit-learn.org/1.6/modules/generated/sklearn.pipeline.Pipeline.html\">?<span>Documentation for Pipeline</span></a><span class=\"sk-estimator-doc-link fitted\">i<span>Fitted</span></span></div></label><div class=\"sk-toggleable__content fitted\"><pre>Pipeline(steps=[(&#x27;classifier&#x27;, DecisionTreeClassifier(random_state=42))])</pre></div> </div></div><div class=\"sk-serial\"><div class=\"sk-item\"><div class=\"sk-estimator fitted sk-toggleable\"><input class=\"sk-toggleable__control sk-hidden--visually\" id=\"sk-estimator-id-2\" type=\"checkbox\" ><label for=\"sk-estimator-id-2\" class=\"sk-toggleable__label fitted sk-toggleable__label-arrow\"><div><div>DecisionTreeClassifier</div></div><div><a class=\"sk-estimator-doc-link fitted\" rel=\"noreferrer\" target=\"_blank\" href=\"https://scikit-learn.org/1.6/modules/generated/sklearn.tree.DecisionTreeClassifier.html\">?<span>Documentation for DecisionTreeClassifier</span></a></div></label><div class=\"sk-toggleable__content fitted\"><pre>DecisionTreeClassifier(random_state=42)</pre></div> </div></div></div></div></div></div>"
      ],
      "text/plain": [
       "Pipeline(steps=[('classifier', DecisionTreeClassifier(random_state=42))])"
      ]
     },
     "execution_count": 63,
     "metadata": {},
     "output_type": "execute_result"
    }
   ],
   "source": [
    "# Create Pipeline for Decision Tree with Gini\n",
    "base_decision_tree_pipeline_gini = Pipeline([\n",
    "    ('classifier', DecisionTreeClassifier(criterion='gini', random_state=42))  # Model\n",
    "])\n",
    "\n",
    "# Train the model with Gini\n",
    "base_decision_tree_pipeline_gini.fit(X_train, y_train)"
   ]
  },
  {
   "cell_type": "markdown",
   "metadata": {
    "id": "4xApHUGGM222"
   },
   "source": [
    "Check the Precision, Recall, F1_score, AUC and Accuracy."
   ]
  },
  {
   "cell_type": "code",
   "execution_count": null,
   "metadata": {
    "colab": {
     "base_uri": "https://localhost:8080/"
    },
    "id": "AEFTsY7rGWs_",
    "outputId": "b9c633dd-dc3f-4616-a81f-06aaee7f5b56"
   },
   "outputs": [
    {
     "name": "stdout",
     "output_type": "stream",
     "text": [
      "Precision (Gini): 69.56%\n",
      "Recall (Gini): 69.50%\n",
      "F1-Score (Gini): 69.51%\n",
      "AUC (Gini): 77.38%\n",
      "Base Decision Tree (Gini) Accuracy: 69.50%\n"
     ]
    }
   ],
   "source": [
    "# Predictions\n",
    "y_pred_decision_tree_gini = base_decision_tree_pipeline_gini.predict(X_test)\n",
    "\n",
    "# Evaluate the model with Gini\n",
    "accuracy_decision_tree_gini = accuracy_score(y_test, y_pred_decision_tree_gini)\n",
    "# Precision, Recall, F1-Score, and AUC for Gini\n",
    "precision_gini = precision_score(y_test, y_pred_decision_tree_gini, average='weighted')\n",
    "recall_gini = recall_score(y_test, y_pred_decision_tree_gini, average='weighted')\n",
    "f1_gini = f1_score(y_test, y_pred_decision_tree_gini, average='weighted')\n",
    "auc_gini = roc_auc_score(pd.get_dummies(y_test), pd.get_dummies(y_pred_decision_tree_gini), multi_class='ovr')\n",
    "print(f\"Precision (Gini): {precision_gini*100:.2f}%\")\n",
    "print(f\"Recall (Gini): {recall_gini*100:.2f}%\")\n",
    "print(f\"F1-Score (Gini): {f1_gini*100:.2f}%\")\n",
    "print(f\"AUC (Gini): {auc_gini*100:.2f}%\")\n",
    "print(f\"Base Decision Tree (Gini) Accuracy: {accuracy_decision_tree_gini * 100:.2f}%\")"
   ]
  },
  {
   "cell_type": "markdown",
   "metadata": {
    "id": "FHADRdU5NK8d"
   },
   "source": [
    "The base metrics are:\n",
    "1. Precision (Gini): 69.56%\n",
    "2. Recall (Gini): 69.50%\n",
    "3. F1-Score (Gini): 69.51%\n",
    "4. AUC (Gini): 77.38%\n",
    "5. Base Decision Tree (Gini) Accuracy: 69.50%\n",
    "\n",
    "From the above metrics we can conclude:\n",
    "\n",
    "1. Moderate Predictive Performance\n",
    "The Precision, Recall, and F1-Score are all around 69-70%, indicating moderate performance.\n",
    "The model correctly identifies the primary contributory cause of a car accident in about 70% of the cases.\n",
    "However, this also means there's a 30% error rate, which may not be sufficient for critical decision-making scenarios (e.g., safety interventions).\n",
    "2. Balanced Precision and Recall\n",
    "Precision (69.56%) and Recall (69.50%) are nearly identical, suggesting a balanced trade-off between false positives and false negatives.\n",
    "This indicates that the model is equally good at identifying the true causes and avoiding incorrect predictions.\n",
    "However, this balance comes at the cost of lower overall accuracy, reflecting moderate reliability.\n",
    "3. F1-Score Indicates Scope for Improvement\n",
    "An F1-Score of 69.51% confirms that the model maintains a balance between precision and recall.\n",
    "However, the score is relatively low, suggesting the need for further improvement in the model’s predictive power.\n",
    "The model may be missing some key patterns or suffering from underfitting due to its simplicity.\n",
    "4. AUC Indicates Limited Discrimination Ability\n",
    "An AUC of 77.38% is moderately good but indicates that the model struggles to distinguish between classes.\n",
    "It suggests that the model is only somewhat effective at ranking predictions, leading to less confidence in decision boundaries.\n",
    "This could be problematic in identifying the exact cause of an accident, especially in complex scenarios.\n",
    "\n",
    "5. Underfitting and Model Complexity\n",
    "The model's relatively low accuracy (69.50%) and moderate AUC suggest underfitting.\n",
    "This is likely due to the simplicity of the base Decision Tree. It may not be capturing the complex interactions between features e.g. car type, weather conditions, and road characteristics.\n",
    "\n",
    "\n",
    "### Proceed to test the decision tree classifier with Entropy impurity."
   ]
  },
  {
   "cell_type": "code",
   "execution_count": null,
   "metadata": {
    "colab": {
     "base_uri": "https://localhost:8080/",
     "height": 118
    },
    "id": "UOFIXOmvGWtA",
    "outputId": "8d399d67-3a7a-4362-8685-1c96fba6d49f"
   },
   "outputs": [
    {
     "data": {
      "text/html": [
       "<style>#sk-container-id-5 {\n",
       "  /* Definition of color scheme common for light and dark mode */\n",
       "  --sklearn-color-text: #000;\n",
       "  --sklearn-color-text-muted: #666;\n",
       "  --sklearn-color-line: gray;\n",
       "  /* Definition of color scheme for unfitted estimators */\n",
       "  --sklearn-color-unfitted-level-0: #fff5e6;\n",
       "  --sklearn-color-unfitted-level-1: #f6e4d2;\n",
       "  --sklearn-color-unfitted-level-2: #ffe0b3;\n",
       "  --sklearn-color-unfitted-level-3: chocolate;\n",
       "  /* Definition of color scheme for fitted estimators */\n",
       "  --sklearn-color-fitted-level-0: #f0f8ff;\n",
       "  --sklearn-color-fitted-level-1: #d4ebff;\n",
       "  --sklearn-color-fitted-level-2: #b3dbfd;\n",
       "  --sklearn-color-fitted-level-3: cornflowerblue;\n",
       "\n",
       "  /* Specific color for light theme */\n",
       "  --sklearn-color-text-on-default-background: var(--sg-text-color, var(--theme-code-foreground, var(--jp-content-font-color1, black)));\n",
       "  --sklearn-color-background: var(--sg-background-color, var(--theme-background, var(--jp-layout-color0, white)));\n",
       "  --sklearn-color-border-box: var(--sg-text-color, var(--theme-code-foreground, var(--jp-content-font-color1, black)));\n",
       "  --sklearn-color-icon: #696969;\n",
       "\n",
       "  @media (prefers-color-scheme: dark) {\n",
       "    /* Redefinition of color scheme for dark theme */\n",
       "    --sklearn-color-text-on-default-background: var(--sg-text-color, var(--theme-code-foreground, var(--jp-content-font-color1, white)));\n",
       "    --sklearn-color-background: var(--sg-background-color, var(--theme-background, var(--jp-layout-color0, #111)));\n",
       "    --sklearn-color-border-box: var(--sg-text-color, var(--theme-code-foreground, var(--jp-content-font-color1, white)));\n",
       "    --sklearn-color-icon: #878787;\n",
       "  }\n",
       "}\n",
       "\n",
       "#sk-container-id-5 {\n",
       "  color: var(--sklearn-color-text);\n",
       "}\n",
       "\n",
       "#sk-container-id-5 pre {\n",
       "  padding: 0;\n",
       "}\n",
       "\n",
       "#sk-container-id-5 input.sk-hidden--visually {\n",
       "  border: 0;\n",
       "  clip: rect(1px 1px 1px 1px);\n",
       "  clip: rect(1px, 1px, 1px, 1px);\n",
       "  height: 1px;\n",
       "  margin: -1px;\n",
       "  overflow: hidden;\n",
       "  padding: 0;\n",
       "  position: absolute;\n",
       "  width: 1px;\n",
       "}\n",
       "\n",
       "#sk-container-id-5 div.sk-dashed-wrapped {\n",
       "  border: 1px dashed var(--sklearn-color-line);\n",
       "  margin: 0 0.4em 0.5em 0.4em;\n",
       "  box-sizing: border-box;\n",
       "  padding-bottom: 0.4em;\n",
       "  background-color: var(--sklearn-color-background);\n",
       "}\n",
       "\n",
       "#sk-container-id-5 div.sk-container {\n",
       "  /* jupyter's `normalize.less` sets `[hidden] { display: none; }`\n",
       "     but bootstrap.min.css set `[hidden] { display: none !important; }`\n",
       "     so we also need the `!important` here to be able to override the\n",
       "     default hidden behavior on the sphinx rendered scikit-learn.org.\n",
       "     See: https://github.com/scikit-learn/scikit-learn/issues/21755 */\n",
       "  display: inline-block !important;\n",
       "  position: relative;\n",
       "}\n",
       "\n",
       "#sk-container-id-5 div.sk-text-repr-fallback {\n",
       "  display: none;\n",
       "}\n",
       "\n",
       "div.sk-parallel-item,\n",
       "div.sk-serial,\n",
       "div.sk-item {\n",
       "  /* draw centered vertical line to link estimators */\n",
       "  background-image: linear-gradient(var(--sklearn-color-text-on-default-background), var(--sklearn-color-text-on-default-background));\n",
       "  background-size: 2px 100%;\n",
       "  background-repeat: no-repeat;\n",
       "  background-position: center center;\n",
       "}\n",
       "\n",
       "/* Parallel-specific style estimator block */\n",
       "\n",
       "#sk-container-id-5 div.sk-parallel-item::after {\n",
       "  content: \"\";\n",
       "  width: 100%;\n",
       "  border-bottom: 2px solid var(--sklearn-color-text-on-default-background);\n",
       "  flex-grow: 1;\n",
       "}\n",
       "\n",
       "#sk-container-id-5 div.sk-parallel {\n",
       "  display: flex;\n",
       "  align-items: stretch;\n",
       "  justify-content: center;\n",
       "  background-color: var(--sklearn-color-background);\n",
       "  position: relative;\n",
       "}\n",
       "\n",
       "#sk-container-id-5 div.sk-parallel-item {\n",
       "  display: flex;\n",
       "  flex-direction: column;\n",
       "}\n",
       "\n",
       "#sk-container-id-5 div.sk-parallel-item:first-child::after {\n",
       "  align-self: flex-end;\n",
       "  width: 50%;\n",
       "}\n",
       "\n",
       "#sk-container-id-5 div.sk-parallel-item:last-child::after {\n",
       "  align-self: flex-start;\n",
       "  width: 50%;\n",
       "}\n",
       "\n",
       "#sk-container-id-5 div.sk-parallel-item:only-child::after {\n",
       "  width: 0;\n",
       "}\n",
       "\n",
       "/* Serial-specific style estimator block */\n",
       "\n",
       "#sk-container-id-5 div.sk-serial {\n",
       "  display: flex;\n",
       "  flex-direction: column;\n",
       "  align-items: center;\n",
       "  background-color: var(--sklearn-color-background);\n",
       "  padding-right: 1em;\n",
       "  padding-left: 1em;\n",
       "}\n",
       "\n",
       "\n",
       "/* Toggleable style: style used for estimator/Pipeline/ColumnTransformer box that is\n",
       "clickable and can be expanded/collapsed.\n",
       "- Pipeline and ColumnTransformer use this feature and define the default style\n",
       "- Estimators will overwrite some part of the style using the `sk-estimator` class\n",
       "*/\n",
       "\n",
       "/* Pipeline and ColumnTransformer style (default) */\n",
       "\n",
       "#sk-container-id-5 div.sk-toggleable {\n",
       "  /* Default theme specific background. It is overwritten whether we have a\n",
       "  specific estimator or a Pipeline/ColumnTransformer */\n",
       "  background-color: var(--sklearn-color-background);\n",
       "}\n",
       "\n",
       "/* Toggleable label */\n",
       "#sk-container-id-5 label.sk-toggleable__label {\n",
       "  cursor: pointer;\n",
       "  display: flex;\n",
       "  width: 100%;\n",
       "  margin-bottom: 0;\n",
       "  padding: 0.5em;\n",
       "  box-sizing: border-box;\n",
       "  text-align: center;\n",
       "  align-items: start;\n",
       "  justify-content: space-between;\n",
       "  gap: 0.5em;\n",
       "}\n",
       "\n",
       "#sk-container-id-5 label.sk-toggleable__label .caption {\n",
       "  font-size: 0.6rem;\n",
       "  font-weight: lighter;\n",
       "  color: var(--sklearn-color-text-muted);\n",
       "}\n",
       "\n",
       "#sk-container-id-5 label.sk-toggleable__label-arrow:before {\n",
       "  /* Arrow on the left of the label */\n",
       "  content: \"▸\";\n",
       "  float: left;\n",
       "  margin-right: 0.25em;\n",
       "  color: var(--sklearn-color-icon);\n",
       "}\n",
       "\n",
       "#sk-container-id-5 label.sk-toggleable__label-arrow:hover:before {\n",
       "  color: var(--sklearn-color-text);\n",
       "}\n",
       "\n",
       "/* Toggleable content - dropdown */\n",
       "\n",
       "#sk-container-id-5 div.sk-toggleable__content {\n",
       "  max-height: 0;\n",
       "  max-width: 0;\n",
       "  overflow: hidden;\n",
       "  text-align: left;\n",
       "  /* unfitted */\n",
       "  background-color: var(--sklearn-color-unfitted-level-0);\n",
       "}\n",
       "\n",
       "#sk-container-id-5 div.sk-toggleable__content.fitted {\n",
       "  /* fitted */\n",
       "  background-color: var(--sklearn-color-fitted-level-0);\n",
       "}\n",
       "\n",
       "#sk-container-id-5 div.sk-toggleable__content pre {\n",
       "  margin: 0.2em;\n",
       "  border-radius: 0.25em;\n",
       "  color: var(--sklearn-color-text);\n",
       "  /* unfitted */\n",
       "  background-color: var(--sklearn-color-unfitted-level-0);\n",
       "}\n",
       "\n",
       "#sk-container-id-5 div.sk-toggleable__content.fitted pre {\n",
       "  /* unfitted */\n",
       "  background-color: var(--sklearn-color-fitted-level-0);\n",
       "}\n",
       "\n",
       "#sk-container-id-5 input.sk-toggleable__control:checked~div.sk-toggleable__content {\n",
       "  /* Expand drop-down */\n",
       "  max-height: 200px;\n",
       "  max-width: 100%;\n",
       "  overflow: auto;\n",
       "}\n",
       "\n",
       "#sk-container-id-5 input.sk-toggleable__control:checked~label.sk-toggleable__label-arrow:before {\n",
       "  content: \"▾\";\n",
       "}\n",
       "\n",
       "/* Pipeline/ColumnTransformer-specific style */\n",
       "\n",
       "#sk-container-id-5 div.sk-label input.sk-toggleable__control:checked~label.sk-toggleable__label {\n",
       "  color: var(--sklearn-color-text);\n",
       "  background-color: var(--sklearn-color-unfitted-level-2);\n",
       "}\n",
       "\n",
       "#sk-container-id-5 div.sk-label.fitted input.sk-toggleable__control:checked~label.sk-toggleable__label {\n",
       "  background-color: var(--sklearn-color-fitted-level-2);\n",
       "}\n",
       "\n",
       "/* Estimator-specific style */\n",
       "\n",
       "/* Colorize estimator box */\n",
       "#sk-container-id-5 div.sk-estimator input.sk-toggleable__control:checked~label.sk-toggleable__label {\n",
       "  /* unfitted */\n",
       "  background-color: var(--sklearn-color-unfitted-level-2);\n",
       "}\n",
       "\n",
       "#sk-container-id-5 div.sk-estimator.fitted input.sk-toggleable__control:checked~label.sk-toggleable__label {\n",
       "  /* fitted */\n",
       "  background-color: var(--sklearn-color-fitted-level-2);\n",
       "}\n",
       "\n",
       "#sk-container-id-5 div.sk-label label.sk-toggleable__label,\n",
       "#sk-container-id-5 div.sk-label label {\n",
       "  /* The background is the default theme color */\n",
       "  color: var(--sklearn-color-text-on-default-background);\n",
       "}\n",
       "\n",
       "/* On hover, darken the color of the background */\n",
       "#sk-container-id-5 div.sk-label:hover label.sk-toggleable__label {\n",
       "  color: var(--sklearn-color-text);\n",
       "  background-color: var(--sklearn-color-unfitted-level-2);\n",
       "}\n",
       "\n",
       "/* Label box, darken color on hover, fitted */\n",
       "#sk-container-id-5 div.sk-label.fitted:hover label.sk-toggleable__label.fitted {\n",
       "  color: var(--sklearn-color-text);\n",
       "  background-color: var(--sklearn-color-fitted-level-2);\n",
       "}\n",
       "\n",
       "/* Estimator label */\n",
       "\n",
       "#sk-container-id-5 div.sk-label label {\n",
       "  font-family: monospace;\n",
       "  font-weight: bold;\n",
       "  display: inline-block;\n",
       "  line-height: 1.2em;\n",
       "}\n",
       "\n",
       "#sk-container-id-5 div.sk-label-container {\n",
       "  text-align: center;\n",
       "}\n",
       "\n",
       "/* Estimator-specific */\n",
       "#sk-container-id-5 div.sk-estimator {\n",
       "  font-family: monospace;\n",
       "  border: 1px dotted var(--sklearn-color-border-box);\n",
       "  border-radius: 0.25em;\n",
       "  box-sizing: border-box;\n",
       "  margin-bottom: 0.5em;\n",
       "  /* unfitted */\n",
       "  background-color: var(--sklearn-color-unfitted-level-0);\n",
       "}\n",
       "\n",
       "#sk-container-id-5 div.sk-estimator.fitted {\n",
       "  /* fitted */\n",
       "  background-color: var(--sklearn-color-fitted-level-0);\n",
       "}\n",
       "\n",
       "/* on hover */\n",
       "#sk-container-id-5 div.sk-estimator:hover {\n",
       "  /* unfitted */\n",
       "  background-color: var(--sklearn-color-unfitted-level-2);\n",
       "}\n",
       "\n",
       "#sk-container-id-5 div.sk-estimator.fitted:hover {\n",
       "  /* fitted */\n",
       "  background-color: var(--sklearn-color-fitted-level-2);\n",
       "}\n",
       "\n",
       "/* Specification for estimator info (e.g. \"i\" and \"?\") */\n",
       "\n",
       "/* Common style for \"i\" and \"?\" */\n",
       "\n",
       ".sk-estimator-doc-link,\n",
       "a:link.sk-estimator-doc-link,\n",
       "a:visited.sk-estimator-doc-link {\n",
       "  float: right;\n",
       "  font-size: smaller;\n",
       "  line-height: 1em;\n",
       "  font-family: monospace;\n",
       "  background-color: var(--sklearn-color-background);\n",
       "  border-radius: 1em;\n",
       "  height: 1em;\n",
       "  width: 1em;\n",
       "  text-decoration: none !important;\n",
       "  margin-left: 0.5em;\n",
       "  text-align: center;\n",
       "  /* unfitted */\n",
       "  border: var(--sklearn-color-unfitted-level-1) 1pt solid;\n",
       "  color: var(--sklearn-color-unfitted-level-1);\n",
       "}\n",
       "\n",
       ".sk-estimator-doc-link.fitted,\n",
       "a:link.sk-estimator-doc-link.fitted,\n",
       "a:visited.sk-estimator-doc-link.fitted {\n",
       "  /* fitted */\n",
       "  border: var(--sklearn-color-fitted-level-1) 1pt solid;\n",
       "  color: var(--sklearn-color-fitted-level-1);\n",
       "}\n",
       "\n",
       "/* On hover */\n",
       "div.sk-estimator:hover .sk-estimator-doc-link:hover,\n",
       ".sk-estimator-doc-link:hover,\n",
       "div.sk-label-container:hover .sk-estimator-doc-link:hover,\n",
       ".sk-estimator-doc-link:hover {\n",
       "  /* unfitted */\n",
       "  background-color: var(--sklearn-color-unfitted-level-3);\n",
       "  color: var(--sklearn-color-background);\n",
       "  text-decoration: none;\n",
       "}\n",
       "\n",
       "div.sk-estimator.fitted:hover .sk-estimator-doc-link.fitted:hover,\n",
       ".sk-estimator-doc-link.fitted:hover,\n",
       "div.sk-label-container:hover .sk-estimator-doc-link.fitted:hover,\n",
       ".sk-estimator-doc-link.fitted:hover {\n",
       "  /* fitted */\n",
       "  background-color: var(--sklearn-color-fitted-level-3);\n",
       "  color: var(--sklearn-color-background);\n",
       "  text-decoration: none;\n",
       "}\n",
       "\n",
       "/* Span, style for the box shown on hovering the info icon */\n",
       ".sk-estimator-doc-link span {\n",
       "  display: none;\n",
       "  z-index: 9999;\n",
       "  position: relative;\n",
       "  font-weight: normal;\n",
       "  right: .2ex;\n",
       "  padding: .5ex;\n",
       "  margin: .5ex;\n",
       "  width: min-content;\n",
       "  min-width: 20ex;\n",
       "  max-width: 50ex;\n",
       "  color: var(--sklearn-color-text);\n",
       "  box-shadow: 2pt 2pt 4pt #999;\n",
       "  /* unfitted */\n",
       "  background: var(--sklearn-color-unfitted-level-0);\n",
       "  border: .5pt solid var(--sklearn-color-unfitted-level-3);\n",
       "}\n",
       "\n",
       ".sk-estimator-doc-link.fitted span {\n",
       "  /* fitted */\n",
       "  background: var(--sklearn-color-fitted-level-0);\n",
       "  border: var(--sklearn-color-fitted-level-3);\n",
       "}\n",
       "\n",
       ".sk-estimator-doc-link:hover span {\n",
       "  display: block;\n",
       "}\n",
       "\n",
       "/* \"?\"-specific style due to the `<a>` HTML tag */\n",
       "\n",
       "#sk-container-id-5 a.estimator_doc_link {\n",
       "  float: right;\n",
       "  font-size: 1rem;\n",
       "  line-height: 1em;\n",
       "  font-family: monospace;\n",
       "  background-color: var(--sklearn-color-background);\n",
       "  border-radius: 1rem;\n",
       "  height: 1rem;\n",
       "  width: 1rem;\n",
       "  text-decoration: none;\n",
       "  /* unfitted */\n",
       "  color: var(--sklearn-color-unfitted-level-1);\n",
       "  border: var(--sklearn-color-unfitted-level-1) 1pt solid;\n",
       "}\n",
       "\n",
       "#sk-container-id-5 a.estimator_doc_link.fitted {\n",
       "  /* fitted */\n",
       "  border: var(--sklearn-color-fitted-level-1) 1pt solid;\n",
       "  color: var(--sklearn-color-fitted-level-1);\n",
       "}\n",
       "\n",
       "/* On hover */\n",
       "#sk-container-id-5 a.estimator_doc_link:hover {\n",
       "  /* unfitted */\n",
       "  background-color: var(--sklearn-color-unfitted-level-3);\n",
       "  color: var(--sklearn-color-background);\n",
       "  text-decoration: none;\n",
       "}\n",
       "\n",
       "#sk-container-id-5 a.estimator_doc_link.fitted:hover {\n",
       "  /* fitted */\n",
       "  background-color: var(--sklearn-color-fitted-level-3);\n",
       "}\n",
       "</style><div id=\"sk-container-id-5\" class=\"sk-top-container\"><div class=\"sk-text-repr-fallback\"><pre>Pipeline(steps=[(&#x27;classifier&#x27;,\n",
       "                 DecisionTreeClassifier(criterion=&#x27;entropy&#x27;, random_state=42))])</pre><b>In a Jupyter environment, please rerun this cell to show the HTML representation or trust the notebook. <br />On GitHub, the HTML representation is unable to render, please try loading this page with nbviewer.org.</b></div><div class=\"sk-container\" hidden><div class=\"sk-item sk-dashed-wrapped\"><div class=\"sk-label-container\"><div class=\"sk-label fitted sk-toggleable\"><input class=\"sk-toggleable__control sk-hidden--visually\" id=\"sk-estimator-id-7\" type=\"checkbox\" ><label for=\"sk-estimator-id-7\" class=\"sk-toggleable__label fitted sk-toggleable__label-arrow\"><div><div>Pipeline</div></div><div><a class=\"sk-estimator-doc-link fitted\" rel=\"noreferrer\" target=\"_blank\" href=\"https://scikit-learn.org/1.6/modules/generated/sklearn.pipeline.Pipeline.html\">?<span>Documentation for Pipeline</span></a><span class=\"sk-estimator-doc-link fitted\">i<span>Fitted</span></span></div></label><div class=\"sk-toggleable__content fitted\"><pre>Pipeline(steps=[(&#x27;classifier&#x27;,\n",
       "                 DecisionTreeClassifier(criterion=&#x27;entropy&#x27;, random_state=42))])</pre></div> </div></div><div class=\"sk-serial\"><div class=\"sk-item\"><div class=\"sk-estimator fitted sk-toggleable\"><input class=\"sk-toggleable__control sk-hidden--visually\" id=\"sk-estimator-id-8\" type=\"checkbox\" ><label for=\"sk-estimator-id-8\" class=\"sk-toggleable__label fitted sk-toggleable__label-arrow\"><div><div>DecisionTreeClassifier</div></div><div><a class=\"sk-estimator-doc-link fitted\" rel=\"noreferrer\" target=\"_blank\" href=\"https://scikit-learn.org/1.6/modules/generated/sklearn.tree.DecisionTreeClassifier.html\">?<span>Documentation for DecisionTreeClassifier</span></a></div></label><div class=\"sk-toggleable__content fitted\"><pre>DecisionTreeClassifier(criterion=&#x27;entropy&#x27;, random_state=42)</pre></div> </div></div></div></div></div></div>"
      ],
      "text/plain": [
       "Pipeline(steps=[('classifier',\n",
       "                 DecisionTreeClassifier(criterion='entropy', random_state=42))])"
      ]
     },
     "execution_count": 119,
     "metadata": {},
     "output_type": "execute_result"
    }
   ],
   "source": [
    "# Create Pipeline for Decision Tree with Entropy\n",
    "base_dt_pipeline_entropy = Pipeline([\n",
    "    ('classifier', DecisionTreeClassifier(criterion='entropy', random_state=42))  # Model\n",
    "])\n",
    "\n",
    "# Train the model with Entropy\n",
    "base_dt_pipeline_entropy.fit(X_train, y_train)"
   ]
  },
  {
   "cell_type": "markdown",
   "metadata": {
    "id": "_7Ml_FQAO04u"
   },
   "source": [
    "Check the performance metrics for the entropy impurity decision tree."
   ]
  },
  {
   "cell_type": "code",
   "execution_count": null,
   "metadata": {
    "colab": {
     "base_uri": "https://localhost:8080/"
    },
    "id": "txF8295WGWtC",
    "outputId": "4ce376e8-3468-402a-a15c-5e02ee744732"
   },
   "outputs": [
    {
     "name": "stdout",
     "output_type": "stream",
     "text": [
      "Precision (Entropy): 77.17%\n",
      "Recall (Entropy): 77.19%\n",
      "F1-Score (Entropy): 77.16%\n",
      "AUC (Entropy): 84.02%\n",
      "Base Decision Tree (Entropy) Accuracy: 77.19%\n"
     ]
    }
   ],
   "source": [
    "# Predictions\n",
    "y_pred_decision_tree_entropy = base_dt_pipeline_entropy.predict(X_test)\n",
    "\n",
    "# Evaluate the model with Entropy\n",
    "accuracy_dt_entropy = accuracy_score(y_test, y_pred_decision_tree_entropy)\n",
    "precision_entropy = precision_score(y_test, y_pred_decision_tree_entropy, average='weighted')\n",
    "recall_entropy = recall_score(y_test, y_pred_decision_tree_entropy, average='weighted')\n",
    "f1_entropy = f1_score(y_test, y_pred_decision_tree_entropy, average='weighted')\n",
    "auc_entropy = roc_auc_score(pd.get_dummies(y_test), pd.get_dummies(y_pred_decision_tree_entropy), multi_class='ovr')\n",
    "print(f\"Precision (Entropy): {precision_entropy*100:.2f}%\")\n",
    "print(f\"Recall (Entropy): {recall_entropy*100:.2f}%\")\n",
    "print(f\"F1-Score (Entropy): {f1_entropy*100:.2f}%\")\n",
    "print(f\"AUC (Entropy): {auc_entropy*100:.2f}%\")\n",
    "print(f\"Base Decision Tree (Entropy) Accuracy: {accuracy_dt_entropy * 100:.2f}%\")\n"
   ]
  },
  {
   "cell_type": "markdown",
   "metadata": {
    "id": "WuLcqhW6QNF1"
   },
   "source": [
    "The decision tree with entropy has better metrics. To be specific, precision and accuracy have improved sifgnificantly meaning the entropy model is performng better in predicting on unseen data.\n",
    "1. Precision (Entropy): 77.17%\n",
    "2. Recall (Entropy): 77.19%\n",
    "3. F1-Score (Entropy): 77.16%\n",
    "4. AUC (Entropy): 84.02%\n",
    "5. Base Decision Tree (Entropy) Accuracy: 77.19%.\n",
    "\n",
    "These metrics imply:\n",
    "\n",
    "1. Improved Predictive Performance\n",
    "The Precision, Recall, and F1-Score are all above 77%, indicating good performance.\n",
    "The model correctly identifies the primary contributory cause of a car accident in about 77% of the cases.\n",
    "This demonstrates a higher accuracy and reliability compared to the Gini-based Decision Tree.\n",
    "2. Balanced Precision and Recall\n",
    "Precision (77.17%) and Recall (77.19%) are nearly identical, indicating a balanced trade-off between false positives and false negatives.\n",
    "The model is equally effective at identifying true causes and avoiding incorrect predictions.\n",
    "This balance is crucial for scenarios where both false positives and false negatives are costly, such as accident prevention.\n",
    "3. Higher F1-Score Indicates Robustness\n",
    "An F1-Score of 77.16% suggests a good balance between precision and recall, confirming consistent model performance.\n",
    "This is a significant improvement over the Gini-based Decision Tree, reflecting better overall predictive power.\n",
    "The model is effectively capturing patterns in the data, leading to more reliable predictions.\n",
    "4. AUC Indicates Strong Discrimination Ability\n",
    "An AUC of 84.02% shows the model has a good ability to distinguish between classes.\n",
    "This indicates that the model can confidently rank predictions, leading to more accurate decision boundaries.\n",
    "It also suggests that the model is less likely to be confused by overlapping class distributions, making it more robust.\n",
    "5. Entropy Split Criterion Advantage\n",
    "The improved performance is likely due to the Entropy split criterion, which tends to be more sensitive to mixed classes.\n",
    "Entropy focuses on information gain, making it better at identifying informative splits and capturing complex patterns in the data.\n",
    "This may explain why the Entropy-based model outperforms the Gini-based model in both accuracy and AUC.\n",
    "6. Indication of Better Generalization\n",
    "The relatively high AUC and balanced Precision and Recall indicate that the model is generalizing well to unseen data.\n",
    "It is less prone to overfitting compared to a deeper, more complex tree, maintaining consistent performance.\n",
    "7. Good Baseline but Potential for Improvement\n",
    "Although the model shows good performance, further improvements can be explored.\n",
    "\n",
    "Hyperparameter tune it to boost peformance.\n",
    "\n",
    "### Begin with GridsearchCV hyperparameter tuning."
   ]
  },
  {
   "cell_type": "code",
   "execution_count": null,
   "metadata": {
    "colab": {
     "base_uri": "https://localhost:8080/"
    },
    "id": "mIU4oaE5GWtC",
    "outputId": "33059c16-5500-405b-965a-8818490a5799"
   },
   "outputs": [
    {
     "name": "stdout",
     "output_type": "stream",
     "text": [
      "Fitting 5 folds for each of 72 candidates, totalling 360 fits\n"
     ]
    },
    {
     "name": "stderr",
     "output_type": "stream",
     "text": [
      "/usr/local/lib/python3.11/dist-packages/sklearn/model_selection/_split.py:805: UserWarning:\n",
      "\n",
      "The least populated class in y has only 1 members, which is less than n_splits=5.\n",
      "\n"
     ]
    },
    {
     "name": "stdout",
     "output_type": "stream",
     "text": [
      "Best Parameters for Entropy: {'classifier__max_depth': None, 'classifier__min_samples_leaf': 1, 'classifier__min_samples_split': 2, 'classifier__splitter': 'random'}\n"
     ]
    },
    {
     "name": "stderr",
     "output_type": "stream",
     "text": [
      "/usr/local/lib/python3.11/dist-packages/sklearn/metrics/_classification.py:1565: UndefinedMetricWarning:\n",
      "\n",
      "Precision is ill-defined and being set to 0.0 in labels with no predicted samples. Use `zero_division` parameter to control this behavior.\n",
      "\n"
     ]
    },
    {
     "name": "stdout",
     "output_type": "stream",
     "text": [
      "Accuracy (Decision Tree - Entropy): 74.74%\n",
      "Precision (Decision Tree - Entropy): 74.81%)\n",
      "Recall (Decision Tree - Entropy): 74.74%\n",
      "F1-Score (Decision Tree - Entropy): 74.75%\n",
      "AUC (Decision Tree - Entropy): 50.01%\n"
     ]
    }
   ],
   "source": [
    "# Hyperparameter space for GridSearchCV\n",
    "param_grid_entropy = {\n",
    "    'classifier__max_depth': [3, 5, 10, None],\n",
    "    'classifier__min_samples_split': [2, 5, 10],\n",
    "    'classifier__min_samples_leaf': [1, 2, 4],\n",
    "    'classifier__splitter': ['best', 'random']\n",
    "}\n",
    "\n",
    "# Grid Search with Stratified K-Fold cross-validation\n",
    "grid_search_entropy = GridSearchCV(\n",
    "    base_dt_pipeline_entropy,\n",
    "    param_grid=param_grid_entropy,\n",
    "    cv=StratifiedKFold(n_splits=5),\n",
    "    n_jobs=-1,\n",
    "    scoring='accuracy',\n",
    "    verbose=2\n",
    ")\n",
    "\n",
    "# Fitting the model\n",
    "grid_search_entropy.fit(X_train, y_train)\n",
    "\n",
    "# Best Parameters\n",
    "print('Best Parameters for Entropy:', grid_search_entropy.best_params_)\n",
    "\n",
    "# Best Model\n",
    "best_dt_entropy = grid_search_entropy.best_estimator_\n",
    "\n",
    "# Predict on test set\n",
    "y_pred_entropy = best_dt_entropy.predict(X_test)\n",
    "\n",
    "# Evaluate the model\n",
    "accuracy_entropy = accuracy_score(y_test, y_pred_entropy)\n",
    "precision_entropy = precision_score(y_test, y_pred_entropy, average='weighted')\n",
    "recall_entropy = recall_score(y_test, y_pred_entropy, average='weighted')\n",
    "f1_entropy = f1_score(y_test, y_pred_entropy, average='weighted')\n",
    "auc_entropy = roc_auc_score(pd.get_dummies(y_test), pd.get_dummies(y_pred_entropy), multi_class='ovr')\n",
    "print(f\"Accuracy (Decision Tree - Entropy): {accuracy_entropy * 100:.2f}%\")\n",
    "print(f\"Precision (Decision Tree - Entropy): {precision_entropy * 100:.2f}%)\")\n",
    "print(f\"Recall (Decision Tree - Entropy): {recall_entropy * 100:.2f}%\")\n",
    "print(f\"F1-Score (Decision Tree - Entropy): {f1_entropy * 100:.2f}%\")\n",
    "print(f\"AUC (Decision Tree - Entropy): {auc_entropy * 100:.2f}%\")\n",
    "\n"
   ]
  },
  {
   "cell_type": "markdown",
   "metadata": {
    "id": "widPGDR5U-Mb"
   },
   "source": [
    "\n",
    "1.  Accuracy (Decision Tree - Entropy): 74.74%\n",
    "2.   Precision (Decision Tree - Entropy): 74.81%)\n",
    "1.   Recall (Decision Tree - Entropy): 74.74%\n",
    "2.   F1-Score (Decision Tree - Entropy): 74.75%\n",
    "3.  (Decision Tree - Entropy): 50.01%\n",
    "\n",
    "Metrics from grid search hyperparameter tuning shows:\n",
    "\n",
    "1. Consistent but Moderate Performance\n",
    "Accuracy, Precision, Recall, and F1-Score are all approximately 74.7%, showing consistent but moderate predictive power.\n",
    "The model is correctly predicting the contributory cause in about three-quarters of the cases, but the performance is not exceptional.\n",
    "This indicates the model is not overfitting, but it also suggests limited improvement despite hyperparameter tuning.\n",
    "2. Balanced Precision and Recall\n",
    "Precision and Recall are nearly identical, which means the model is:\n",
    "Equally good at identifying true positive causes and avoiding false positives.\n",
    "Not biased towards any particular class, maintaining balanced predictions.\n",
    "This balance is beneficial for applications where both false positives and false negatives are equally undesirable.\n",
    "3. Moderate F1-Score\n",
    "The F1-Score of 74.75% reflects the harmonic mean of Precision and Recall, confirming a balanced performance.\n",
    "It indicates that the model is not favoring precision over recall or vice versa.\n",
    "However, the moderate F1-Score suggests there is still room for improvement in overall predictive capability.\n",
    "4. Low AUC Indicates Poor Class Separation\n",
    "An AUC of 50.01% is just marginally better than random guessing (which would be 50%).\n",
    "This indicates the model has very limited ability to distinguish between classes.\n",
    "It suggests that the decision tree is struggling to define clear decision boundaries, leading to overlapping class predictions.\n",
    "5. Impact of Hyperparameter Tuning\n",
    "Despite using Grid Search for hyperparameter tuning, the model did not achieve a significant improvement in performance.\n",
    "This may indicate that the Entropy split criterion is not sufficiently capturing complex patterns in the dataset.\n",
    "Alternatively, it suggests the need for more advanced model architectures or additional feature engineering.\n",
    "6. Possible Causes for Low AUC\n",
    "Imbalanced Classes: If the dataset is imbalanced, the model might be biased towards majority classes, leading to poor AUC.\n",
    "Insufficient Complexity: Decision Trees may lack the complexity needed to model intricate patterns in the data.\n",
    "Feature Interactions: The model might be missing important feature interactions, leading to poor class separability.\n",
    "\n",
    "\n",
    "\n",
    "\n",
    "\n",
    "\n",
    "\n",
    "The gridsearch hyperparameter tuned model metrics are showing decreased performance from the original model.\n",
    "\n",
    "### Hyperparameter tune using Randomized search."
   ]
  },
  {
   "cell_type": "code",
   "execution_count": null,
   "metadata": {
    "colab": {
     "base_uri": "https://localhost:8080/"
    },
    "id": "6t9LqnY9T_6y",
    "outputId": "2443c3b8-1b4b-48cf-bd19-d84a6d61d136"
   },
   "outputs": [
    {
     "name": "stderr",
     "output_type": "stream",
     "text": [
      "/usr/local/lib/python3.11/dist-packages/sklearn/model_selection/_split.py:805: UserWarning:\n",
      "\n",
      "The least populated class in y has only 1 members, which is less than n_splits=5.\n",
      "\n"
     ]
    },
    {
     "name": "stdout",
     "output_type": "stream",
     "text": [
      "Best Parameters for Entropy: {'classifier__splitter': 'best', 'classifier__min_samples_split': 2, 'classifier__min_samples_leaf': 1, 'classifier__max_depth': None}\n",
      "Accuracy (Decision Tree - Entropy): 77.19%\n",
      "Precision (Decision Tree - Entropy): 77.17%)\n",
      "Recall (Decision Tree - Entropy): 77.19%\n",
      "F1-Score (Decision Tree - Entropy): 77.16%\n",
      "AUC (Decision Tree - Entropy): 84.02%\n"
     ]
    }
   ],
   "source": [
    "# Hyperparameter space for RandomizedSearchCV\n",
    "param_dist_entropy = {\n",
    "    'classifier__max_depth': [3, 5, 10, None],\n",
    "    'classifier__min_samples_split': [2, 5, 10],\n",
    "    'classifier__min_samples_leaf': [1, 2, 4],\n",
    "    'classifier__splitter': ['best', 'random']\n",
    "}\n",
    "\n",
    "# Randomized Search with Stratified K-Fold cross-validation\n",
    "random_search_entropy = RandomizedSearchCV(\n",
    "    base_dt_pipeline_entropy,\n",
    "    param_distributions=param_dist_entropy,\n",
    "    n_iter=20,  # Number of random combinations to try\n",
    "    cv=StratifiedKFold(n_splits=5),\n",
    "    n_jobs=-1,\n",
    "    random_state=42\n",
    ")\n",
    "# Fitting the model\n",
    "random_search_entropy.fit(X_train, y_train)\n",
    "print('Best Parameters for Entropy:', random_search_entropy.best_params_)\n",
    "\n",
    "# Best Model\n",
    "best_dt_entropy_random =random_search_entropy.best_estimator_\n",
    "\n",
    "# Predict on test set\n",
    "y_pred_entropy = best_dt_entropy_random.predict(X_test)\n",
    "\n",
    "# Evaluate the model\n",
    "accuracy_entropy = accuracy_score(y_test, y_pred_entropy)\n",
    "precision_entropy = precision_score(y_test, y_pred_entropy, average='weighted')\n",
    "recall_entropy = recall_score(y_test, y_pred_entropy, average='weighted')\n",
    "f1_entropy = f1_score(y_test, y_pred_entropy, average='weighted')\n",
    "auc_entropy = roc_auc_score(pd.get_dummies(y_test), pd.get_dummies(y_pred_entropy), multi_class='ovr')\n",
    "print(f\"Accuracy (Decision Tree - Entropy): {accuracy_entropy * 100:.2f}%\")\n",
    "print(f\"Precision (Decision Tree - Entropy): {precision_entropy * 100:.2f}%)\")\n",
    "print(f\"Recall (Decision Tree - Entropy): {recall_entropy * 100:.2f}%\")\n",
    "print(f\"F1-Score (Decision Tree - Entropy): {f1_entropy * 100:.2f}%\")\n",
    "print(f\"AUC (Decision Tree - Entropy): {auc_entropy * 100:.2f}%\")"
   ]
  },
  {
   "cell_type": "markdown",
   "metadata": {
    "id": "RVUPmNTI3FGJ"
   },
   "source": [
    "\n",
    "\n",
    "1.  Accuracy (Decision Tree - Entropy): 77.19%\n",
    "2.  Precision (Decision Tree - Entropy): 77.17%)\n",
    "3.  Recall (Decision Tree - Entropy): 77.19%\n",
    "4.  F1-Score (Decision Tree - Entropy): 77.16%\n",
    "5.  AUC (Decision Tree - Entropy): 84.02%\n",
    "\n",
    "Maintained same performance metrics as Base Decision tree classifier with entropy.\n",
    "\n",
    " #### Model Strength\n",
    "1. **Strengths**:\n",
    "High Accuracy and balanced Precision and Recall make it reliable and consistent.\n",
    "Good AUC performance shows effective class discrimination.\n",
    "Interpretable model with a clear decision-making process, suitable for stakeholder communication.\n",
    "\n",
    "\n"
   ]
  },
  {
   "cell_type": "markdown",
   "metadata": {
    "id": "gIZX3NsW1U3O"
   },
   "source": [
    "### Test a logistic regression Classifier"
   ]
  },
  {
   "cell_type": "code",
   "execution_count": null,
   "metadata": {
    "colab": {
     "base_uri": "https://localhost:8080/"
    },
    "id": "rGmuaZx_GWtE",
    "outputId": "9fbde38a-cc35-4e95-818b-2e42c70b92ce"
   },
   "outputs": [
    {
     "name": "stdout",
     "output_type": "stream",
     "text": [
      "\n",
      "Training LogisticRegression...\n"
     ]
    },
    {
     "name": "stderr",
     "output_type": "stream",
     "text": [
      "/usr/local/lib/python3.11/dist-packages/sklearn/linear_model/_logistic.py:1247: FutureWarning:\n",
      "\n",
      "'multi_class' was deprecated in version 1.5 and will be removed in 1.7. From then on, it will always use 'multinomial'. Leave it to its default value to avoid this warning.\n",
      "\n",
      "/usr/local/lib/python3.11/dist-packages/sklearn/metrics/_classification.py:1565: UndefinedMetricWarning:\n",
      "\n",
      "Precision is ill-defined and being set to 0.0 in labels with no predicted samples. Use `zero_division` parameter to control this behavior.\n",
      "\n"
     ]
    },
    {
     "name": "stdout",
     "output_type": "stream",
     "text": [
      "Precision (Logistic Regression): 33.08%\n",
      "Recall (Logistic Regression): 38.17%\n",
      "F1-Score (Logistic Regression): 31.87%\n",
      "AUC (Logistic Regression): 82.58%\n",
      "Logistic Regression Accuracy: 38.17%\n"
     ]
    }
   ],
   "source": [
    "# Logistic Regression\n",
    "lr_model = LogisticRegression(multi_class='multinomial', solver='lbfgs', max_iter=1000, random_state=42)\n",
    "lr_model.fit(X_train, y_train)\n",
    "y_pred_lr = lr_model.predict(X_test)\n",
    "y_prob_lr = lr_model.predict_proba(X_test)  # For AUC calculation\n",
    "\n",
    "# Precision, Recall, F1-Score, and AUC\n",
    "precision_lr = precision_score(y_test, y_pred_lr, average='weighted')\n",
    "recall_lr = recall_score(y_test, y_pred_lr, average='weighted')\n",
    "f1_lr = f1_score(y_test, y_pred_lr, average='weighted')\n",
    "auc_lr = roc_auc_score(pd.get_dummies(y_test), y_prob_lr, multi_class='ovr')\n",
    "\n",
    "# Display Metrics\n",
    "print(f\"Precision (Logistic Regression): {precision_lr * 100:.2f}%\")\n",
    "print(f\"Recall (Logistic Regression): {recall_lr * 100:.2f}%\")\n",
    "print(f\"F1-Score (Logistic Regression): {f1_lr * 100:.2f}%\")\n",
    "print(f\"AUC (Logistic Regression): {auc_lr * 100:.2f}%\")\n",
    "\n",
    "# Accuracy (for reference)\n",
    "lr_accuracy = accuracy_score(y_test, y_pred_lr)\n",
    "print(f'Logistic Regression Accuracy: {lr_accuracy * 100:.2f}%')\n",
    "\n"
   ]
  },
  {
   "cell_type": "markdown",
   "metadata": {
    "id": "263z10T44wSr"
   },
   "source": [
    "Logistic Regression is not the best choice due to its low accuracy and F1-Score.\n",
    "Threshold tuning and class imbalance handling could slightly improve performance but are unlikely to close the gap with advanced models."
   ]
  },
  {
   "cell_type": "code",
   "execution_count": null,
   "metadata": {
    "colab": {
     "base_uri": "https://localhost:8080/"
    },
    "id": "Y8rgu6rIGWtE",
    "outputId": "8cf6e9f0-c17f-4139-bf5c-6bdcef62811b"
   },
   "outputs": [
    {
     "name": "stdout",
     "output_type": "stream",
     "text": [
      "\n",
      "Training RandomForest...\n"
     ]
    },
    {
     "name": "stderr",
     "output_type": "stream",
     "text": [
      "/usr/local/lib/python3.11/dist-packages/sklearn/metrics/_classification.py:1565: UndefinedMetricWarning:\n",
      "\n",
      "Precision is ill-defined and being set to 0.0 in labels with no predicted samples. Use `zero_division` parameter to control this behavior.\n",
      "\n"
     ]
    },
    {
     "name": "stdout",
     "output_type": "stream",
     "text": [
      "Precision (RandomForest): 57.99%\n",
      "Recall (RandomForest): 50.57%\n",
      "F1-Score (RandomForest): 44.79%\n",
      "AUC (RandomForest): 92.58%\n",
      "Random Forest Accuracy: 50.57%\n"
     ]
    }
   ],
   "source": [
    "# Random Forest\n",
    "rf_model = RandomForestClassifier(n_estimators=100, max_depth=10, random_state=42)\n",
    "rf_model.fit(X_train, y_train)\n",
    "y_pred_rf = rf_model.predict(X_test)\n",
    "y_prob_rf = rf_model.predict_proba(X_test)  # For AUC calculation\n",
    "\n",
    "# Precision, Recall, F1-Score, and AUC\n",
    "precision_rf = precision_score(y_test, y_pred_rf, average='weighted')\n",
    "recall_rf = recall_score(y_test, y_pred_rf, average='weighted')\n",
    "f1_rf = f1_score(y_test, y_pred_rf, average='weighted')\n",
    "auc_rf = roc_auc_score(pd.get_dummies(y_test), y_prob_rf, multi_class='ovr')\n",
    "\n",
    "# Display Metrics\n",
    "print(f\"Precision (RandomForest): {precision_rf * 100:.2f}%\")\n",
    "print(f\"Recall (RandomForest): {recall_rf * 100:.2f}%\")\n",
    "print(f\"F1-Score (RandomForest): {f1_rf * 100:.2f}%\")\n",
    "print(f\"AUC (RandomForest): {auc_rf * 100:.2f}%\")\n",
    "\n",
    "# Accuracy (for reference)\n",
    "rf_accuracy = accuracy_score(y_test, y_pred_rf)\n",
    "print(f'Random Forest Accuracy: {rf_accuracy * 100:.2f}%')\n"
   ]
  },
  {
   "cell_type": "markdown",
   "metadata": {
    "id": "AtOvInQf5OQK"
   },
   "source": [
    "The moderate accuracy and low F1-Score indicate Random Forests are not effectively handling class imbalance or complex decision boundaries.\n",
    "However, the high AUC suggests that optimizing the thresholds and tuning hyperparameters could significantly improve performance.\n",
    "The model could be deployed as an initial baseline but XGBoost may offer better accuracy and reliability."
   ]
  },
  {
   "cell_type": "code",
   "execution_count": null,
   "metadata": {
    "colab": {
     "base_uri": "https://localhost:8080/",
     "height": 359
    },
    "id": "HPcCwyr1J__l",
    "outputId": "d4c1ec4e-ae96-43f8-bfc2-8a078568c917"
   },
   "outputs": [
    {
     "name": "stderr",
     "output_type": "stream",
     "text": [
      "/usr/local/lib/python3.11/dist-packages/xgboost/core.py:158: UserWarning:\n",
      "\n",
      "[19:27:20] WARNING: /workspace/src/learner.cc:740: \n",
      "Parameters: { \"use_label_encoder\" } are not used.\n",
      "\n",
      "\n"
     ]
    },
    {
     "data": {
      "text/html": [
       "<style>#sk-container-id-4 {\n",
       "  /* Definition of color scheme common for light and dark mode */\n",
       "  --sklearn-color-text: #000;\n",
       "  --sklearn-color-text-muted: #666;\n",
       "  --sklearn-color-line: gray;\n",
       "  /* Definition of color scheme for unfitted estimators */\n",
       "  --sklearn-color-unfitted-level-0: #fff5e6;\n",
       "  --sklearn-color-unfitted-level-1: #f6e4d2;\n",
       "  --sklearn-color-unfitted-level-2: #ffe0b3;\n",
       "  --sklearn-color-unfitted-level-3: chocolate;\n",
       "  /* Definition of color scheme for fitted estimators */\n",
       "  --sklearn-color-fitted-level-0: #f0f8ff;\n",
       "  --sklearn-color-fitted-level-1: #d4ebff;\n",
       "  --sklearn-color-fitted-level-2: #b3dbfd;\n",
       "  --sklearn-color-fitted-level-3: cornflowerblue;\n",
       "\n",
       "  /* Specific color for light theme */\n",
       "  --sklearn-color-text-on-default-background: var(--sg-text-color, var(--theme-code-foreground, var(--jp-content-font-color1, black)));\n",
       "  --sklearn-color-background: var(--sg-background-color, var(--theme-background, var(--jp-layout-color0, white)));\n",
       "  --sklearn-color-border-box: var(--sg-text-color, var(--theme-code-foreground, var(--jp-content-font-color1, black)));\n",
       "  --sklearn-color-icon: #696969;\n",
       "\n",
       "  @media (prefers-color-scheme: dark) {\n",
       "    /* Redefinition of color scheme for dark theme */\n",
       "    --sklearn-color-text-on-default-background: var(--sg-text-color, var(--theme-code-foreground, var(--jp-content-font-color1, white)));\n",
       "    --sklearn-color-background: var(--sg-background-color, var(--theme-background, var(--jp-layout-color0, #111)));\n",
       "    --sklearn-color-border-box: var(--sg-text-color, var(--theme-code-foreground, var(--jp-content-font-color1, white)));\n",
       "    --sklearn-color-icon: #878787;\n",
       "  }\n",
       "}\n",
       "\n",
       "#sk-container-id-4 {\n",
       "  color: var(--sklearn-color-text);\n",
       "}\n",
       "\n",
       "#sk-container-id-4 pre {\n",
       "  padding: 0;\n",
       "}\n",
       "\n",
       "#sk-container-id-4 input.sk-hidden--visually {\n",
       "  border: 0;\n",
       "  clip: rect(1px 1px 1px 1px);\n",
       "  clip: rect(1px, 1px, 1px, 1px);\n",
       "  height: 1px;\n",
       "  margin: -1px;\n",
       "  overflow: hidden;\n",
       "  padding: 0;\n",
       "  position: absolute;\n",
       "  width: 1px;\n",
       "}\n",
       "\n",
       "#sk-container-id-4 div.sk-dashed-wrapped {\n",
       "  border: 1px dashed var(--sklearn-color-line);\n",
       "  margin: 0 0.4em 0.5em 0.4em;\n",
       "  box-sizing: border-box;\n",
       "  padding-bottom: 0.4em;\n",
       "  background-color: var(--sklearn-color-background);\n",
       "}\n",
       "\n",
       "#sk-container-id-4 div.sk-container {\n",
       "  /* jupyter's `normalize.less` sets `[hidden] { display: none; }`\n",
       "     but bootstrap.min.css set `[hidden] { display: none !important; }`\n",
       "     so we also need the `!important` here to be able to override the\n",
       "     default hidden behavior on the sphinx rendered scikit-learn.org.\n",
       "     See: https://github.com/scikit-learn/scikit-learn/issues/21755 */\n",
       "  display: inline-block !important;\n",
       "  position: relative;\n",
       "}\n",
       "\n",
       "#sk-container-id-4 div.sk-text-repr-fallback {\n",
       "  display: none;\n",
       "}\n",
       "\n",
       "div.sk-parallel-item,\n",
       "div.sk-serial,\n",
       "div.sk-item {\n",
       "  /* draw centered vertical line to link estimators */\n",
       "  background-image: linear-gradient(var(--sklearn-color-text-on-default-background), var(--sklearn-color-text-on-default-background));\n",
       "  background-size: 2px 100%;\n",
       "  background-repeat: no-repeat;\n",
       "  background-position: center center;\n",
       "}\n",
       "\n",
       "/* Parallel-specific style estimator block */\n",
       "\n",
       "#sk-container-id-4 div.sk-parallel-item::after {\n",
       "  content: \"\";\n",
       "  width: 100%;\n",
       "  border-bottom: 2px solid var(--sklearn-color-text-on-default-background);\n",
       "  flex-grow: 1;\n",
       "}\n",
       "\n",
       "#sk-container-id-4 div.sk-parallel {\n",
       "  display: flex;\n",
       "  align-items: stretch;\n",
       "  justify-content: center;\n",
       "  background-color: var(--sklearn-color-background);\n",
       "  position: relative;\n",
       "}\n",
       "\n",
       "#sk-container-id-4 div.sk-parallel-item {\n",
       "  display: flex;\n",
       "  flex-direction: column;\n",
       "}\n",
       "\n",
       "#sk-container-id-4 div.sk-parallel-item:first-child::after {\n",
       "  align-self: flex-end;\n",
       "  width: 50%;\n",
       "}\n",
       "\n",
       "#sk-container-id-4 div.sk-parallel-item:last-child::after {\n",
       "  align-self: flex-start;\n",
       "  width: 50%;\n",
       "}\n",
       "\n",
       "#sk-container-id-4 div.sk-parallel-item:only-child::after {\n",
       "  width: 0;\n",
       "}\n",
       "\n",
       "/* Serial-specific style estimator block */\n",
       "\n",
       "#sk-container-id-4 div.sk-serial {\n",
       "  display: flex;\n",
       "  flex-direction: column;\n",
       "  align-items: center;\n",
       "  background-color: var(--sklearn-color-background);\n",
       "  padding-right: 1em;\n",
       "  padding-left: 1em;\n",
       "}\n",
       "\n",
       "\n",
       "/* Toggleable style: style used for estimator/Pipeline/ColumnTransformer box that is\n",
       "clickable and can be expanded/collapsed.\n",
       "- Pipeline and ColumnTransformer use this feature and define the default style\n",
       "- Estimators will overwrite some part of the style using the `sk-estimator` class\n",
       "*/\n",
       "\n",
       "/* Pipeline and ColumnTransformer style (default) */\n",
       "\n",
       "#sk-container-id-4 div.sk-toggleable {\n",
       "  /* Default theme specific background. It is overwritten whether we have a\n",
       "  specific estimator or a Pipeline/ColumnTransformer */\n",
       "  background-color: var(--sklearn-color-background);\n",
       "}\n",
       "\n",
       "/* Toggleable label */\n",
       "#sk-container-id-4 label.sk-toggleable__label {\n",
       "  cursor: pointer;\n",
       "  display: flex;\n",
       "  width: 100%;\n",
       "  margin-bottom: 0;\n",
       "  padding: 0.5em;\n",
       "  box-sizing: border-box;\n",
       "  text-align: center;\n",
       "  align-items: start;\n",
       "  justify-content: space-between;\n",
       "  gap: 0.5em;\n",
       "}\n",
       "\n",
       "#sk-container-id-4 label.sk-toggleable__label .caption {\n",
       "  font-size: 0.6rem;\n",
       "  font-weight: lighter;\n",
       "  color: var(--sklearn-color-text-muted);\n",
       "}\n",
       "\n",
       "#sk-container-id-4 label.sk-toggleable__label-arrow:before {\n",
       "  /* Arrow on the left of the label */\n",
       "  content: \"▸\";\n",
       "  float: left;\n",
       "  margin-right: 0.25em;\n",
       "  color: var(--sklearn-color-icon);\n",
       "}\n",
       "\n",
       "#sk-container-id-4 label.sk-toggleable__label-arrow:hover:before {\n",
       "  color: var(--sklearn-color-text);\n",
       "}\n",
       "\n",
       "/* Toggleable content - dropdown */\n",
       "\n",
       "#sk-container-id-4 div.sk-toggleable__content {\n",
       "  max-height: 0;\n",
       "  max-width: 0;\n",
       "  overflow: hidden;\n",
       "  text-align: left;\n",
       "  /* unfitted */\n",
       "  background-color: var(--sklearn-color-unfitted-level-0);\n",
       "}\n",
       "\n",
       "#sk-container-id-4 div.sk-toggleable__content.fitted {\n",
       "  /* fitted */\n",
       "  background-color: var(--sklearn-color-fitted-level-0);\n",
       "}\n",
       "\n",
       "#sk-container-id-4 div.sk-toggleable__content pre {\n",
       "  margin: 0.2em;\n",
       "  border-radius: 0.25em;\n",
       "  color: var(--sklearn-color-text);\n",
       "  /* unfitted */\n",
       "  background-color: var(--sklearn-color-unfitted-level-0);\n",
       "}\n",
       "\n",
       "#sk-container-id-4 div.sk-toggleable__content.fitted pre {\n",
       "  /* unfitted */\n",
       "  background-color: var(--sklearn-color-fitted-level-0);\n",
       "}\n",
       "\n",
       "#sk-container-id-4 input.sk-toggleable__control:checked~div.sk-toggleable__content {\n",
       "  /* Expand drop-down */\n",
       "  max-height: 200px;\n",
       "  max-width: 100%;\n",
       "  overflow: auto;\n",
       "}\n",
       "\n",
       "#sk-container-id-4 input.sk-toggleable__control:checked~label.sk-toggleable__label-arrow:before {\n",
       "  content: \"▾\";\n",
       "}\n",
       "\n",
       "/* Pipeline/ColumnTransformer-specific style */\n",
       "\n",
       "#sk-container-id-4 div.sk-label input.sk-toggleable__control:checked~label.sk-toggleable__label {\n",
       "  color: var(--sklearn-color-text);\n",
       "  background-color: var(--sklearn-color-unfitted-level-2);\n",
       "}\n",
       "\n",
       "#sk-container-id-4 div.sk-label.fitted input.sk-toggleable__control:checked~label.sk-toggleable__label {\n",
       "  background-color: var(--sklearn-color-fitted-level-2);\n",
       "}\n",
       "\n",
       "/* Estimator-specific style */\n",
       "\n",
       "/* Colorize estimator box */\n",
       "#sk-container-id-4 div.sk-estimator input.sk-toggleable__control:checked~label.sk-toggleable__label {\n",
       "  /* unfitted */\n",
       "  background-color: var(--sklearn-color-unfitted-level-2);\n",
       "}\n",
       "\n",
       "#sk-container-id-4 div.sk-estimator.fitted input.sk-toggleable__control:checked~label.sk-toggleable__label {\n",
       "  /* fitted */\n",
       "  background-color: var(--sklearn-color-fitted-level-2);\n",
       "}\n",
       "\n",
       "#sk-container-id-4 div.sk-label label.sk-toggleable__label,\n",
       "#sk-container-id-4 div.sk-label label {\n",
       "  /* The background is the default theme color */\n",
       "  color: var(--sklearn-color-text-on-default-background);\n",
       "}\n",
       "\n",
       "/* On hover, darken the color of the background */\n",
       "#sk-container-id-4 div.sk-label:hover label.sk-toggleable__label {\n",
       "  color: var(--sklearn-color-text);\n",
       "  background-color: var(--sklearn-color-unfitted-level-2);\n",
       "}\n",
       "\n",
       "/* Label box, darken color on hover, fitted */\n",
       "#sk-container-id-4 div.sk-label.fitted:hover label.sk-toggleable__label.fitted {\n",
       "  color: var(--sklearn-color-text);\n",
       "  background-color: var(--sklearn-color-fitted-level-2);\n",
       "}\n",
       "\n",
       "/* Estimator label */\n",
       "\n",
       "#sk-container-id-4 div.sk-label label {\n",
       "  font-family: monospace;\n",
       "  font-weight: bold;\n",
       "  display: inline-block;\n",
       "  line-height: 1.2em;\n",
       "}\n",
       "\n",
       "#sk-container-id-4 div.sk-label-container {\n",
       "  text-align: center;\n",
       "}\n",
       "\n",
       "/* Estimator-specific */\n",
       "#sk-container-id-4 div.sk-estimator {\n",
       "  font-family: monospace;\n",
       "  border: 1px dotted var(--sklearn-color-border-box);\n",
       "  border-radius: 0.25em;\n",
       "  box-sizing: border-box;\n",
       "  margin-bottom: 0.5em;\n",
       "  /* unfitted */\n",
       "  background-color: var(--sklearn-color-unfitted-level-0);\n",
       "}\n",
       "\n",
       "#sk-container-id-4 div.sk-estimator.fitted {\n",
       "  /* fitted */\n",
       "  background-color: var(--sklearn-color-fitted-level-0);\n",
       "}\n",
       "\n",
       "/* on hover */\n",
       "#sk-container-id-4 div.sk-estimator:hover {\n",
       "  /* unfitted */\n",
       "  background-color: var(--sklearn-color-unfitted-level-2);\n",
       "}\n",
       "\n",
       "#sk-container-id-4 div.sk-estimator.fitted:hover {\n",
       "  /* fitted */\n",
       "  background-color: var(--sklearn-color-fitted-level-2);\n",
       "}\n",
       "\n",
       "/* Specification for estimator info (e.g. \"i\" and \"?\") */\n",
       "\n",
       "/* Common style for \"i\" and \"?\" */\n",
       "\n",
       ".sk-estimator-doc-link,\n",
       "a:link.sk-estimator-doc-link,\n",
       "a:visited.sk-estimator-doc-link {\n",
       "  float: right;\n",
       "  font-size: smaller;\n",
       "  line-height: 1em;\n",
       "  font-family: monospace;\n",
       "  background-color: var(--sklearn-color-background);\n",
       "  border-radius: 1em;\n",
       "  height: 1em;\n",
       "  width: 1em;\n",
       "  text-decoration: none !important;\n",
       "  margin-left: 0.5em;\n",
       "  text-align: center;\n",
       "  /* unfitted */\n",
       "  border: var(--sklearn-color-unfitted-level-1) 1pt solid;\n",
       "  color: var(--sklearn-color-unfitted-level-1);\n",
       "}\n",
       "\n",
       ".sk-estimator-doc-link.fitted,\n",
       "a:link.sk-estimator-doc-link.fitted,\n",
       "a:visited.sk-estimator-doc-link.fitted {\n",
       "  /* fitted */\n",
       "  border: var(--sklearn-color-fitted-level-1) 1pt solid;\n",
       "  color: var(--sklearn-color-fitted-level-1);\n",
       "}\n",
       "\n",
       "/* On hover */\n",
       "div.sk-estimator:hover .sk-estimator-doc-link:hover,\n",
       ".sk-estimator-doc-link:hover,\n",
       "div.sk-label-container:hover .sk-estimator-doc-link:hover,\n",
       ".sk-estimator-doc-link:hover {\n",
       "  /* unfitted */\n",
       "  background-color: var(--sklearn-color-unfitted-level-3);\n",
       "  color: var(--sklearn-color-background);\n",
       "  text-decoration: none;\n",
       "}\n",
       "\n",
       "div.sk-estimator.fitted:hover .sk-estimator-doc-link.fitted:hover,\n",
       ".sk-estimator-doc-link.fitted:hover,\n",
       "div.sk-label-container:hover .sk-estimator-doc-link.fitted:hover,\n",
       ".sk-estimator-doc-link.fitted:hover {\n",
       "  /* fitted */\n",
       "  background-color: var(--sklearn-color-fitted-level-3);\n",
       "  color: var(--sklearn-color-background);\n",
       "  text-decoration: none;\n",
       "}\n",
       "\n",
       "/* Span, style for the box shown on hovering the info icon */\n",
       ".sk-estimator-doc-link span {\n",
       "  display: none;\n",
       "  z-index: 9999;\n",
       "  position: relative;\n",
       "  font-weight: normal;\n",
       "  right: .2ex;\n",
       "  padding: .5ex;\n",
       "  margin: .5ex;\n",
       "  width: min-content;\n",
       "  min-width: 20ex;\n",
       "  max-width: 50ex;\n",
       "  color: var(--sklearn-color-text);\n",
       "  box-shadow: 2pt 2pt 4pt #999;\n",
       "  /* unfitted */\n",
       "  background: var(--sklearn-color-unfitted-level-0);\n",
       "  border: .5pt solid var(--sklearn-color-unfitted-level-3);\n",
       "}\n",
       "\n",
       ".sk-estimator-doc-link.fitted span {\n",
       "  /* fitted */\n",
       "  background: var(--sklearn-color-fitted-level-0);\n",
       "  border: var(--sklearn-color-fitted-level-3);\n",
       "}\n",
       "\n",
       ".sk-estimator-doc-link:hover span {\n",
       "  display: block;\n",
       "}\n",
       "\n",
       "/* \"?\"-specific style due to the `<a>` HTML tag */\n",
       "\n",
       "#sk-container-id-4 a.estimator_doc_link {\n",
       "  float: right;\n",
       "  font-size: 1rem;\n",
       "  line-height: 1em;\n",
       "  font-family: monospace;\n",
       "  background-color: var(--sklearn-color-background);\n",
       "  border-radius: 1rem;\n",
       "  height: 1rem;\n",
       "  width: 1rem;\n",
       "  text-decoration: none;\n",
       "  /* unfitted */\n",
       "  color: var(--sklearn-color-unfitted-level-1);\n",
       "  border: var(--sklearn-color-unfitted-level-1) 1pt solid;\n",
       "}\n",
       "\n",
       "#sk-container-id-4 a.estimator_doc_link.fitted {\n",
       "  /* fitted */\n",
       "  border: var(--sklearn-color-fitted-level-1) 1pt solid;\n",
       "  color: var(--sklearn-color-fitted-level-1);\n",
       "}\n",
       "\n",
       "/* On hover */\n",
       "#sk-container-id-4 a.estimator_doc_link:hover {\n",
       "  /* unfitted */\n",
       "  background-color: var(--sklearn-color-unfitted-level-3);\n",
       "  color: var(--sklearn-color-background);\n",
       "  text-decoration: none;\n",
       "}\n",
       "\n",
       "#sk-container-id-4 a.estimator_doc_link.fitted:hover {\n",
       "  /* fitted */\n",
       "  background-color: var(--sklearn-color-fitted-level-3);\n",
       "}\n",
       "</style><div id=\"sk-container-id-4\" class=\"sk-top-container\"><div class=\"sk-text-repr-fallback\"><pre>XGBClassifier(base_score=None, booster=None, callbacks=None,\n",
       "              colsample_bylevel=None, colsample_bynode=None,\n",
       "              colsample_bytree=None, device=None, early_stopping_rounds=None,\n",
       "              enable_categorical=False, eval_metric=&#x27;logloss&#x27;,\n",
       "              feature_types=None, gamma=None, grow_policy=None,\n",
       "              importance_type=None, interaction_constraints=None,\n",
       "              learning_rate=None, max_bin=None, max_cat_threshold=None,\n",
       "              max_cat_to_onehot=None, max_delta_step=None, max_depth=None,\n",
       "              max_leaves=None, min_child_weight=None, missing=nan,\n",
       "              monotone_constraints=None, multi_strategy=None, n_estimators=None,\n",
       "              n_jobs=None, num_parallel_tree=None, objective=&#x27;multi:softprob&#x27;, ...)</pre><b>In a Jupyter environment, please rerun this cell to show the HTML representation or trust the notebook. <br />On GitHub, the HTML representation is unable to render, please try loading this page with nbviewer.org.</b></div><div class=\"sk-container\" hidden><div class=\"sk-item\"><div class=\"sk-estimator fitted sk-toggleable\"><input class=\"sk-toggleable__control sk-hidden--visually\" id=\"sk-estimator-id-6\" type=\"checkbox\" checked><label for=\"sk-estimator-id-6\" class=\"sk-toggleable__label fitted sk-toggleable__label-arrow\"><div><div>XGBClassifier</div></div><div><span class=\"sk-estimator-doc-link fitted\">i<span>Fitted</span></span></div></label><div class=\"sk-toggleable__content fitted\"><pre>XGBClassifier(base_score=None, booster=None, callbacks=None,\n",
       "              colsample_bylevel=None, colsample_bynode=None,\n",
       "              colsample_bytree=None, device=None, early_stopping_rounds=None,\n",
       "              enable_categorical=False, eval_metric=&#x27;logloss&#x27;,\n",
       "              feature_types=None, gamma=None, grow_policy=None,\n",
       "              importance_type=None, interaction_constraints=None,\n",
       "              learning_rate=None, max_bin=None, max_cat_threshold=None,\n",
       "              max_cat_to_onehot=None, max_delta_step=None, max_depth=None,\n",
       "              max_leaves=None, min_child_weight=None, missing=nan,\n",
       "              monotone_constraints=None, multi_strategy=None, n_estimators=None,\n",
       "              n_jobs=None, num_parallel_tree=None, objective=&#x27;multi:softprob&#x27;, ...)</pre></div> </div></div></div></div>"
      ],
      "text/plain": [
       "XGBClassifier(base_score=None, booster=None, callbacks=None,\n",
       "              colsample_bylevel=None, colsample_bynode=None,\n",
       "              colsample_bytree=None, device=None, early_stopping_rounds=None,\n",
       "              enable_categorical=False, eval_metric='logloss',\n",
       "              feature_types=None, gamma=None, grow_policy=None,\n",
       "              importance_type=None, interaction_constraints=None,\n",
       "              learning_rate=None, max_bin=None, max_cat_threshold=None,\n",
       "              max_cat_to_onehot=None, max_delta_step=None, max_depth=None,\n",
       "              max_leaves=None, min_child_weight=None, missing=nan,\n",
       "              monotone_constraints=None, multi_strategy=None, n_estimators=None,\n",
       "              n_jobs=None, num_parallel_tree=None, objective='multi:softprob', ...)"
      ]
     },
     "execution_count": 113,
     "metadata": {},
     "output_type": "execute_result"
    }
   ],
   "source": [
    "# XGBoost\n",
    "xgb_model = XGBClassifier( eval_metric='logloss')\n",
    "xgb_model.fit(X_train, y_train)"
   ]
  },
  {
   "cell_type": "code",
   "execution_count": null,
   "metadata": {
    "id": "JPval2N3MS5S"
   },
   "outputs": [],
   "source": [
    "xgb_preds = xgb_model.predict(X_test)\n",
    "xgb_probs = xgb_model.predict_proba(X_test)[:, 1]"
   ]
  },
  {
   "cell_type": "code",
   "execution_count": null,
   "metadata": {
    "colab": {
     "base_uri": "https://localhost:8080/"
    },
    "id": "XNQ0Da4XMZf9",
    "outputId": "4a3f0e26-7312-4113-97c2-a2e333e33a60"
   },
   "outputs": [
    {
     "name": "stdout",
     "output_type": "stream",
     "text": [
      "Precision (XGBoost): 76.83%\n",
      "Recall (XGBoost): 76.34%\n",
      "F1-Score (XGBoost): 75.89%\n",
      "AUC (XGBoost): 98.01%\n",
      "XGBoost Accuracy: 76.34%\n"
     ]
    }
   ],
   "source": [
    "\n",
    "# XGBoost Metrics\n",
    "precision_xgb = precision_score(y_test, xgb_preds, average='weighted', zero_division=0)\n",
    "recall_xgb = recall_score(y_test, xgb_preds, average='weighted')\n",
    "f1_xgb = f1_score(y_test, xgb_preds, average='weighted')\n",
    "auc_xgb = roc_auc_score(y_test, xgb_model.predict_proba(X_test), multi_class='ovr')\n",
    "accuracy_xgb = accuracy_score(y_test, xgb_preds)\n",
    "\n",
    "print(f\"Precision (XGBoost): {precision_xgb * 100:.2f}%\")\n",
    "print(f\"Recall (XGBoost): {recall_xgb * 100:.2f}%\")\n",
    "print(f\"F1-Score (XGBoost): {f1_xgb * 100:.2f}%\")\n",
    "print(f\"AUC (XGBoost): {auc_xgb * 100:.2f}%\")\n",
    "print(f\"XGBoost Accuracy: {accuracy_xgb * 100:.2f}%\")"
   ]
  },
  {
   "cell_type": "markdown",
   "metadata": {
    "id": "i3SNiGLJ5kWo"
   },
   "source": [
    "The performence metrics are:\n",
    "1. Precision (XGBoost): 76.83%\n",
    "2. Recall (XGBoost): 76.34%\n",
    "3. F1-Score (XGBoost): 75.89%\n",
    "4. AUC (XGBoost): 98.01%\n",
    "5. XGBoost Accuracy: 76.34%\n",
    "\n",
    "This shows:\n",
    "1. High Accuracy and Balanced F1-Score\n",
    "The Accuracy of 76.34% indicates that the model correctly predicts the class in over three-quarters of instances.\n",
    "The F1-Score of 75.89% is also high and well-balanced, showing that the model:\n",
    "Effectively balances precision and recall.\n",
    "Maintains good performance across all classes, suggesting robust generalization.\n",
    "2. Precision vs. Recall Analysis\n",
    "Precision (76.83%) and Recall (76.34%) are very close, indicating:\n",
    "The model accurately identifies true positives with minimal false positives.\n",
    "It generalizes well to unseen data, with a good balance between sensitivity and specificity.\n",
    "This reflects consistency in model predictions, with no significant bias towards either precision or recall.\n",
    "3. Outstanding AUC Performance\n",
    "The AUC of 98.01% is exceptional, demonstrating:\n",
    "Excellent discriminatory power in distinguishing between classes.\n",
    "High sensitivity and specificity, meaning the model effectively ranks predictions.\n",
    "A high AUC combined with strong accuracy and F1-Score indicates the model:\n",
    "Is well-calibrated and confident in its predictions.\n",
    "Is reliable for decision-making, with low risk of misclassification.\n",
    "4. Insights and Potential Strengths\n",
    "The consistency across all metrics suggests:\n",
    "The model effectively learns complex patterns without overfitting.\n",
    "It handles class imbalance well, maintaining high recall and precision.\n",
    "The model is robust and adaptable, likely due to the regularization techniques in XGBoost.\n",
    "The high AUC with balanced F1-Score implies that the decision thresholds are well-optimized.\n",
    "5. Advantages of XGBoost\n",
    "XGBoost is known for:\n",
    "Gradient boosting to sequentially improve weak learners.\n",
    "Regularization (L1 and L2) to prevent overfitting.\n",
    "Handling missing values and class imbalance more effectively.\n",
    "Parallel processing and fast computation, ensuring efficient training.\n",
    "These features contribute to its superior performance and robustness in complex datasets.\n",
    "6. Comparison with Other Models\n",
    "Compared to Decision Trees and Random Forests, this XGBoost model:\n",
    "Outperforms in accuracy, precision, recall, and F1-Score, showing better generalization.\n",
    "Excels in AUC (98.01%), proving better discriminatory power.\n",
    "Balances precision and recall better, reducing the risk of overfitting or underfitting.\n",
    "It is significantly more reliable for predicting the primary contributory cause of car accidents.\n"
   ]
  },
  {
   "cell_type": "code",
   "execution_count": null,
   "metadata": {
    "colab": {
     "base_uri": "https://localhost:8080/",
     "height": 576
    },
    "id": "f3y-07WnM88Z",
    "outputId": "b2e95ba8-bd0a-41f9-b904-650a91f33da2"
   },
   "outputs": [
    {
     "name": "stderr",
     "output_type": "stream",
     "text": [
      "/usr/local/lib/python3.11/dist-packages/xgboost/core.py:158: UserWarning:\n",
      "\n",
      "[20:44:06] WARNING: /workspace/src/learner.cc:740: \n",
      "Parameters: { \"use_label_encoder\" } are not used.\n",
      "\n",
      "\n"
     ]
    },
    {
     "data": {
      "image/png": "[encoded data removed]",
      "text/plain": [
       "<Figure size 640x480 with 1 Axes>"
      ]
     },
     "metadata": {},
     "output_type": "display_data"
    }
   ],
   "source": [
    "xgb_model = XGBClassifier(\n",
    "    eval_metric='mlogloss'  # Use mlogloss for multi-class classification\n",
    ")\n",
    "\n",
    "eval_set = [(X_train, y_train), (X_test, y_test)]\n",
    "xgb_model.fit(X_train, y_train, eval_set=eval_set, verbose=False)\n",
    "\n",
    "# Plot loss curve\n",
    "results = xgb_model.evals_result()\n",
    "plt.plot(results['validation_0']['mlogloss'], label='Train')\n",
    "plt.plot(results['validation_1']['mlogloss'], label='Test')\n",
    "plt.xlabel('Epochs')\n",
    "plt.ylabel('Multiclass Log Loss')\n",
    "plt.title('XGBoost Loss Curve')\n",
    "plt.legend()\n",
    "plt.grid(True)\n",
    "plt.show()\n"
   ]
  },
  {
   "cell_type": "markdown",
   "metadata": {
    "id": "wMCVKUkb7cvB"
   },
   "source": [
    "#### Insights from the XGBoost Loss Curve:\n",
    "1. Consistent Decrease in Loss:\n",
    "\n",
    "Both the training and testing loss curves show a consistent downward trend, indicating effective learning by the model.\n",
    "The training loss decreases more rapidly, showing the model's ability to fit the training data well.\n",
    "2. Gap Between Training and Testing Loss:\n",
    "\n",
    "There is a noticeable gap between the training and testing loss curves, which suggests some level of overfitting.\n",
    "The model performs better on the training set compared to the test set.\n",
    "3. No Significant Overfitting:\n",
    "\n",
    "Despite the gap, the testing loss continues to decrease smoothly without diverging, indicating that overfitting is not severe.\n",
    "The model maintains generalization to the test data.\n",
    "\n",
    "#### Potential for Further Improvement:\n",
    "\n",
    "Techniques like early stopping, regularization e.g. adjusting alpha or lambda or learning rate adjustments could reduce the gap and enhance generalization.\n",
    "Hyperparameter tuning can also be explored to find a better balance between bias and variance."
   ]
  },
  {
   "cell_type": "markdown",
   "metadata": {
    "id": "nxFo7JsxrbQH"
   },
   "source": [
    "# Conclusions and Recommendations"
   ]
  },
  {
   "cell_type": "markdown",
   "metadata": {},
   "source": [
    "## Conclusions Related to Business Questions:\n",
    "### The most common primary contributory causes identified were:\n",
    "    1. Failing to yield the right-of-way\n",
    "    2. Following too closely\n",
    "    3. Disregarding traffic signals\n",
    "    4. Improper overtaking/passing\n",
    "\n",
    "\n",
    "### How do road and weather conditions impact the likelihood of different accident causes?\n",
    "    We observe increased accidents occurence over claer weather and dry roads meaning people take advantage of good weather to drive carelessly.\n",
    "\n",
    "### Which car models are most prone to accidents.\n",
    "    We can see 60% of the top ten vehicles most prone to accidents are Japanese companies vehicles. TYhese vehicles are also the budget friendly vehicles.\n",
    "\n",
    "### Best model for primary crash cause.\n",
    "    XGBoost and Decision Trees were the primary models tested for predicting the primary contributory cause of accidents.\n",
    "    XGBoost outperformed Decision Trees in terms of accuracy, precision, recall, and AUC, indicating its superior ability to handle complex, non-linear relationships in the dataset.\n",
    "\n",
    "\n"
   ]
  },
  {
   "cell_type": "markdown",
   "metadata": {},
   "source": [
    "## Recommendations and Next Steps:\n",
    "### Implement targeted public awareness campaigns focusing on right-of-way rules and safe following distances.\n",
    "Increase enforcement at high-risk intersections and areas prone to signal violations.\n",
    "Enhance road design (e.g., better signage, dedicated turn lanes) to minimize overtaking risks.\n",
    "When and where do most accidents occur, and how can resources be allocated effectively?\n",
    "\n",
    "### Implement targeted public awareness campaigns focusing on educating drivers about right-of-way rules, safe following distances, and the importance of obeying traffic signals.\n",
    "Enhance law enforcement at high-risk intersections and areas prone to signal violations and improper overtaking.\n",
    "Introduce driver training programs emphasizing defensive driving techniques to reduce tailgating and aggressive driving behaviors.\n",
    "\n",
    "\n",
    "### Launch awareness initiatives that emphasize the importance of safe driving practices even in clear weather and dry road conditions.\n",
    "Deploy speed monitoring and enforcement systems in areas with high accident rates during good weather conditions to discourage reckless driving.\n",
    "Introduce variable speed limits that adjust based on traffic density and time of day to manage speeding during optimal weather conditions.\n",
    "\n",
    "\n",
    "### Collaborate with automotive manufacturers to enhance safety features in budget-friendly vehicles, especially those prone to accidents.\n",
    "Encourage the adoption of Advanced Driver Assistance Systems (ADAS) in popular Japanese models, such as automatic emergency braking and lane-keeping assistance.\n",
    "Educate consumers on vehicle safety ratings and promote safer driving behaviors regardless of the vehicle's cost or brand.\n",
    "\n",
    "\n",
    "### Utilize the XGBoost model for real-time accident cause predictions due to its superior accuracy and ability to handle complex data relationships.\n",
    "Integrate the model into traffic management systems to predict and mitigate high-risk scenarios in real-time.\n",
    "Continuously update and retrain the model using new accident data to maintain its accuracy and relevance.\n",
    "\n",
    "\n",
    "### Increase road safety audits and implement infrastructure improvements at high-risk intersections and accident-prone areas.\n",
    "Implement intelligent traffic signal controls in urban areas to optimize traffic flow and reduce collisions caused by traffic signal violations.\n",
    "Enhance cross-industry collaboration between city planners, law enforcement, automotive manufacturers, and insurance companies to create holistic safety solutions."
   ]
  },
  {
   "cell_type": "markdown",
   "metadata": {},
   "source": []
  },
  {
   "cell_type": "markdown",
   "metadata": {},
   "source": []
  }
 ],
 "metadata": {
  "colab": {
   "provenance": []
  },
  "kernelspec": {
   "display_name": "Python (learn-env)",
   "language": "python",
   "name": "learn-env"
  },
  "toc": {
   "base_numbering": 1,
   "nav_menu": {},
   "number_sections": true,
   "sideBar": true,
   "skip_h1_title": false,
   "title_cell": "Table of Contents",
   "title_sidebar": "Contents",
   "toc_cell": false,
   "toc_position": {},
   "toc_section_display": true,
   "toc_window_display": false
  }
 },
 "nbformat": 4,
 "nbformat_minor": 1
}
